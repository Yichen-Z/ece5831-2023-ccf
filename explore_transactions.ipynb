{
 "cells": [
  {
   "cell_type": "markdown",
   "metadata": {},
   "source": [
    "# Exploring Transactions Data"
   ]
  },
  {
   "cell_type": "markdown",
   "metadata": {},
   "source": [
    "Source: [IBM Synthetic Credit Card Transactions Dataset on Kaggle](https://www.kaggle.com/datasets/ealtman2019/credit-card-transactions)"
   ]
  },
  {
   "cell_type": "code",
   "execution_count": 1,
   "metadata": {},
   "outputs": [],
   "source": [
    "import joblib\n",
    "import numpy as np\n",
    "import pandas as pd\n",
    "pd.set_option('display.max_columns', 50)\n",
    "pd.set_option('display.float_format', lambda x: f\"{x:.2f}\")"
   ]
  },
  {
   "cell_type": "code",
   "execution_count": 2,
   "metadata": {},
   "outputs": [
    {
     "name": "stdout",
     "output_type": "stream",
     "text": [
      "<class 'pandas.core.frame.DataFrame'>\n",
      "Index: 24386900 entries, 1876265 to 363748\n",
      "Data columns (total 12 columns):\n",
      " #   Column          Dtype         \n",
      "---  ------          -----         \n",
      " 0   User            int32         \n",
      " 1   Card            int32         \n",
      " 2   Amount          float32       \n",
      " 3   Use_Chip        object        \n",
      " 4   Merchant_Name   int32         \n",
      " 5   Merchant_City   object        \n",
      " 6   Merchant_State  object        \n",
      " 7   Zip             float32       \n",
      " 8   MCC             int32         \n",
      " 9   Errors          object        \n",
      " 10  Is_Fraud        bool          \n",
      " 11  Datetime        datetime64[ns]\n",
      "dtypes: bool(1), datetime64[ns](1), float32(2), int32(4), object(4)\n",
      "memory usage: 1.7+ GB\n"
     ]
    }
   ],
   "source": [
    "# Only slim numeric fields down to 32-bit in attempt to prevent overflow issues later\n",
    "tdf = joblib.load('data/transactions')\n",
    "tdf.info()"
   ]
  },
  {
   "cell_type": "code",
   "execution_count": 33,
   "metadata": {},
   "outputs": [
    {
     "data": {
      "text/plain": [
       "Index(['User', 'Card', 'Amount', 'Merchant_Name', 'Zip', 'MCC'], dtype='object')"
      ]
     },
     "execution_count": 33,
     "metadata": {},
     "output_type": "execute_result"
    }
   ],
   "source": [
    "tdf.select_dtypes(include=[np.number]).columns"
   ]
  },
  {
   "cell_type": "code",
   "execution_count": 38,
   "metadata": {},
   "outputs": [
    {
     "data": {
      "text/plain": [
       "255"
      ]
     },
     "execution_count": 38,
     "metadata": {},
     "output_type": "execute_result"
    }
   ],
   "source": [
    "np.iinfo(np.uint8).max"
   ]
  },
  {
   "cell_type": "markdown",
   "metadata": {},
   "source": [
    "## Pre-Process"
   ]
  },
  {
   "cell_type": "code",
   "execution_count": 2,
   "metadata": {},
   "outputs": [],
   "source": [
    "COL_NAMES = ['User','Card','Year','Month','Day','Time','Amount','Use_Chip',\n",
    "                 'Merchant_Name','Merchant_City','Merchant_State','Zip','MCC','Errors','Is_Fraud']\n",
    "PARSE_DATES = ['Year', 'Month', 'Day', 'Time']"
   ]
  },
  {
   "cell_type": "code",
   "execution_count": 3,
   "metadata": {},
   "outputs": [],
   "source": [
    "temp_df = pd.read_csv('data/split/part00.csv', header=None, names=COL_NAMES)"
   ]
  },
  {
   "cell_type": "code",
   "execution_count": 4,
   "metadata": {},
   "outputs": [
    {
     "name": "stdout",
     "output_type": "stream",
     "text": [
      "<class 'pandas.core.frame.DataFrame'>\n",
      "RangeIndex: 2439999 entries, 0 to 2439998\n",
      "Data columns (total 15 columns):\n",
      " #   Column          Dtype  \n",
      "---  ------          -----  \n",
      " 0   User            int64  \n",
      " 1   Card            int64  \n",
      " 2   Year            int64  \n",
      " 3   Month           int64  \n",
      " 4   Day             int64  \n",
      " 5   Time            object \n",
      " 6   Amount          object \n",
      " 7   Use_Chip        object \n",
      " 8   Merchant_Name   int64  \n",
      " 9   Merchant_City   object \n",
      " 10  Merchant_State  object \n",
      " 11  Zip             float64\n",
      " 12  MCC             int64  \n",
      " 13  Errors          object \n",
      " 14  Is_Fraud        object \n",
      "dtypes: float64(1), int64(7), object(7)\n",
      "memory usage: 279.2+ MB\n"
     ]
    }
   ],
   "source": [
    "temp_df.info()"
   ]
  },
  {
   "cell_type": "code",
   "execution_count": 14,
   "metadata": {},
   "outputs": [],
   "source": [
    "def get_slimmed_numerics(df: pd.DataFrame, basic: bool) -> pd.DataFrame:\n",
    "    \"\"\"Adapted from Konrad Banachewicz reduce_mem_usage\"\"\"\n",
    "    if basic:\n",
    "        df = df.astype({col: 'int32' for col in df.select_dtypes('int64').columns})\n",
    "        df = df.astype({col: 'float32' for col in df.select_dtypes('float64').columns})\n",
    "    else:\n",
    "        for col in df.select_dtypes(include=[np.number]).columns:\n",
    "            col_type = df[col].dtype\n",
    "            col_min = df[col].min()\n",
    "            col_max = df[col].max()\n",
    "            if str(col_type)[:3] == 'int':\n",
    "                if col_min >= np.iinfo(np.int8).min and col_max <= np.iinfo(np.int8).max:\n",
    "                    df[col] = df[col].astype(np.int8)\n",
    "                elif col_min >= np.iinfo(np.int16).min and col_max <= np.iinfo(np.int16).max:\n",
    "                    df[col] = df[col].astype(np.int16)\n",
    "                elif col_min >= np.iinfo(np.int32).min and col_max <= np.iinfo(np.int32).max:\n",
    "                    df[col] = df[col].astype(np.int32)\n",
    "                elif col_min >= np.iinfo(np.int64).min and col_max <= np.iinfo(np.int64).max:\n",
    "                    df[col] = df[col].astype(np.int64)\n",
    "            else:\n",
    "                if col_min >= np.finfo(np.float16).min and col_max <= np.finfo(np.float16).max:\n",
    "                    df[col] = df[col].astype(np.float16)\n",
    "                elif col_min >= np.finfo(np.float32).min and col_max <= np.finfo(np.float32).max:\n",
    "                    df[col] = df[col].astype(np.float32)\n",
    "                elif col_min >= np.finfo(np.float64).min and col_max <= np.finfo(np.float64).max:\n",
    "                    df[col] = df[col].astype(np.float64)\n",
    "    return df"
   ]
  },
  {
   "cell_type": "code",
   "execution_count": 16,
   "metadata": {},
   "outputs": [
    {
     "data": {
      "text/plain": [
       "-65500.0"
      ]
     },
     "execution_count": 16,
     "metadata": {},
     "output_type": "execute_result"
    }
   ],
   "source": [
    "np.finfo(np.float16).min"
   ]
  },
  {
   "cell_type": "code",
   "execution_count": 17,
   "metadata": {},
   "outputs": [
    {
     "name": "stdout",
     "output_type": "stream",
     "text": [
      "<class 'pandas.core.frame.DataFrame'>\n",
      "RangeIndex: 2439999 entries, 0 to 2439998\n",
      "Data columns (total 15 columns):\n",
      " #   Column          Dtype  \n",
      "---  ------          -----  \n",
      " 0   User            int16  \n",
      " 1   Card            int8   \n",
      " 2   Year            int16  \n",
      " 3   Month           int8   \n",
      " 4   Day             int8   \n",
      " 5   Time            object \n",
      " 6   Amount          object \n",
      " 7   Use_Chip        object \n",
      " 8   Merchant_Name   int64  \n",
      " 9   Merchant_City   object \n",
      " 10  Merchant_State  object \n",
      " 11  Zip             float32\n",
      " 12  MCC             int16  \n",
      " 13  Errors          object \n",
      " 14  Is_Fraud        object \n",
      "dtypes: float32(1), int16(3), int64(1), int8(3), object(7)\n",
      "memory usage: 179.2+ MB\n"
     ]
    }
   ],
   "source": [
    "temp_df = get_slimmed_numerics(df=temp_df, basic=False)\n",
    "temp_df.info()"
   ]
  },
  {
   "cell_type": "code",
   "execution_count": 9,
   "metadata": {},
   "outputs": [],
   "source": [
    "from src import process_data"
   ]
  },
  {
   "cell_type": "code",
   "execution_count": 10,
   "metadata": {},
   "outputs": [
    {
     "name": "stdout",
     "output_type": "stream",
     "text": [
      "<class 'pandas.core.frame.DataFrame'>\n",
      "RangeIndex: 2475063 entries, 0 to 2475062\n",
      "Data columns (total 12 columns):\n",
      " #   Column          Dtype         \n",
      "---  ------          -----         \n",
      " 0   User            int64         \n",
      " 1   Card            int64         \n",
      " 2   Amount          object        \n",
      " 3   Use_Chip        object        \n",
      " 4   Merchant_Name   float64       \n",
      " 5   Merchant_City   object        \n",
      " 6   Merchant_State  object        \n",
      " 7   Zip             float64       \n",
      " 8   MCC             float64       \n",
      " 9   Errors          object        \n",
      " 10  Is_Fraud        object        \n",
      " 11  Datetime        datetime64[ns]\n",
      "dtypes: datetime64[ns](1), float64(3), int64(2), object(6)\n",
      "memory usage: 226.6+ MB\n"
     ]
    }
   ],
   "source": [
    "process_data.combine_date_cols(columns=PARSE_DATES, result_col='Datetime', df=temp_df)\n",
    "temp_df.info()"
   ]
  },
  {
   "cell_type": "code",
   "execution_count": 19,
   "metadata": {},
   "outputs": [
    {
     "data": {
      "text/plain": [
       "count     2475062\n",
       "unique      44915\n",
       "top        $80.00\n",
       "freq        19255\n",
       "Name: Amount, dtype: object"
      ]
     },
     "execution_count": 19,
     "metadata": {},
     "output_type": "execute_result"
    }
   ],
   "source": [
    "temp_df.Amount.describe()"
   ]
  },
  {
   "cell_type": "code",
   "execution_count": 11,
   "metadata": {},
   "outputs": [
    {
     "data": {
      "text/html": [
       "<div>\n",
       "<style scoped>\n",
       "    .dataframe tbody tr th:only-of-type {\n",
       "        vertical-align: middle;\n",
       "    }\n",
       "\n",
       "    .dataframe tbody tr th {\n",
       "        vertical-align: top;\n",
       "    }\n",
       "\n",
       "    .dataframe thead th {\n",
       "        text-align: right;\n",
       "    }\n",
       "</style>\n",
       "<table border=\"1\" class=\"dataframe\">\n",
       "  <thead>\n",
       "    <tr style=\"text-align: right;\">\n",
       "      <th></th>\n",
       "      <th>User</th>\n",
       "      <th>Card</th>\n",
       "      <th>Amount</th>\n",
       "      <th>Use_Chip</th>\n",
       "      <th>Merchant_Name</th>\n",
       "      <th>Merchant_City</th>\n",
       "      <th>Merchant_State</th>\n",
       "      <th>Zip</th>\n",
       "      <th>MCC</th>\n",
       "      <th>Errors</th>\n",
       "      <th>Is_Fraud</th>\n",
       "      <th>Datetime</th>\n",
       "    </tr>\n",
       "  </thead>\n",
       "  <tbody>\n",
       "    <tr>\n",
       "      <th>89439</th>\n",
       "      <td>4</td>\n",
       "      <td>0</td>\n",
       "      <td>$42.90</td>\n",
       "      <td>Swipe Transaction</td>\n",
       "      <td>112925206871091072.00</td>\n",
       "      <td>San Francisco</td>\n",
       "      <td>CA</td>\n",
       "      <td>94117.00</td>\n",
       "      <td>5541.00</td>\n",
       "      <td>NaN</td>\n",
       "      <td>No</td>\n",
       "      <td>2009-05-20 06:52:00</td>\n",
       "    </tr>\n",
       "    <tr>\n",
       "      <th>133587</th>\n",
       "      <td>6</td>\n",
       "      <td>0</td>\n",
       "      <td>$24.48</td>\n",
       "      <td>Swipe Transaction</td>\n",
       "      <td>-5475680618560174080.00</td>\n",
       "      <td>Georgetown</td>\n",
       "      <td>KY</td>\n",
       "      <td>40324.00</td>\n",
       "      <td>5942.00</td>\n",
       "      <td>NaN</td>\n",
       "      <td>No</td>\n",
       "      <td>2013-08-11 06:20:00</td>\n",
       "    </tr>\n",
       "    <tr>\n",
       "      <th>1010178</th>\n",
       "      <td>75</td>\n",
       "      <td>1</td>\n",
       "      <td>$2.40</td>\n",
       "      <td>Swipe Transaction</td>\n",
       "      <td>-5475680618560174080.00</td>\n",
       "      <td>Fayette</td>\n",
       "      <td>AL</td>\n",
       "      <td>35555.00</td>\n",
       "      <td>5942.00</td>\n",
       "      <td>NaN</td>\n",
       "      <td>No</td>\n",
       "      <td>2008-06-15 14:19:00</td>\n",
       "    </tr>\n",
       "  </tbody>\n",
       "</table>\n",
       "</div>"
      ],
      "text/plain": [
       "         User  Card  Amount           Use_Chip           Merchant_Name  \\\n",
       "89439       4     0  $42.90  Swipe Transaction   112925206871091072.00   \n",
       "133587      6     0  $24.48  Swipe Transaction -5475680618560174080.00   \n",
       "1010178    75     1   $2.40  Swipe Transaction -5475680618560174080.00   \n",
       "\n",
       "         Merchant_City Merchant_State      Zip     MCC Errors Is_Fraud  \\\n",
       "89439    San Francisco             CA 94117.00 5541.00    NaN       No   \n",
       "133587      Georgetown             KY 40324.00 5942.00    NaN       No   \n",
       "1010178        Fayette             AL 35555.00 5942.00    NaN       No   \n",
       "\n",
       "                   Datetime  \n",
       "89439   2009-05-20 06:52:00  \n",
       "133587  2013-08-11 06:20:00  \n",
       "1010178 2008-06-15 14:19:00  "
      ]
     },
     "execution_count": 11,
     "metadata": {},
     "output_type": "execute_result"
    }
   ],
   "source": [
    "temp_df.sample(n=3)"
   ]
  },
  {
   "cell_type": "code",
   "execution_count": 20,
   "metadata": {},
   "outputs": [],
   "source": [
    "def get_numeric_amount(df: pd.DataFrame) -> None:\n",
    "    df['Amount'] = df['Amount'].apply(lambda value: float(str(value)[1:]))\n",
    "    df['Amount'] = df['Amount'].astype('float32')"
   ]
  },
  {
   "cell_type": "code",
   "execution_count": 25,
   "metadata": {},
   "outputs": [
    {
     "data": {
      "text/html": [
       "<div>\n",
       "<style scoped>\n",
       "    .dataframe tbody tr th:only-of-type {\n",
       "        vertical-align: middle;\n",
       "    }\n",
       "\n",
       "    .dataframe tbody tr th {\n",
       "        vertical-align: top;\n",
       "    }\n",
       "\n",
       "    .dataframe thead th {\n",
       "        text-align: right;\n",
       "    }\n",
       "</style>\n",
       "<table border=\"1\" class=\"dataframe\">\n",
       "  <thead>\n",
       "    <tr style=\"text-align: right;\">\n",
       "      <th></th>\n",
       "      <th>User</th>\n",
       "      <th>Card</th>\n",
       "      <th>Amount</th>\n",
       "      <th>Use_Chip</th>\n",
       "      <th>Merchant_Name</th>\n",
       "      <th>Merchant_City</th>\n",
       "      <th>Merchant_State</th>\n",
       "      <th>Zip</th>\n",
       "      <th>MCC</th>\n",
       "      <th>Errors</th>\n",
       "      <th>Is_Fraud</th>\n",
       "      <th>Datetime</th>\n",
       "    </tr>\n",
       "  </thead>\n",
       "  <tbody>\n",
       "    <tr>\n",
       "      <th>2475062</th>\n",
       "      <td>205</td>\n",
       "      <td>3</td>\n",
       "      <td>NaN</td>\n",
       "      <td>NaN</td>\n",
       "      <td>NaN</td>\n",
       "      <td>NaN</td>\n",
       "      <td>NaN</td>\n",
       "      <td>NaN</td>\n",
       "      <td>NaN</td>\n",
       "      <td>NaN</td>\n",
       "      <td>NaN</td>\n",
       "      <td>NaT</td>\n",
       "    </tr>\n",
       "  </tbody>\n",
       "</table>\n",
       "</div>"
      ],
      "text/plain": [
       "         User  Card Amount Use_Chip  Merchant_Name Merchant_City  \\\n",
       "2475062   205     3    NaN      NaN            NaN           NaN   \n",
       "\n",
       "        Merchant_State  Zip  MCC Errors Is_Fraud Datetime  \n",
       "2475062            NaN  NaN  NaN    NaN      NaN      NaT  "
      ]
     },
     "execution_count": 25,
     "metadata": {},
     "output_type": "execute_result"
    }
   ],
   "source": [
    "# If using -n instead -l (number of files, instead of by lines in each file) to split a file, this can create splits into partial lines\n",
    "# ONLY USE -l --> updated data/split_transactions.sh to fix\n",
    "temp_df.loc[temp_df['Amount'].isna()]"
   ]
  },
  {
   "cell_type": "code",
   "execution_count": 21,
   "metadata": {},
   "outputs": [
    {
     "ename": "ValueError",
     "evalue": "could not convert string to float: 'an'",
     "output_type": "error",
     "traceback": [
      "\u001b[0;31m---------------------------------------------------------------------------\u001b[0m",
      "\u001b[0;31mValueError\u001b[0m                                Traceback (most recent call last)",
      "\u001b[1;32m/home/yichenzhang/ece_5831/ece5831-2023-ccf/explore_transactions.ipynb Cell 15\u001b[0m line \u001b[0;36m1\n\u001b[0;32m----> <a href='vscode-notebook-cell:/home/yichenzhang/ece_5831/ece5831-2023-ccf/explore_transactions.ipynb#Y110sZmlsZQ%3D%3D?line=0'>1</a>\u001b[0m get_numeric_amount(df\u001b[39m=\u001b[39;49mtemp_df)\n\u001b[1;32m      <a href='vscode-notebook-cell:/home/yichenzhang/ece_5831/ece5831-2023-ccf/explore_transactions.ipynb#Y110sZmlsZQ%3D%3D?line=1'>2</a>\u001b[0m temp_df\u001b[39m.\u001b[39minfo()\n",
      "\u001b[1;32m/home/yichenzhang/ece_5831/ece5831-2023-ccf/explore_transactions.ipynb Cell 15\u001b[0m line \u001b[0;36m2\n\u001b[1;32m      <a href='vscode-notebook-cell:/home/yichenzhang/ece_5831/ece5831-2023-ccf/explore_transactions.ipynb#Y110sZmlsZQ%3D%3D?line=0'>1</a>\u001b[0m \u001b[39mdef\u001b[39;00m \u001b[39mget_numeric_amount\u001b[39m(df: pd\u001b[39m.\u001b[39mDataFrame) \u001b[39m-\u001b[39m\u001b[39m>\u001b[39m \u001b[39mNone\u001b[39;00m:\n\u001b[0;32m----> <a href='vscode-notebook-cell:/home/yichenzhang/ece_5831/ece5831-2023-ccf/explore_transactions.ipynb#Y110sZmlsZQ%3D%3D?line=1'>2</a>\u001b[0m     df[\u001b[39m'\u001b[39m\u001b[39mAmount\u001b[39m\u001b[39m'\u001b[39m] \u001b[39m=\u001b[39m df[\u001b[39m'\u001b[39;49m\u001b[39mAmount\u001b[39;49m\u001b[39m'\u001b[39;49m]\u001b[39m.\u001b[39;49mapply(\u001b[39mlambda\u001b[39;49;00m value: \u001b[39mfloat\u001b[39;49m(\u001b[39mstr\u001b[39;49m(value)[\u001b[39m1\u001b[39;49m:]))\n\u001b[1;32m      <a href='vscode-notebook-cell:/home/yichenzhang/ece_5831/ece5831-2023-ccf/explore_transactions.ipynb#Y110sZmlsZQ%3D%3D?line=2'>3</a>\u001b[0m     df[\u001b[39m'\u001b[39m\u001b[39mAmount\u001b[39m\u001b[39m'\u001b[39m] \u001b[39m=\u001b[39m df[\u001b[39m'\u001b[39m\u001b[39mAmount\u001b[39m\u001b[39m'\u001b[39m]\u001b[39m.\u001b[39mastype(\u001b[39m'\u001b[39m\u001b[39mfloat32\u001b[39m\u001b[39m'\u001b[39m)\n",
      "File \u001b[0;32m~/anaconda3/envs/ece5831-py3.10/lib/python3.10/site-packages/pandas/core/series.py:4760\u001b[0m, in \u001b[0;36mSeries.apply\u001b[0;34m(self, func, convert_dtype, args, by_row, **kwargs)\u001b[0m\n\u001b[1;32m   4625\u001b[0m \u001b[39mdef\u001b[39;00m \u001b[39mapply\u001b[39m(\n\u001b[1;32m   4626\u001b[0m     \u001b[39mself\u001b[39m,\n\u001b[1;32m   4627\u001b[0m     func: AggFuncType,\n\u001b[0;32m   (...)\u001b[0m\n\u001b[1;32m   4632\u001b[0m     \u001b[39m*\u001b[39m\u001b[39m*\u001b[39mkwargs,\n\u001b[1;32m   4633\u001b[0m ) \u001b[39m-\u001b[39m\u001b[39m>\u001b[39m DataFrame \u001b[39m|\u001b[39m Series:\n\u001b[1;32m   4634\u001b[0m \u001b[39m    \u001b[39m\u001b[39m\"\"\"\u001b[39;00m\n\u001b[1;32m   4635\u001b[0m \u001b[39m    Invoke function on values of Series.\u001b[39;00m\n\u001b[1;32m   4636\u001b[0m \n\u001b[0;32m   (...)\u001b[0m\n\u001b[1;32m   4751\u001b[0m \u001b[39m    dtype: float64\u001b[39;00m\n\u001b[1;32m   4752\u001b[0m \u001b[39m    \"\"\"\u001b[39;00m\n\u001b[1;32m   4753\u001b[0m     \u001b[39mreturn\u001b[39;00m SeriesApply(\n\u001b[1;32m   4754\u001b[0m         \u001b[39mself\u001b[39;49m,\n\u001b[1;32m   4755\u001b[0m         func,\n\u001b[1;32m   4756\u001b[0m         convert_dtype\u001b[39m=\u001b[39;49mconvert_dtype,\n\u001b[1;32m   4757\u001b[0m         by_row\u001b[39m=\u001b[39;49mby_row,\n\u001b[1;32m   4758\u001b[0m         args\u001b[39m=\u001b[39;49margs,\n\u001b[1;32m   4759\u001b[0m         kwargs\u001b[39m=\u001b[39;49mkwargs,\n\u001b[0;32m-> 4760\u001b[0m     )\u001b[39m.\u001b[39;49mapply()\n",
      "File \u001b[0;32m~/anaconda3/envs/ece5831-py3.10/lib/python3.10/site-packages/pandas/core/apply.py:1207\u001b[0m, in \u001b[0;36mSeriesApply.apply\u001b[0;34m(self)\u001b[0m\n\u001b[1;32m   1204\u001b[0m     \u001b[39mreturn\u001b[39;00m \u001b[39mself\u001b[39m\u001b[39m.\u001b[39mapply_compat()\n\u001b[1;32m   1206\u001b[0m \u001b[39m# self.func is Callable\u001b[39;00m\n\u001b[0;32m-> 1207\u001b[0m \u001b[39mreturn\u001b[39;00m \u001b[39mself\u001b[39;49m\u001b[39m.\u001b[39;49mapply_standard()\n",
      "File \u001b[0;32m~/anaconda3/envs/ece5831-py3.10/lib/python3.10/site-packages/pandas/core/apply.py:1287\u001b[0m, in \u001b[0;36mSeriesApply.apply_standard\u001b[0;34m(self)\u001b[0m\n\u001b[1;32m   1281\u001b[0m \u001b[39m# row-wise access\u001b[39;00m\n\u001b[1;32m   1282\u001b[0m \u001b[39m# apply doesn't have a `na_action` keyword and for backward compat reasons\u001b[39;00m\n\u001b[1;32m   1283\u001b[0m \u001b[39m# we need to give `na_action=\"ignore\"` for categorical data.\u001b[39;00m\n\u001b[1;32m   1284\u001b[0m \u001b[39m# TODO: remove the `na_action=\"ignore\"` when that default has been changed in\u001b[39;00m\n\u001b[1;32m   1285\u001b[0m \u001b[39m#  Categorical (GH51645).\u001b[39;00m\n\u001b[1;32m   1286\u001b[0m action \u001b[39m=\u001b[39m \u001b[39m\"\u001b[39m\u001b[39mignore\u001b[39m\u001b[39m\"\u001b[39m \u001b[39mif\u001b[39;00m \u001b[39misinstance\u001b[39m(obj\u001b[39m.\u001b[39mdtype, CategoricalDtype) \u001b[39melse\u001b[39;00m \u001b[39mNone\u001b[39;00m\n\u001b[0;32m-> 1287\u001b[0m mapped \u001b[39m=\u001b[39m obj\u001b[39m.\u001b[39;49m_map_values(\n\u001b[1;32m   1288\u001b[0m     mapper\u001b[39m=\u001b[39;49mcurried, na_action\u001b[39m=\u001b[39;49maction, convert\u001b[39m=\u001b[39;49m\u001b[39mself\u001b[39;49m\u001b[39m.\u001b[39;49mconvert_dtype\n\u001b[1;32m   1289\u001b[0m )\n\u001b[1;32m   1291\u001b[0m \u001b[39mif\u001b[39;00m \u001b[39mlen\u001b[39m(mapped) \u001b[39mand\u001b[39;00m \u001b[39misinstance\u001b[39m(mapped[\u001b[39m0\u001b[39m], ABCSeries):\n\u001b[1;32m   1292\u001b[0m     \u001b[39m# GH#43986 Need to do list(mapped) in order to get treated as nested\u001b[39;00m\n\u001b[1;32m   1293\u001b[0m     \u001b[39m#  See also GH#25959 regarding EA support\u001b[39;00m\n\u001b[1;32m   1294\u001b[0m     \u001b[39mreturn\u001b[39;00m obj\u001b[39m.\u001b[39m_constructor_expanddim(\u001b[39mlist\u001b[39m(mapped), index\u001b[39m=\u001b[39mobj\u001b[39m.\u001b[39mindex)\n",
      "File \u001b[0;32m~/anaconda3/envs/ece5831-py3.10/lib/python3.10/site-packages/pandas/core/base.py:921\u001b[0m, in \u001b[0;36mIndexOpsMixin._map_values\u001b[0;34m(self, mapper, na_action, convert)\u001b[0m\n\u001b[1;32m    918\u001b[0m \u001b[39mif\u001b[39;00m \u001b[39misinstance\u001b[39m(arr, ExtensionArray):\n\u001b[1;32m    919\u001b[0m     \u001b[39mreturn\u001b[39;00m arr\u001b[39m.\u001b[39mmap(mapper, na_action\u001b[39m=\u001b[39mna_action)\n\u001b[0;32m--> 921\u001b[0m \u001b[39mreturn\u001b[39;00m algorithms\u001b[39m.\u001b[39;49mmap_array(arr, mapper, na_action\u001b[39m=\u001b[39;49mna_action, convert\u001b[39m=\u001b[39;49mconvert)\n",
      "File \u001b[0;32m~/anaconda3/envs/ece5831-py3.10/lib/python3.10/site-packages/pandas/core/algorithms.py:1814\u001b[0m, in \u001b[0;36mmap_array\u001b[0;34m(arr, mapper, na_action, convert)\u001b[0m\n\u001b[1;32m   1812\u001b[0m values \u001b[39m=\u001b[39m arr\u001b[39m.\u001b[39mastype(\u001b[39mobject\u001b[39m, copy\u001b[39m=\u001b[39m\u001b[39mFalse\u001b[39;00m)\n\u001b[1;32m   1813\u001b[0m \u001b[39mif\u001b[39;00m na_action \u001b[39mis\u001b[39;00m \u001b[39mNone\u001b[39;00m:\n\u001b[0;32m-> 1814\u001b[0m     \u001b[39mreturn\u001b[39;00m lib\u001b[39m.\u001b[39;49mmap_infer(values, mapper, convert\u001b[39m=\u001b[39;49mconvert)\n\u001b[1;32m   1815\u001b[0m \u001b[39melse\u001b[39;00m:\n\u001b[1;32m   1816\u001b[0m     \u001b[39mreturn\u001b[39;00m lib\u001b[39m.\u001b[39mmap_infer_mask(\n\u001b[1;32m   1817\u001b[0m         values, mapper, mask\u001b[39m=\u001b[39misna(values)\u001b[39m.\u001b[39mview(np\u001b[39m.\u001b[39muint8), convert\u001b[39m=\u001b[39mconvert\n\u001b[1;32m   1818\u001b[0m     )\n",
      "File \u001b[0;32mlib.pyx:2917\u001b[0m, in \u001b[0;36mpandas._libs.lib.map_infer\u001b[0;34m()\u001b[0m\n",
      "\u001b[1;32m/home/yichenzhang/ece_5831/ece5831-2023-ccf/explore_transactions.ipynb Cell 15\u001b[0m line \u001b[0;36m2\n\u001b[1;32m      <a href='vscode-notebook-cell:/home/yichenzhang/ece_5831/ece5831-2023-ccf/explore_transactions.ipynb#Y110sZmlsZQ%3D%3D?line=0'>1</a>\u001b[0m \u001b[39mdef\u001b[39;00m \u001b[39mget_numeric_amount\u001b[39m(df: pd\u001b[39m.\u001b[39mDataFrame) \u001b[39m-\u001b[39m\u001b[39m>\u001b[39m \u001b[39mNone\u001b[39;00m:\n\u001b[0;32m----> <a href='vscode-notebook-cell:/home/yichenzhang/ece_5831/ece5831-2023-ccf/explore_transactions.ipynb#Y110sZmlsZQ%3D%3D?line=1'>2</a>\u001b[0m     df[\u001b[39m'\u001b[39m\u001b[39mAmount\u001b[39m\u001b[39m'\u001b[39m] \u001b[39m=\u001b[39m df[\u001b[39m'\u001b[39m\u001b[39mAmount\u001b[39m\u001b[39m'\u001b[39m]\u001b[39m.\u001b[39mapply(\u001b[39mlambda\u001b[39;00m value: \u001b[39mfloat\u001b[39;49m(\u001b[39mstr\u001b[39;49m(value)[\u001b[39m1\u001b[39;49m:]))\n\u001b[1;32m      <a href='vscode-notebook-cell:/home/yichenzhang/ece_5831/ece5831-2023-ccf/explore_transactions.ipynb#Y110sZmlsZQ%3D%3D?line=2'>3</a>\u001b[0m     df[\u001b[39m'\u001b[39m\u001b[39mAmount\u001b[39m\u001b[39m'\u001b[39m] \u001b[39m=\u001b[39m df[\u001b[39m'\u001b[39m\u001b[39mAmount\u001b[39m\u001b[39m'\u001b[39m]\u001b[39m.\u001b[39mastype(\u001b[39m'\u001b[39m\u001b[39mfloat32\u001b[39m\u001b[39m'\u001b[39m)\n",
      "\u001b[0;31mValueError\u001b[0m: could not convert string to float: 'an'"
     ]
    }
   ],
   "source": [
    "# To make process_data script more robust for other datasets (this one doesn't have NaN in Amounts) make sure to drop NaN as appropriate\n",
    "get_numeric_amount(df=temp_df)\n",
    "temp_df.info()"
   ]
  },
  {
   "cell_type": "code",
   "execution_count": 5,
   "metadata": {},
   "outputs": [],
   "source": [
    "\n",
    "tdf = process_data.save_space(tdf)"
   ]
  },
  {
   "cell_type": "code",
   "execution_count": 6,
   "metadata": {},
   "outputs": [
    {
     "name": "stdout",
     "output_type": "stream",
     "text": [
      "<class 'pandas.core.frame.DataFrame'>\n",
      "RangeIndex: 2439999 entries, 0 to 2439998\n",
      "Data columns (total 12 columns):\n",
      " #   Column          Dtype         \n",
      "---  ------          -----         \n",
      " 0   User            int32         \n",
      " 1   Card            int32         \n",
      " 2   Amount          float32       \n",
      " 3   Use_Chip        object        \n",
      " 4   Merchant_Name   int32         \n",
      " 5   Merchant_City   object        \n",
      " 6   Merchant_State  object        \n",
      " 7   Zip             float32       \n",
      " 8   MCC             int32         \n",
      " 9   Errors          object        \n",
      " 10  Is_Fraud        object        \n",
      " 11  Datetime        datetime64[ns]\n",
      "dtypes: datetime64[ns](1), float32(2), int32(4), object(5)\n",
      "memory usage: 167.5+ MB\n"
     ]
    }
   ],
   "source": [
    "tdf.info()"
   ]
  },
  {
   "cell_type": "code",
   "execution_count": 7,
   "metadata": {},
   "outputs": [
    {
     "data": {
      "text/html": [
       "<div>\n",
       "<style scoped>\n",
       "    .dataframe tbody tr th:only-of-type {\n",
       "        vertical-align: middle;\n",
       "    }\n",
       "\n",
       "    .dataframe tbody tr th {\n",
       "        vertical-align: top;\n",
       "    }\n",
       "\n",
       "    .dataframe thead th {\n",
       "        text-align: right;\n",
       "    }\n",
       "</style>\n",
       "<table border=\"1\" class=\"dataframe\">\n",
       "  <thead>\n",
       "    <tr style=\"text-align: right;\">\n",
       "      <th></th>\n",
       "      <th>User</th>\n",
       "      <th>Card</th>\n",
       "      <th>Amount</th>\n",
       "      <th>Use_Chip</th>\n",
       "      <th>Merchant_Name</th>\n",
       "      <th>Merchant_City</th>\n",
       "      <th>Merchant_State</th>\n",
       "      <th>Zip</th>\n",
       "      <th>MCC</th>\n",
       "      <th>Errors</th>\n",
       "      <th>Is_Fraud</th>\n",
       "      <th>Datetime</th>\n",
       "    </tr>\n",
       "  </thead>\n",
       "  <tbody>\n",
       "    <tr>\n",
       "      <th>0</th>\n",
       "      <td>0</td>\n",
       "      <td>0</td>\n",
       "      <td>134.09</td>\n",
       "      <td>Swipe</td>\n",
       "      <td>1719741273</td>\n",
       "      <td>La Verne</td>\n",
       "      <td>CA</td>\n",
       "      <td>91750.00</td>\n",
       "      <td>5300</td>\n",
       "      <td>NaN</td>\n",
       "      <td>No</td>\n",
       "      <td>2002-09-01 06:21:00</td>\n",
       "    </tr>\n",
       "    <tr>\n",
       "      <th>1</th>\n",
       "      <td>0</td>\n",
       "      <td>0</td>\n",
       "      <td>38.48</td>\n",
       "      <td>Swipe</td>\n",
       "      <td>1102623989</td>\n",
       "      <td>Monterey Park</td>\n",
       "      <td>CA</td>\n",
       "      <td>91754.00</td>\n",
       "      <td>5411</td>\n",
       "      <td>NaN</td>\n",
       "      <td>No</td>\n",
       "      <td>2002-09-01 06:42:00</td>\n",
       "    </tr>\n",
       "    <tr>\n",
       "      <th>2</th>\n",
       "      <td>0</td>\n",
       "      <td>0</td>\n",
       "      <td>120.34</td>\n",
       "      <td>Swipe</td>\n",
       "      <td>1102623989</td>\n",
       "      <td>Monterey Park</td>\n",
       "      <td>CA</td>\n",
       "      <td>91754.00</td>\n",
       "      <td>5411</td>\n",
       "      <td>NaN</td>\n",
       "      <td>No</td>\n",
       "      <td>2002-09-02 06:22:00</td>\n",
       "    </tr>\n",
       "  </tbody>\n",
       "</table>\n",
       "</div>"
      ],
      "text/plain": [
       "   User  Card  Amount Use_Chip  Merchant_Name  Merchant_City Merchant_State  \\\n",
       "0     0     0  134.09    Swipe     1719741273       La Verne             CA   \n",
       "1     0     0   38.48    Swipe     1102623989  Monterey Park             CA   \n",
       "2     0     0  120.34    Swipe     1102623989  Monterey Park             CA   \n",
       "\n",
       "       Zip   MCC Errors Is_Fraud            Datetime  \n",
       "0 91750.00  5300    NaN       No 2002-09-01 06:21:00  \n",
       "1 91754.00  5411    NaN       No 2002-09-01 06:42:00  \n",
       "2 91754.00  5411    NaN       No 2002-09-02 06:22:00  "
      ]
     },
     "execution_count": 7,
     "metadata": {},
     "output_type": "execute_result"
    }
   ],
   "source": [
    "tdf.head(3)"
   ]
  },
  {
   "cell_type": "code",
   "execution_count": 8,
   "metadata": {},
   "outputs": [
    {
     "name": "stdout",
     "output_type": "stream",
     "text": [
      "<class 'pandas.core.frame.DataFrame'>\n",
      "RangeIndex: 2439999 entries, 0 to 2439998\n",
      "Data columns (total 12 columns):\n",
      " #   Column          Dtype         \n",
      "---  ------          -----         \n",
      " 0   User            int8          \n",
      " 1   Card            int8          \n",
      " 2   Amount          float32       \n",
      " 3   Use_Chip        object        \n",
      " 4   Merchant_Name   int32         \n",
      " 5   Merchant_City   object        \n",
      " 6   Merchant_State  object        \n",
      " 7   Zip             float32       \n",
      " 8   MCC             int32         \n",
      " 9   Errors          object        \n",
      " 10  Is_Fraud        object        \n",
      " 11  Datetime        datetime64[ns]\n",
      "dtypes: datetime64[ns](1), float32(2), int32(2), int8(2), object(5)\n",
      "memory usage: 153.6+ MB\n"
     ]
    }
   ],
   "source": [
    "# tdf['User'] = tdf['User'].astype(np.int8) # There are 2000 simulated customers, so reverted these back to int32\n",
    "tdf['Card'] = tdf['Card'].astype(np.int8)\n",
    "tdf.info()"
   ]
  },
  {
   "cell_type": "code",
   "execution_count": 10,
   "metadata": {},
   "outputs": [
    {
     "name": "stdout",
     "output_type": "stream",
     "text": [
      "<class 'pandas.core.frame.DataFrame'>\n",
      "RangeIndex: 24386900 entries, 0 to 24386899\n",
      "Data columns (total 14 columns):\n",
      " #   Column          Dtype  \n",
      "---  ------          -----  \n",
      " 0   User            int32  \n",
      " 1   Card            int32  \n",
      " 2   Year            int32  \n",
      " 3   Month           int32  \n",
      " 4   Day             int32  \n",
      " 5   Time            object \n",
      " 6   Amount          float32\n",
      " 7   Use Chip        object \n",
      " 8   Merchant City   object \n",
      " 9   Merchant State  object \n",
      " 10  Zip             float32\n",
      " 11  MCC             int32  \n",
      " 12  Errors?         object \n",
      " 13  Is Fraud?       object \n",
      "dtypes: float32(2), int32(6), object(6)\n",
      "memory usage: 1.8+ GB\n"
     ]
    }
   ],
   "source": [
    "tdf['Amount'] = tdf['Amount'].apply(lambda value: float(value[1:]))\n",
    "tdf['Amount'] = tdf['Amount'].astype('float32')\n",
    "tdf.info()"
   ]
  },
  {
   "cell_type": "code",
   "execution_count": 11,
   "metadata": {},
   "outputs": [
    {
     "data": {
      "text/plain": [
       "Use Chip\n",
       "Swipe Transaction     15386082\n",
       "Chip Transaction       6287598\n",
       "Online Transaction     2713220\n",
       "Name: count, dtype: int64"
      ]
     },
     "execution_count": 11,
     "metadata": {},
     "output_type": "execute_result"
    }
   ],
   "source": [
    "tdf['Use Chip'].value_counts()"
   ]
  },
  {
   "cell_type": "code",
   "execution_count": 11,
   "metadata": {},
   "outputs": [
    {
     "data": {
      "text/plain": [
       "Use Chip\n",
       "Swipe     15386082\n",
       "Chip       6287598\n",
       "Online     2713220\n",
       "Name: count, dtype: int64"
      ]
     },
     "execution_count": 11,
     "metadata": {},
     "output_type": "execute_result"
    }
   ],
   "source": [
    "tdf['Use Chip'] = tdf['Use Chip'].apply(lambda word: word.split()[0])\n",
    "tdf['Use Chip'].value_counts()"
   ]
  },
  {
   "cell_type": "code",
   "execution_count": 13,
   "metadata": {},
   "outputs": [
    {
     "name": "stdout",
     "output_type": "stream",
     "text": [
      "<class 'pandas.core.frame.DataFrame'>\n",
      "RangeIndex: 24386900 entries, 0 to 24386899\n",
      "Data columns (total 14 columns):\n",
      " #   Column          Dtype  \n",
      "---  ------          -----  \n",
      " 0   User            int32  \n",
      " 1   Card            int32  \n",
      " 2   Year            int32  \n",
      " 3   Month           int32  \n",
      " 4   Day             int32  \n",
      " 5   Time            object \n",
      " 6   Amount          float32\n",
      " 7   Use Chip        object \n",
      " 8   Merchant City   object \n",
      " 9   Merchant State  object \n",
      " 10  Zip             float32\n",
      " 11  MCC             int32  \n",
      " 12  Errors?         object \n",
      " 13  Is Fraud?       object \n",
      "dtypes: float32(2), int32(6), object(6)\n",
      "memory usage: 1.8+ GB\n"
     ]
    },
    {
     "data": {
      "text/plain": [
       "['data/slimmed_before_datetime_combine']"
      ]
     },
     "execution_count": 13,
     "metadata": {},
     "output_type": "execute_result"
    }
   ],
   "source": [
    "tdf.info()\n",
    "joblib.dump(tdf, 'data/slimmed_before_datetime_combine')"
   ]
  },
  {
   "cell_type": "code",
   "execution_count": 4,
   "metadata": {},
   "outputs": [
    {
     "data": {
      "text/plain": [
       "Is_Fraud\n",
       "No     24357143\n",
       "Yes       29757\n",
       "Name: count, dtype: int64"
      ]
     },
     "execution_count": 4,
     "metadata": {},
     "output_type": "execute_result"
    }
   ],
   "source": [
    "tdf['Is_Fraud'].value_counts()"
   ]
  },
  {
   "cell_type": "code",
   "execution_count": 4,
   "metadata": {},
   "outputs": [
    {
     "data": {
      "text/html": [
       "<div>\n",
       "<style scoped>\n",
       "    .dataframe tbody tr th:only-of-type {\n",
       "        vertical-align: middle;\n",
       "    }\n",
       "\n",
       "    .dataframe tbody tr th {\n",
       "        vertical-align: top;\n",
       "    }\n",
       "\n",
       "    .dataframe thead th {\n",
       "        text-align: right;\n",
       "    }\n",
       "</style>\n",
       "<table border=\"1\" class=\"dataframe\">\n",
       "  <thead>\n",
       "    <tr style=\"text-align: right;\">\n",
       "      <th></th>\n",
       "      <th>User</th>\n",
       "      <th>Card</th>\n",
       "      <th>Amount</th>\n",
       "      <th>Use_Chip</th>\n",
       "      <th>Merchant_Name</th>\n",
       "      <th>Merchant_City</th>\n",
       "      <th>Merchant_State</th>\n",
       "      <th>Zip</th>\n",
       "      <th>MCC</th>\n",
       "      <th>Errors</th>\n",
       "      <th>Is_Fraud</th>\n",
       "      <th>Datetime</th>\n",
       "    </tr>\n",
       "  </thead>\n",
       "  <tbody>\n",
       "    <tr>\n",
       "      <th>516681</th>\n",
       "      <td>462</td>\n",
       "      <td>3</td>\n",
       "      <td>1.65</td>\n",
       "      <td>Swipe</td>\n",
       "      <td>-1952011645</td>\n",
       "      <td>Derby</td>\n",
       "      <td>KS</td>\n",
       "      <td>67037.00</td>\n",
       "      <td>5812</td>\n",
       "      <td>NaN</td>\n",
       "      <td>False</td>\n",
       "      <td>2014-01-19 07:59:00</td>\n",
       "    </tr>\n",
       "    <tr>\n",
       "      <th>609455</th>\n",
       "      <td>675</td>\n",
       "      <td>0</td>\n",
       "      <td>13.54</td>\n",
       "      <td>Chip</td>\n",
       "      <td>479254457</td>\n",
       "      <td>Shepherdsville</td>\n",
       "      <td>KY</td>\n",
       "      <td>40165.00</td>\n",
       "      <td>5310</td>\n",
       "      <td>NaN</td>\n",
       "      <td>False</td>\n",
       "      <td>2019-02-20 16:44:00</td>\n",
       "    </tr>\n",
       "    <tr>\n",
       "      <th>1843840</th>\n",
       "      <td>1745</td>\n",
       "      <td>0</td>\n",
       "      <td>36.33</td>\n",
       "      <td>Online</td>\n",
       "      <td>-2021769076</td>\n",
       "      <td>ONLINE</td>\n",
       "      <td>NaN</td>\n",
       "      <td>NaN</td>\n",
       "      <td>4784</td>\n",
       "      <td>NaN</td>\n",
       "      <td>False</td>\n",
       "      <td>2013-12-04 14:41:00</td>\n",
       "    </tr>\n",
       "  </tbody>\n",
       "</table>\n",
       "</div>"
      ],
      "text/plain": [
       "         User  Card  Amount Use_Chip  Merchant_Name   Merchant_City  \\\n",
       "516681    462     3    1.65    Swipe    -1952011645           Derby   \n",
       "609455    675     0   13.54     Chip      479254457  Shepherdsville   \n",
       "1843840  1745     0   36.33   Online    -2021769076          ONLINE   \n",
       "\n",
       "        Merchant_State      Zip   MCC Errors  Is_Fraud            Datetime  \n",
       "516681              KS 67037.00  5812    NaN     False 2014-01-19 07:59:00  \n",
       "609455              KY 40165.00  5310    NaN     False 2019-02-20 16:44:00  \n",
       "1843840            NaN      NaN  4784    NaN     False 2013-12-04 14:41:00  "
      ]
     },
     "execution_count": 4,
     "metadata": {},
     "output_type": "execute_result"
    }
   ],
   "source": [
    "tdf['Is_Fraud'] = tdf['Is_Fraud'].apply(lambda word: True if word.lower() == 'yes' else False)\n",
    "tdf.sample(n=3)"
   ]
  },
  {
   "cell_type": "markdown",
   "metadata": {},
   "source": [
    "### Combine partial dataframes"
   ]
  },
  {
   "cell_type": "code",
   "execution_count": 10,
   "metadata": {},
   "outputs": [],
   "source": [
    "import os"
   ]
  },
  {
   "cell_type": "code",
   "execution_count": 11,
   "metadata": {},
   "outputs": [
    {
     "name": "stdout",
     "output_type": "stream",
     "text": [
      "<class 'pandas.core.frame.DataFrame'>\n",
      "Index: 24386900 entries, 0 to 2439999\n",
      "Data columns (total 12 columns):\n",
      " #   Column          Dtype         \n",
      "---  ------          -----         \n",
      " 0   User            int8          \n",
      " 1   Card            int8          \n",
      " 2   Amount          float32       \n",
      " 3   Use_Chip        object        \n",
      " 4   Merchant_Name   int32         \n",
      " 5   Merchant_City   object        \n",
      " 6   Merchant_State  object        \n",
      " 7   Zip             float32       \n",
      " 8   MCC             int32         \n",
      " 9   Errors          object        \n",
      " 10  Is_Fraud        object        \n",
      " 11  Datetime        datetime64[ns]\n",
      "dtypes: datetime64[ns](1), float32(2), int32(2), int8(2), object(5)\n",
      "memory usage: 1.7+ GB\n"
     ]
    }
   ],
   "source": [
    "dir = 'data/slim'\n",
    "parts = [f for f in os.listdir(dir)]\n",
    "dfs = []\n",
    "for part in parts:\n",
    "    dfs.append(joblib.load(os.path.join(dir, part)))\n",
    "tdf = pd.concat(dfs)\n",
    "tdf.info()"
   ]
  },
  {
   "cell_type": "code",
   "execution_count": 12,
   "metadata": {},
   "outputs": [
    {
     "data": {
      "text/plain": [
       "['data/transactions']"
      ]
     },
     "execution_count": 12,
     "metadata": {},
     "output_type": "execute_result"
    }
   ],
   "source": [
    "joblib.dump(tdf, 'data/transactions')"
   ]
  },
  {
   "cell_type": "markdown",
   "metadata": {},
   "source": [
    "# Visuals"
   ]
  },
  {
   "cell_type": "code",
   "execution_count": 6,
   "metadata": {},
   "outputs": [],
   "source": [
    "import matplotlib.pyplot as plt\n",
    "import seaborn as sns"
   ]
  },
  {
   "cell_type": "code",
   "execution_count": 3,
   "metadata": {},
   "outputs": [
    {
     "data": {
      "text/html": [
       "<div>\n",
       "<style scoped>\n",
       "    .dataframe tbody tr th:only-of-type {\n",
       "        vertical-align: middle;\n",
       "    }\n",
       "\n",
       "    .dataframe tbody tr th {\n",
       "        vertical-align: top;\n",
       "    }\n",
       "\n",
       "    .dataframe thead th {\n",
       "        text-align: right;\n",
       "    }\n",
       "</style>\n",
       "<table border=\"1\" class=\"dataframe\">\n",
       "  <thead>\n",
       "    <tr style=\"text-align: right;\">\n",
       "      <th></th>\n",
       "      <th>User</th>\n",
       "      <th>Card</th>\n",
       "      <th>Amount</th>\n",
       "      <th>Merchant_Name</th>\n",
       "      <th>Zip</th>\n",
       "      <th>MCC</th>\n",
       "      <th>Datetime</th>\n",
       "    </tr>\n",
       "  </thead>\n",
       "  <tbody>\n",
       "    <tr>\n",
       "      <th>count</th>\n",
       "      <td>24386900.00</td>\n",
       "      <td>24386900.00</td>\n",
       "      <td>24386900.00</td>\n",
       "      <td>24386900.00</td>\n",
       "      <td>21508765.00</td>\n",
       "      <td>24386900.00</td>\n",
       "      <td>24386900</td>\n",
       "    </tr>\n",
       "    <tr>\n",
       "      <th>mean</th>\n",
       "      <td>1001.02</td>\n",
       "      <td>1.35</td>\n",
       "      <td>43.63</td>\n",
       "      <td>-5431366.16</td>\n",
       "      <td>50956.41</td>\n",
       "      <td>5561.17</td>\n",
       "      <td>2012-06-15 16:57:04.016494592</td>\n",
       "    </tr>\n",
       "    <tr>\n",
       "      <th>min</th>\n",
       "      <td>0.00</td>\n",
       "      <td>0.00</td>\n",
       "      <td>-500.00</td>\n",
       "      <td>-2147477762.00</td>\n",
       "      <td>501.00</td>\n",
       "      <td>1711.00</td>\n",
       "      <td>1991-01-02 07:10:00</td>\n",
       "    </tr>\n",
       "    <tr>\n",
       "      <th>25%</th>\n",
       "      <td>510.00</td>\n",
       "      <td>0.00</td>\n",
       "      <td>9.20</td>\n",
       "      <td>-1109575129.00</td>\n",
       "      <td>28374.00</td>\n",
       "      <td>5300.00</td>\n",
       "      <td>2008-12-25 11:34:00</td>\n",
       "    </tr>\n",
       "    <tr>\n",
       "      <th>50%</th>\n",
       "      <td>1006.00</td>\n",
       "      <td>1.00</td>\n",
       "      <td>30.14</td>\n",
       "      <td>11876726.00</td>\n",
       "      <td>46742.00</td>\n",
       "      <td>5499.00</td>\n",
       "      <td>2013-01-11 08:49:00</td>\n",
       "    </tr>\n",
       "    <tr>\n",
       "      <th>75%</th>\n",
       "      <td>1477.00</td>\n",
       "      <td>2.00</td>\n",
       "      <td>65.06</td>\n",
       "      <td>1063776993.00</td>\n",
       "      <td>77564.00</td>\n",
       "      <td>5812.00</td>\n",
       "      <td>2016-08-27 19:46:00</td>\n",
       "    </tr>\n",
       "    <tr>\n",
       "      <th>max</th>\n",
       "      <td>1999.00</td>\n",
       "      <td>8.00</td>\n",
       "      <td>12390.50</td>\n",
       "      <td>2147427927.00</td>\n",
       "      <td>99928.00</td>\n",
       "      <td>9402.00</td>\n",
       "      <td>2020-02-28 23:58:00</td>\n",
       "    </tr>\n",
       "    <tr>\n",
       "      <th>std</th>\n",
       "      <td>569.46</td>\n",
       "      <td>1.41</td>\n",
       "      <td>78.71</td>\n",
       "      <td>1311018995.45</td>\n",
       "      <td>29141.96</td>\n",
       "      <td>879.32</td>\n",
       "      <td>NaN</td>\n",
       "    </tr>\n",
       "  </tbody>\n",
       "</table>\n",
       "</div>"
      ],
      "text/plain": [
       "             User        Card      Amount  Merchant_Name         Zip  \\\n",
       "count 24386900.00 24386900.00 24386900.00    24386900.00 21508765.00   \n",
       "mean      1001.02        1.35       43.63    -5431366.16    50956.41   \n",
       "min          0.00        0.00     -500.00 -2147477762.00      501.00   \n",
       "25%        510.00        0.00        9.20 -1109575129.00    28374.00   \n",
       "50%       1006.00        1.00       30.14    11876726.00    46742.00   \n",
       "75%       1477.00        2.00       65.06  1063776993.00    77564.00   \n",
       "max       1999.00        8.00    12390.50  2147427927.00    99928.00   \n",
       "std        569.46        1.41       78.71  1311018995.45    29141.96   \n",
       "\n",
       "              MCC                       Datetime  \n",
       "count 24386900.00                       24386900  \n",
       "mean      5561.17  2012-06-15 16:57:04.016494592  \n",
       "min       1711.00            1991-01-02 07:10:00  \n",
       "25%       5300.00            2008-12-25 11:34:00  \n",
       "50%       5499.00            2013-01-11 08:49:00  \n",
       "75%       5812.00            2016-08-27 19:46:00  \n",
       "max       9402.00            2020-02-28 23:58:00  \n",
       "std        879.32                            NaN  "
      ]
     },
     "execution_count": 3,
     "metadata": {},
     "output_type": "execute_result"
    }
   ],
   "source": [
    "tdf.describe()"
   ]
  },
  {
   "cell_type": "code",
   "execution_count": 3,
   "metadata": {},
   "outputs": [],
   "source": [
    "fdf = tdf.loc[tdf['Is_Fraud']].copy()"
   ]
  },
  {
   "cell_type": "code",
   "execution_count": 4,
   "metadata": {},
   "outputs": [],
   "source": [
    "df = tdf.loc[~tdf['Is_Fraud']].copy()"
   ]
  },
  {
   "cell_type": "code",
   "execution_count": 10,
   "metadata": {},
   "outputs": [
    {
     "data": {
      "text/html": [
       "<div>\n",
       "<style scoped>\n",
       "    .dataframe tbody tr th:only-of-type {\n",
       "        vertical-align: middle;\n",
       "    }\n",
       "\n",
       "    .dataframe tbody tr th {\n",
       "        vertical-align: top;\n",
       "    }\n",
       "\n",
       "    .dataframe thead th {\n",
       "        text-align: right;\n",
       "    }\n",
       "</style>\n",
       "<table border=\"1\" class=\"dataframe\">\n",
       "  <thead>\n",
       "    <tr style=\"text-align: right;\">\n",
       "      <th></th>\n",
       "      <th>User</th>\n",
       "      <th>Card</th>\n",
       "      <th>Amount</th>\n",
       "      <th>Merchant_Name</th>\n",
       "      <th>Zip</th>\n",
       "      <th>MCC</th>\n",
       "      <th>Datetime</th>\n",
       "    </tr>\n",
       "  </thead>\n",
       "  <tbody>\n",
       "    <tr>\n",
       "      <th>count</th>\n",
       "      <td>29757.00</td>\n",
       "      <td>29757.00</td>\n",
       "      <td>29757.00</td>\n",
       "      <td>29757.00</td>\n",
       "      <td>4905.00</td>\n",
       "      <td>29757.00</td>\n",
       "      <td>29757</td>\n",
       "    </tr>\n",
       "    <tr>\n",
       "      <th>mean</th>\n",
       "      <td>1011.04</td>\n",
       "      <td>1.62</td>\n",
       "      <td>108.59</td>\n",
       "      <td>35311146.87</td>\n",
       "      <td>52427.47</td>\n",
       "      <td>5252.21</td>\n",
       "      <td>2012-06-22 08:57:49.500957952</td>\n",
       "    </tr>\n",
       "    <tr>\n",
       "      <th>min</th>\n",
       "      <td>0.00</td>\n",
       "      <td>0.00</td>\n",
       "      <td>-500.00</td>\n",
       "      <td>-2144772375.00</td>\n",
       "      <td>1057.00</td>\n",
       "      <td>3000.00</td>\n",
       "      <td>1996-07-05 11:11:00</td>\n",
       "    </tr>\n",
       "    <tr>\n",
       "      <th>25%</th>\n",
       "      <td>545.00</td>\n",
       "      <td>0.00</td>\n",
       "      <td>18.36</td>\n",
       "      <td>-1002789084.00</td>\n",
       "      <td>32503.00</td>\n",
       "      <td>4829.00</td>\n",
       "      <td>2008-09-29 16:26:00</td>\n",
       "    </tr>\n",
       "    <tr>\n",
       "      <th>50%</th>\n",
       "      <td>1020.00</td>\n",
       "      <td>1.00</td>\n",
       "      <td>71.02</td>\n",
       "      <td>38861438.00</td>\n",
       "      <td>44824.00</td>\n",
       "      <td>5311.00</td>\n",
       "      <td>2012-08-03 13:10:00</td>\n",
       "    </tr>\n",
       "    <tr>\n",
       "      <th>75%</th>\n",
       "      <td>1487.00</td>\n",
       "      <td>3.00</td>\n",
       "      <td>150.13</td>\n",
       "      <td>1102623989.00</td>\n",
       "      <td>78374.00</td>\n",
       "      <td>5719.00</td>\n",
       "      <td>2016-03-24 14:08:00</td>\n",
       "    </tr>\n",
       "    <tr>\n",
       "      <th>max</th>\n",
       "      <td>1997.00</td>\n",
       "      <td>8.00</td>\n",
       "      <td>5694.44</td>\n",
       "      <td>2145070271.00</td>\n",
       "      <td>99504.00</td>\n",
       "      <td>9402.00</td>\n",
       "      <td>2019-10-27 14:54:00</td>\n",
       "    </tr>\n",
       "    <tr>\n",
       "      <th>std</th>\n",
       "      <td>559.30</td>\n",
       "      <td>1.52</td>\n",
       "      <td>201.17</td>\n",
       "      <td>1269481372.82</td>\n",
       "      <td>28360.63</td>\n",
       "      <td>989.61</td>\n",
       "      <td>NaN</td>\n",
       "    </tr>\n",
       "  </tbody>\n",
       "</table>\n",
       "</div>"
      ],
      "text/plain": [
       "          User     Card   Amount  Merchant_Name      Zip      MCC  \\\n",
       "count 29757.00 29757.00 29757.00       29757.00  4905.00 29757.00   \n",
       "mean   1011.04     1.62   108.59    35311146.87 52427.47  5252.21   \n",
       "min       0.00     0.00  -500.00 -2144772375.00  1057.00  3000.00   \n",
       "25%     545.00     0.00    18.36 -1002789084.00 32503.00  4829.00   \n",
       "50%    1020.00     1.00    71.02    38861438.00 44824.00  5311.00   \n",
       "75%    1487.00     3.00   150.13  1102623989.00 78374.00  5719.00   \n",
       "max    1997.00     8.00  5694.44  2145070271.00 99504.00  9402.00   \n",
       "std     559.30     1.52   201.17  1269481372.82 28360.63   989.61   \n",
       "\n",
       "                            Datetime  \n",
       "count                          29757  \n",
       "mean   2012-06-22 08:57:49.500957952  \n",
       "min              1996-07-05 11:11:00  \n",
       "25%              2008-09-29 16:26:00  \n",
       "50%              2012-08-03 13:10:00  \n",
       "75%              2016-03-24 14:08:00  \n",
       "max              2019-10-27 14:54:00  \n",
       "std                              NaN  "
      ]
     },
     "execution_count": 10,
     "metadata": {},
     "output_type": "execute_result"
    }
   ],
   "source": [
    "fdf.describe()"
   ]
  },
  {
   "cell_type": "code",
   "execution_count": 12,
   "metadata": {},
   "outputs": [
    {
     "data": {
      "text/html": [
       "<div>\n",
       "<style scoped>\n",
       "    .dataframe tbody tr th:only-of-type {\n",
       "        vertical-align: middle;\n",
       "    }\n",
       "\n",
       "    .dataframe tbody tr th {\n",
       "        vertical-align: top;\n",
       "    }\n",
       "\n",
       "    .dataframe thead th {\n",
       "        text-align: right;\n",
       "    }\n",
       "</style>\n",
       "<table border=\"1\" class=\"dataframe\">\n",
       "  <thead>\n",
       "    <tr style=\"text-align: right;\">\n",
       "      <th></th>\n",
       "      <th>User</th>\n",
       "      <th>Card</th>\n",
       "      <th>Amount</th>\n",
       "      <th>Merchant_Name</th>\n",
       "      <th>Zip</th>\n",
       "      <th>MCC</th>\n",
       "      <th>Datetime</th>\n",
       "    </tr>\n",
       "  </thead>\n",
       "  <tbody>\n",
       "    <tr>\n",
       "      <th>count</th>\n",
       "      <td>24357143.00</td>\n",
       "      <td>24357143.00</td>\n",
       "      <td>24357143.00</td>\n",
       "      <td>24357143.00</td>\n",
       "      <td>21503860.00</td>\n",
       "      <td>24357143.00</td>\n",
       "      <td>24357143</td>\n",
       "    </tr>\n",
       "    <tr>\n",
       "      <th>mean</th>\n",
       "      <td>1001.01</td>\n",
       "      <td>1.35</td>\n",
       "      <td>43.55</td>\n",
       "      <td>-5481141.09</td>\n",
       "      <td>50956.11</td>\n",
       "      <td>5561.55</td>\n",
       "      <td>2012-06-15 16:45:20.264605184</td>\n",
       "    </tr>\n",
       "    <tr>\n",
       "      <th>min</th>\n",
       "      <td>0.00</td>\n",
       "      <td>0.00</td>\n",
       "      <td>-500.00</td>\n",
       "      <td>-2147477762.00</td>\n",
       "      <td>501.00</td>\n",
       "      <td>1711.00</td>\n",
       "      <td>1991-01-02 07:10:00</td>\n",
       "    </tr>\n",
       "    <tr>\n",
       "      <th>25%</th>\n",
       "      <td>510.00</td>\n",
       "      <td>0.00</td>\n",
       "      <td>9.20</td>\n",
       "      <td>-1109575129.00</td>\n",
       "      <td>28374.00</td>\n",
       "      <td>5300.00</td>\n",
       "      <td>2008-12-25 16:25:00</td>\n",
       "    </tr>\n",
       "    <tr>\n",
       "      <th>50%</th>\n",
       "      <td>1006.00</td>\n",
       "      <td>1.00</td>\n",
       "      <td>30.11</td>\n",
       "      <td>11876726.00</td>\n",
       "      <td>46742.00</td>\n",
       "      <td>5499.00</td>\n",
       "      <td>2013-01-11 09:07:00</td>\n",
       "    </tr>\n",
       "    <tr>\n",
       "      <th>75%</th>\n",
       "      <td>1477.00</td>\n",
       "      <td>2.00</td>\n",
       "      <td>65.00</td>\n",
       "      <td>1063776993.00</td>\n",
       "      <td>77564.00</td>\n",
       "      <td>5812.00</td>\n",
       "      <td>2016-08-28 08:02:00</td>\n",
       "    </tr>\n",
       "    <tr>\n",
       "      <th>max</th>\n",
       "      <td>1999.00</td>\n",
       "      <td>8.00</td>\n",
       "      <td>12390.50</td>\n",
       "      <td>2147427927.00</td>\n",
       "      <td>99928.00</td>\n",
       "      <td>9402.00</td>\n",
       "      <td>2020-02-28 23:58:00</td>\n",
       "    </tr>\n",
       "    <tr>\n",
       "      <th>std</th>\n",
       "      <td>569.47</td>\n",
       "      <td>1.41</td>\n",
       "      <td>78.43</td>\n",
       "      <td>1311068187.80</td>\n",
       "      <td>29142.59</td>\n",
       "      <td>879.11</td>\n",
       "      <td>NaN</td>\n",
       "    </tr>\n",
       "  </tbody>\n",
       "</table>\n",
       "</div>"
      ],
      "text/plain": [
       "             User        Card      Amount  Merchant_Name         Zip  \\\n",
       "count 24357143.00 24357143.00 24357143.00    24357143.00 21503860.00   \n",
       "mean      1001.01        1.35       43.55    -5481141.09    50956.11   \n",
       "min          0.00        0.00     -500.00 -2147477762.00      501.00   \n",
       "25%        510.00        0.00        9.20 -1109575129.00    28374.00   \n",
       "50%       1006.00        1.00       30.11    11876726.00    46742.00   \n",
       "75%       1477.00        2.00       65.00  1063776993.00    77564.00   \n",
       "max       1999.00        8.00    12390.50  2147427927.00    99928.00   \n",
       "std        569.47        1.41       78.43  1311068187.80    29142.59   \n",
       "\n",
       "              MCC                       Datetime  \n",
       "count 24357143.00                       24357143  \n",
       "mean      5561.55  2012-06-15 16:45:20.264605184  \n",
       "min       1711.00            1991-01-02 07:10:00  \n",
       "25%       5300.00            2008-12-25 16:25:00  \n",
       "50%       5499.00            2013-01-11 09:07:00  \n",
       "75%       5812.00            2016-08-28 08:02:00  \n",
       "max       9402.00            2020-02-28 23:58:00  \n",
       "std        879.11                            NaN  "
      ]
     },
     "execution_count": 12,
     "metadata": {},
     "output_type": "execute_result"
    }
   ],
   "source": [
    "df.describe()"
   ]
  },
  {
   "cell_type": "code",
   "execution_count": 15,
   "metadata": {},
   "outputs": [
    {
     "data": {
      "text/plain": [
       "MCC\n",
       "5311    4824\n",
       "5300    2201\n",
       "5310    2152\n",
       "4829    1607\n",
       "5912    1057\n",
       "5411     943\n",
       "5815     879\n",
       "5651     849\n",
       "5732     843\n",
       "5719     717\n",
       "Name: count, dtype: int64"
      ]
     },
     "execution_count": 15,
     "metadata": {},
     "output_type": "execute_result"
    }
   ],
   "source": [
    "fdf['MCC'].value_counts().head(10)"
   ]
  },
  {
   "cell_type": "code",
   "execution_count": 16,
   "metadata": {},
   "outputs": [
    {
     "data": {
      "text/plain": [
       "MCC\n",
       "5411    2859795\n",
       "5499    2680349\n",
       "5541    2638628\n",
       "5812    1797593\n",
       "5912    1406579\n",
       "4829    1127454\n",
       "4784    1124291\n",
       "5300    1120836\n",
       "4121     980965\n",
       "7538     914579\n",
       "Name: count, dtype: int64"
      ]
     },
     "execution_count": 16,
     "metadata": {},
     "output_type": "execute_result"
    }
   ],
   "source": [
    "df['MCC'].value_counts().head(10)"
   ]
  },
  {
   "cell_type": "code",
   "execution_count": 17,
   "metadata": {},
   "outputs": [],
   "source": [
    "del tdf"
   ]
  },
  {
   "cell_type": "code",
   "execution_count": 18,
   "metadata": {},
   "outputs": [
    {
     "data": {
      "text/plain": [
       "['data/fraud_only']"
      ]
     },
     "execution_count": 18,
     "metadata": {},
     "output_type": "execute_result"
    }
   ],
   "source": [
    "joblib.dump(fdf, 'data/fraud_only')"
   ]
  },
  {
   "cell_type": "code",
   "execution_count": 19,
   "metadata": {},
   "outputs": [
    {
     "data": {
      "text/plain": [
       "['data/no_fraud']"
      ]
     },
     "execution_count": 19,
     "metadata": {},
     "output_type": "execute_result"
    }
   ],
   "source": [
    "joblib.dump(df, 'data/no_fraud')"
   ]
  },
  {
   "cell_type": "code",
   "execution_count": 16,
   "metadata": {},
   "outputs": [],
   "source": [
    "sns.set(rc={'figure.figsize': (2, 8)})"
   ]
  },
  {
   "cell_type": "code",
   "execution_count": 17,
   "metadata": {},
   "outputs": [
    {
     "name": "stderr",
     "output_type": "stream",
     "text": [
      "/home/yichenzhang/anaconda3/envs/ece5831-py3.10/lib/python3.10/site-packages/seaborn/_oldcore.py:1498: FutureWarning: is_categorical_dtype is deprecated and will be removed in a future version. Use isinstance(dtype, CategoricalDtype) instead\n",
      "  if pd.api.types.is_categorical_dtype(vector):\n"
     ]
    },
    {
     "data": {
      "image/png": "[encoded data removed]",
      "text/plain": [
       "<Figure size 200x800 with 1 Axes>"
      ]
     },
     "metadata": {},
     "output_type": "display_data"
    }
   ],
   "source": [
    "sns.boxplot(y=fdf['Amount'])\n",
    "plt.xlabel('Fraud')\n",
    "plt.show()"
   ]
  },
  {
   "cell_type": "code",
   "execution_count": 18,
   "metadata": {},
   "outputs": [
    {
     "name": "stderr",
     "output_type": "stream",
     "text": [
      "/home/yichenzhang/anaconda3/envs/ece5831-py3.10/lib/python3.10/site-packages/seaborn/_oldcore.py:1498: FutureWarning: is_categorical_dtype is deprecated and will be removed in a future version. Use isinstance(dtype, CategoricalDtype) instead\n",
      "  if pd.api.types.is_categorical_dtype(vector):\n"
     ]
    },
    {
     "data": {
      "image/png": "[encoded data removed]",
      "text/plain": [
       "<Figure size 200x800 with 1 Axes>"
      ]
     },
     "metadata": {},
     "output_type": "display_data"
    }
   ],
   "source": [
    "sns.boxplot(y=df['Amount'])\n",
    "plt.xlabel('Not Fraud')\n",
    "plt.show()"
   ]
  },
  {
   "cell_type": "code",
   "execution_count": 24,
   "metadata": {},
   "outputs": [],
   "source": [
    "sns.set(rc={'figure.figsize': (8, 5)})"
   ]
  },
  {
   "cell_type": "code",
   "execution_count": 25,
   "metadata": {},
   "outputs": [
    {
     "name": "stderr",
     "output_type": "stream",
     "text": [
      "/home/yichenzhang/anaconda3/envs/ece5831-py3.10/lib/python3.10/site-packages/seaborn/_oldcore.py:1498: FutureWarning: is_categorical_dtype is deprecated and will be removed in a future version. Use isinstance(dtype, CategoricalDtype) instead\n",
      "  if pd.api.types.is_categorical_dtype(vector):\n",
      "/home/yichenzhang/anaconda3/envs/ece5831-py3.10/lib/python3.10/site-packages/seaborn/_oldcore.py:1498: FutureWarning: is_categorical_dtype is deprecated and will be removed in a future version. Use isinstance(dtype, CategoricalDtype) instead\n",
      "  if pd.api.types.is_categorical_dtype(vector):\n",
      "/home/yichenzhang/anaconda3/envs/ece5831-py3.10/lib/python3.10/site-packages/seaborn/_oldcore.py:1119: FutureWarning: use_inf_as_na option is deprecated and will be removed in a future version. Convert inf values to NaN before operating instead.\n",
      "  with pd.option_context('mode.use_inf_as_na', True):\n"
     ]
    },
    {
     "data": {
      "image/png": "[encoded data removed]",
      "text/plain": [
       "<Figure size 800x500 with 1 Axes>"
      ]
     },
     "metadata": {},
     "output_type": "display_data"
    }
   ],
   "source": [
    "sns.histplot(data=fdf['Use Chip'])\n",
    "plt.show()"
   ]
  },
  {
   "cell_type": "code",
   "execution_count": 7,
   "metadata": {},
   "outputs": [
    {
     "name": "stderr",
     "output_type": "stream",
     "text": [
      "/home/yichenzhang/anaconda3/envs/ece5831-py3.10/lib/python3.10/site-packages/seaborn/_oldcore.py:1498: FutureWarning: is_categorical_dtype is deprecated and will be removed in a future version. Use isinstance(dtype, CategoricalDtype) instead\n",
      "  if pd.api.types.is_categorical_dtype(vector):\n",
      "/home/yichenzhang/anaconda3/envs/ece5831-py3.10/lib/python3.10/site-packages/seaborn/_oldcore.py:1498: FutureWarning: is_categorical_dtype is deprecated and will be removed in a future version. Use isinstance(dtype, CategoricalDtype) instead\n",
      "  if pd.api.types.is_categorical_dtype(vector):\n",
      "/home/yichenzhang/anaconda3/envs/ece5831-py3.10/lib/python3.10/site-packages/seaborn/_oldcore.py:1119: FutureWarning: use_inf_as_na option is deprecated and will be removed in a future version. Convert inf values to NaN before operating instead.\n",
      "  with pd.option_context('mode.use_inf_as_na', True):\n"
     ]
    },
    {
     "data": {
      "image/png": "[encoded data removed]",
      "text/plain": [
       "<Figure size 640x480 with 1 Axes>"
      ]
     },
     "metadata": {},
     "output_type": "display_data"
    }
   ],
   "source": [
    "sns.histplot(data=fdf.loc[fdf['Datetime'] < \"2012-01-01\"]['Use_Chip'])\n",
    "plt.show()"
   ]
  },
  {
   "cell_type": "code",
   "execution_count": 29,
   "metadata": {},
   "outputs": [
    {
     "data": {
      "text/plain": [
       "Use_Chip\n",
       "Online    3073\n",
       "Chip       527\n",
       "Swipe      234\n",
       "Name: count, dtype: int64"
      ]
     },
     "execution_count": 29,
     "metadata": {},
     "output_type": "execute_result"
    }
   ],
   "source": [
    "fdf.loc[(fdf['Datetime'] >= \"2016-01-01\") & (fdf['Datetime'] < \"2018-01-01\")]['Use_Chip'].value_counts()"
   ]
  },
  {
   "cell_type": "code",
   "execution_count": 28,
   "metadata": {},
   "outputs": [
    {
     "data": {
      "text/plain": [
       "3777475"
      ]
     },
     "execution_count": 28,
     "metadata": {},
     "output_type": "execute_result"
    }
   ],
   "source": [
    "len(df.loc[df['Datetime'] >= '2018-01-01'])"
   ]
  },
  {
   "cell_type": "code",
   "execution_count": 31,
   "metadata": {},
   "outputs": [],
   "source": [
    "validation_ct = len(fdf.loc[(fdf['Datetime'] >= \"2016-01-01\") & (fdf['Datetime'] < \"2018-01-01\")])"
   ]
  },
  {
   "cell_type": "code",
   "execution_count": 33,
   "metadata": {},
   "outputs": [
    {
     "name": "stdout",
     "output_type": "stream",
     "text": [
      "80.15127803860199\n",
      "13.74543557642149\n",
      "6.103286384976526\n"
     ]
    }
   ],
   "source": [
    "for value in [3073, 527, 234]:\n",
    "    print(value / validation_ct * 100)"
   ]
  },
  {
   "cell_type": "code",
   "execution_count": 14,
   "metadata": {},
   "outputs": [
    {
     "data": {
      "text/plain": [
       "39.294955808717276"
      ]
     },
     "execution_count": 14,
     "metadata": {},
     "output_type": "execute_result"
    }
   ],
   "source": [
    "len(fdf.loc[fdf.Datetime >= \"2015-01-01\"]) / len(fdf) * 100"
   ]
  },
  {
   "cell_type": "code",
   "execution_count": 38,
   "metadata": {},
   "outputs": [
    {
     "data": {
      "text/plain": [
       "36.55607309937787"
      ]
     },
     "execution_count": 38,
     "metadata": {},
     "output_type": "execute_result"
    }
   ],
   "source": [
    "len(df.loc[df.Datetime >= \"2015-01-01\"]) / len(df) * 100"
   ]
  },
  {
   "cell_type": "code",
   "execution_count": 36,
   "metadata": {},
   "outputs": [],
   "source": [
    "nonfraud_train_ct = len(df.loc[(df['Datetime'] >= '2015-01-01') & (df['Datetime'] < '2016-01-01')])"
   ]
  },
  {
   "cell_type": "code",
   "execution_count": 35,
   "metadata": {},
   "outputs": [
    {
     "data": {
      "text/plain": [
       "Use_Chip\n",
       "Chip      1197222\n",
       "Swipe      291795\n",
       "Online     209073\n",
       "Name: count, dtype: int64"
      ]
     },
     "execution_count": 35,
     "metadata": {},
     "output_type": "execute_result"
    }
   ],
   "source": [
    "df.loc[(df['Datetime'] >= '2015-01-01') & (df['Datetime'] < '2016-01-01')]['Use_Chip'].value_counts()"
   ]
  },
  {
   "cell_type": "code",
   "execution_count": 37,
   "metadata": {},
   "outputs": [
    {
     "name": "stdout",
     "output_type": "stream",
     "text": [
      "70.50403688850415\n",
      "17.183718177481758\n",
      "12.312244934014098\n"
     ]
    }
   ],
   "source": [
    "for v in [1197222, 291795, 209073]:\n",
    "    print(v / nonfraud_train_ct * 100)"
   ]
  },
  {
   "cell_type": "code",
   "execution_count": 26,
   "metadata": {},
   "outputs": [
    {
     "name": "stderr",
     "output_type": "stream",
     "text": [
      "/home/yichenzhang/anaconda3/envs/ece5831-py3.10/lib/python3.10/site-packages/seaborn/_oldcore.py:1498: FutureWarning: is_categorical_dtype is deprecated and will be removed in a future version. Use isinstance(dtype, CategoricalDtype) instead\n",
      "  if pd.api.types.is_categorical_dtype(vector):\n",
      "/home/yichenzhang/anaconda3/envs/ece5831-py3.10/lib/python3.10/site-packages/seaborn/_oldcore.py:1498: FutureWarning: is_categorical_dtype is deprecated and will be removed in a future version. Use isinstance(dtype, CategoricalDtype) instead\n",
      "  if pd.api.types.is_categorical_dtype(vector):\n",
      "/home/yichenzhang/anaconda3/envs/ece5831-py3.10/lib/python3.10/site-packages/seaborn/_oldcore.py:1119: FutureWarning: use_inf_as_na option is deprecated and will be removed in a future version. Convert inf values to NaN before operating instead.\n",
      "  with pd.option_context('mode.use_inf_as_na', True):\n"
     ]
    },
    {
     "data": {
      "image/png": "[encoded data removed]",
      "text/plain": [
       "<Figure size 800x500 with 1 Axes>"
      ]
     },
     "metadata": {},
     "output_type": "display_data"
    }
   ],
   "source": [
    "sns.histplot(data=df['Use Chip'])\n",
    "plt.show()"
   ]
  },
  {
   "cell_type": "code",
   "execution_count": 21,
   "metadata": {},
   "outputs": [
    {
     "data": {
      "text/html": [
       "<div>\n",
       "<style scoped>\n",
       "    .dataframe tbody tr th:only-of-type {\n",
       "        vertical-align: middle;\n",
       "    }\n",
       "\n",
       "    .dataframe tbody tr th {\n",
       "        vertical-align: top;\n",
       "    }\n",
       "\n",
       "    .dataframe thead th {\n",
       "        text-align: right;\n",
       "    }\n",
       "</style>\n",
       "<table border=\"1\" class=\"dataframe\">\n",
       "  <thead>\n",
       "    <tr style=\"text-align: right;\">\n",
       "      <th></th>\n",
       "      <th>User</th>\n",
       "      <th>Card</th>\n",
       "      <th>Amount</th>\n",
       "      <th>Use_Chip</th>\n",
       "      <th>Merchant_Name</th>\n",
       "      <th>Merchant_City</th>\n",
       "      <th>Merchant_State</th>\n",
       "      <th>Zip</th>\n",
       "      <th>MCC</th>\n",
       "      <th>Errors</th>\n",
       "      <th>Is_Fraud</th>\n",
       "      <th>Datetime</th>\n",
       "    </tr>\n",
       "  </thead>\n",
       "  <tbody>\n",
       "    <tr>\n",
       "      <th>451317</th>\n",
       "      <td>1236</td>\n",
       "      <td>1</td>\n",
       "      <td>171.74</td>\n",
       "      <td>Swipe</td>\n",
       "      <td>440050626</td>\n",
       "      <td>Jacksonville</td>\n",
       "      <td>FL</td>\n",
       "      <td>32218.00</td>\n",
       "      <td>5732</td>\n",
       "      <td>NaN</td>\n",
       "      <td>True</td>\n",
       "      <td>1996-07-05 11:11:00</td>\n",
       "    </tr>\n",
       "    <tr>\n",
       "      <th>451318</th>\n",
       "      <td>1236</td>\n",
       "      <td>1</td>\n",
       "      <td>119.30</td>\n",
       "      <td>Swipe</td>\n",
       "      <td>2081821369</td>\n",
       "      <td>Titusville</td>\n",
       "      <td>FL</td>\n",
       "      <td>32796.00</td>\n",
       "      <td>5816</td>\n",
       "      <td>NaN</td>\n",
       "      <td>True</td>\n",
       "      <td>1996-07-05 12:53:00</td>\n",
       "    </tr>\n",
       "  </tbody>\n",
       "</table>\n",
       "</div>"
      ],
      "text/plain": [
       "        User  Card  Amount Use_Chip  Merchant_Name Merchant_City  \\\n",
       "451317  1236     1  171.74    Swipe      440050626  Jacksonville   \n",
       "451318  1236     1  119.30    Swipe     2081821369    Titusville   \n",
       "\n",
       "       Merchant_State      Zip   MCC Errors  Is_Fraud            Datetime  \n",
       "451317             FL 32218.00  5732    NaN      True 1996-07-05 11:11:00  \n",
       "451318             FL 32796.00  5816    NaN      True 1996-07-05 12:53:00  "
      ]
     },
     "execution_count": 21,
     "metadata": {},
     "output_type": "execute_result"
    }
   ],
   "source": [
    "fdf.head(2)"
   ]
  },
  {
   "cell_type": "code",
   "execution_count": 26,
   "metadata": {},
   "outputs": [
    {
     "name": "stderr",
     "output_type": "stream",
     "text": [
      "/home/yichenzhang/anaconda3/envs/ece5831-py3.10/lib/python3.10/site-packages/seaborn/_oldcore.py:1498: FutureWarning: is_categorical_dtype is deprecated and will be removed in a future version. Use isinstance(dtype, CategoricalDtype) instead\n",
      "  if pd.api.types.is_categorical_dtype(vector):\n",
      "/home/yichenzhang/anaconda3/envs/ece5831-py3.10/lib/python3.10/site-packages/seaborn/_oldcore.py:1498: FutureWarning: is_categorical_dtype is deprecated and will be removed in a future version. Use isinstance(dtype, CategoricalDtype) instead\n",
      "  if pd.api.types.is_categorical_dtype(vector):\n"
     ]
    },
    {
     "data": {
      "image/png": "[encoded data removed]",
      "text/plain": [
       "<Figure size 1800x500 with 1 Axes>"
      ]
     },
     "metadata": {},
     "output_type": "display_data"
    }
   ],
   "source": [
    "plt.figure(figsize=(18,5))\n",
    "sns.scatterplot(x=fdf['Datetime'], y=fdf['Amount'])\n",
    "plt.show()"
   ]
  },
  {
   "cell_type": "code",
   "execution_count": 27,
   "metadata": {},
   "outputs": [
    {
     "data": {
      "text/html": [
       "<div>\n",
       "<style scoped>\n",
       "    .dataframe tbody tr th:only-of-type {\n",
       "        vertical-align: middle;\n",
       "    }\n",
       "\n",
       "    .dataframe tbody tr th {\n",
       "        vertical-align: top;\n",
       "    }\n",
       "\n",
       "    .dataframe thead th {\n",
       "        text-align: right;\n",
       "    }\n",
       "</style>\n",
       "<table border=\"1\" class=\"dataframe\">\n",
       "  <thead>\n",
       "    <tr style=\"text-align: right;\">\n",
       "      <th></th>\n",
       "      <th>User</th>\n",
       "      <th>Card</th>\n",
       "      <th>Amount</th>\n",
       "      <th>Merchant_Name</th>\n",
       "      <th>Zip</th>\n",
       "      <th>MCC</th>\n",
       "      <th>Datetime</th>\n",
       "    </tr>\n",
       "  </thead>\n",
       "  <tbody>\n",
       "    <tr>\n",
       "      <th>count</th>\n",
       "      <td>55.00</td>\n",
       "      <td>55.00</td>\n",
       "      <td>55.00</td>\n",
       "      <td>55.00</td>\n",
       "      <td>0.00</td>\n",
       "      <td>55.00</td>\n",
       "      <td>55</td>\n",
       "    </tr>\n",
       "    <tr>\n",
       "      <th>mean</th>\n",
       "      <td>804.73</td>\n",
       "      <td>0.93</td>\n",
       "      <td>113.00</td>\n",
       "      <td>-10509528.78</td>\n",
       "      <td>NaN</td>\n",
       "      <td>4993.95</td>\n",
       "      <td>2011-01-04 12:45:04.363636480</td>\n",
       "    </tr>\n",
       "    <tr>\n",
       "      <th>min</th>\n",
       "      <td>148.00</td>\n",
       "      <td>0.00</td>\n",
       "      <td>-490.00</td>\n",
       "      <td>-2113554858.00</td>\n",
       "      <td>NaN</td>\n",
       "      <td>3008.00</td>\n",
       "      <td>2011-01-01 04:23:00</td>\n",
       "    </tr>\n",
       "    <tr>\n",
       "      <th>25%</th>\n",
       "      <td>473.00</td>\n",
       "      <td>0.00</td>\n",
       "      <td>43.66</td>\n",
       "      <td>-997347869.50</td>\n",
       "      <td>NaN</td>\n",
       "      <td>4421.50</td>\n",
       "      <td>2011-01-03 10:04:00</td>\n",
       "    </tr>\n",
       "    <tr>\n",
       "      <th>50%</th>\n",
       "      <td>848.00</td>\n",
       "      <td>1.00</td>\n",
       "      <td>99.89</td>\n",
       "      <td>38861438.00</td>\n",
       "      <td>NaN</td>\n",
       "      <td>5300.00</td>\n",
       "      <td>2011-01-04 06:03:00</td>\n",
       "    </tr>\n",
       "    <tr>\n",
       "      <th>75%</th>\n",
       "      <td>1122.00</td>\n",
       "      <td>2.00</td>\n",
       "      <td>232.20</td>\n",
       "      <td>907190995.00</td>\n",
       "      <td>NaN</td>\n",
       "      <td>5719.00</td>\n",
       "      <td>2011-01-04 13:15:30</td>\n",
       "    </tr>\n",
       "    <tr>\n",
       "      <th>max</th>\n",
       "      <td>1739.00</td>\n",
       "      <td>2.00</td>\n",
       "      <td>920.47</td>\n",
       "      <td>2080935213.00</td>\n",
       "      <td>NaN</td>\n",
       "      <td>7011.00</td>\n",
       "      <td>2011-01-12 09:37:00</td>\n",
       "    </tr>\n",
       "    <tr>\n",
       "      <th>std</th>\n",
       "      <td>528.65</td>\n",
       "      <td>0.92</td>\n",
       "      <td>258.05</td>\n",
       "      <td>1172076135.68</td>\n",
       "      <td>NaN</td>\n",
       "      <td>928.38</td>\n",
       "      <td>NaN</td>\n",
       "    </tr>\n",
       "  </tbody>\n",
       "</table>\n",
       "</div>"
      ],
      "text/plain": [
       "         User  Card  Amount  Merchant_Name  Zip     MCC  \\\n",
       "count   55.00 55.00   55.00          55.00 0.00   55.00   \n",
       "mean   804.73  0.93  113.00   -10509528.78  NaN 4993.95   \n",
       "min    148.00  0.00 -490.00 -2113554858.00  NaN 3008.00   \n",
       "25%    473.00  0.00   43.66  -997347869.50  NaN 4421.50   \n",
       "50%    848.00  1.00   99.89    38861438.00  NaN 5300.00   \n",
       "75%   1122.00  2.00  232.20   907190995.00  NaN 5719.00   \n",
       "max   1739.00  2.00  920.47  2080935213.00  NaN 7011.00   \n",
       "std    528.65  0.92  258.05  1172076135.68  NaN  928.38   \n",
       "\n",
       "                            Datetime  \n",
       "count                             55  \n",
       "mean   2011-01-04 12:45:04.363636480  \n",
       "min              2011-01-01 04:23:00  \n",
       "25%              2011-01-03 10:04:00  \n",
       "50%              2011-01-04 06:03:00  \n",
       "75%              2011-01-04 13:15:30  \n",
       "max              2011-01-12 09:37:00  \n",
       "std                              NaN  "
      ]
     },
     "execution_count": 27,
     "metadata": {},
     "output_type": "execute_result"
    }
   ],
   "source": [
    "fdf.loc[(fdf['Datetime'] >= '2011-01-01') & (fdf['Datetime'] < '2012-01-01')].describe()"
   ]
  },
  {
   "cell_type": "code",
   "execution_count": 28,
   "metadata": {},
   "outputs": [
    {
     "name": "stderr",
     "output_type": "stream",
     "text": [
      "/home/yichenzhang/anaconda3/envs/ece5831-py3.10/lib/python3.10/site-packages/seaborn/_oldcore.py:1498: FutureWarning: is_categorical_dtype is deprecated and will be removed in a future version. Use isinstance(dtype, CategoricalDtype) instead\n",
      "  if pd.api.types.is_categorical_dtype(vector):\n",
      "/home/yichenzhang/anaconda3/envs/ece5831-py3.10/lib/python3.10/site-packages/seaborn/_oldcore.py:1498: FutureWarning: is_categorical_dtype is deprecated and will be removed in a future version. Use isinstance(dtype, CategoricalDtype) instead\n",
      "  if pd.api.types.is_categorical_dtype(vector):\n"
     ]
    },
    {
     "data": {
      "image/png": "[encoded data removed]",
      "text/plain": [
       "<Figure size 1800x500 with 1 Axes>"
      ]
     },
     "metadata": {},
     "output_type": "display_data"
    }
   ],
   "source": [
    "plt.figure(figsize=(18,5))\n",
    "sns.scatterplot(x=df['Datetime'], y=df['Amount'])\n",
    "plt.show()"
   ]
  },
  {
   "cell_type": "markdown",
   "metadata": {},
   "source": [
    "# Train / Validation / Test Splits"
   ]
  },
  {
   "cell_type": "code",
   "execution_count": 47,
   "metadata": {},
   "outputs": [
    {
     "data": {
      "text/plain": [
       "761.4825109039597"
      ]
     },
     "execution_count": 47,
     "metadata": {},
     "output_type": "execute_result"
    }
   ],
   "source": [
    "# Does the 1:818 ratio still hold when considering only 2015-2020 synthetic data?\n",
    "START = '2015-01-01'\n",
    "len(df.loc[df['Datetime'] >= START]) / len(fdf.loc[fdf['Datetime'] >= START])"
   ]
  },
  {
   "cell_type": "markdown",
   "metadata": {},
   "source": [
    "Note: Slimming down the dtypes as much as possible wreaks a bit of havoc on mean and standard deviation - but at least there are the quartiles to compare."
   ]
  },
  {
   "cell_type": "code",
   "execution_count": 39,
   "metadata": {},
   "outputs": [
    {
     "name": "stdout",
     "output_type": "stream",
     "text": [
      "(1698090, 12)\n"
     ]
    },
    {
     "name": "stderr",
     "output_type": "stream",
     "text": [
      "/home/yichenzhang/anaconda3/envs/ece5831-py3.10/lib/python3.10/site-packages/pandas/core/nanops.py:1479: RuntimeWarning: overflow encountered in cast\n",
      "  return dtype.type(n)\n",
      "/home/yichenzhang/anaconda3/envs/ece5831-py3.10/lib/python3.10/site-packages/numpy/core/_methods.py:49: RuntimeWarning: overflow encountered in reduce\n",
      "  return umr_sum(a, axis, dtype, out, keepdims, initial, where)\n",
      "/home/yichenzhang/anaconda3/envs/ece5831-py3.10/lib/python3.10/site-packages/pandas/core/nanops.py:731: RuntimeWarning: invalid value encountered in scalar divide\n",
      "  the_mean = the_sum / count if count > 0 else np.nan\n",
      "/home/yichenzhang/anaconda3/envs/ece5831-py3.10/lib/python3.10/site-packages/pandas/core/nanops.py:1479: RuntimeWarning: overflow encountered in cast\n",
      "  return dtype.type(n)\n",
      "/home/yichenzhang/anaconda3/envs/ece5831-py3.10/lib/python3.10/site-packages/pandas/core/nanops.py:1010: RuntimeWarning: overflow encountered in square\n",
      "  sqr = _ensure_numeric((avg - values) ** 2)\n",
      "/home/yichenzhang/anaconda3/envs/ece5831-py3.10/lib/python3.10/site-packages/pandas/core/nanops.py:1013: RuntimeWarning: invalid value encountered in scalar divide\n",
      "  result = sqr.sum(axis=axis, dtype=np.float64) / d\n"
     ]
    },
    {
     "data": {
      "text/html": [
       "<div>\n",
       "<style scoped>\n",
       "    .dataframe tbody tr th:only-of-type {\n",
       "        vertical-align: middle;\n",
       "    }\n",
       "\n",
       "    .dataframe tbody tr th {\n",
       "        vertical-align: top;\n",
       "    }\n",
       "\n",
       "    .dataframe thead th {\n",
       "        text-align: right;\n",
       "    }\n",
       "</style>\n",
       "<table border=\"1\" class=\"dataframe\">\n",
       "  <thead>\n",
       "    <tr style=\"text-align: right;\">\n",
       "      <th></th>\n",
       "      <th>User</th>\n",
       "      <th>Card</th>\n",
       "      <th>Amount</th>\n",
       "      <th>Merchant_Name</th>\n",
       "      <th>Zip</th>\n",
       "      <th>MCC</th>\n",
       "      <th>Datetime</th>\n",
       "    </tr>\n",
       "  </thead>\n",
       "  <tbody>\n",
       "    <tr>\n",
       "      <th>count</th>\n",
       "      <td>1698090.00</td>\n",
       "      <td>1698090.00</td>\n",
       "      <td>1698090.00</td>\n",
       "      <td>1698090.00</td>\n",
       "      <td>1476422.00</td>\n",
       "      <td>1698090.00</td>\n",
       "      <td>1698090</td>\n",
       "    </tr>\n",
       "    <tr>\n",
       "      <th>mean</th>\n",
       "      <td>1002.41</td>\n",
       "      <td>1.30</td>\n",
       "      <td>NaN</td>\n",
       "      <td>-477428929105773248.00</td>\n",
       "      <td>51145.17</td>\n",
       "      <td>5558.47</td>\n",
       "      <td>2015-07-02 23:16:24.626998272</td>\n",
       "    </tr>\n",
       "    <tr>\n",
       "      <th>min</th>\n",
       "      <td>0.00</td>\n",
       "      <td>0.00</td>\n",
       "      <td>-500.00</td>\n",
       "      <td>-9222899435637403648.00</td>\n",
       "      <td>1001.00</td>\n",
       "      <td>1711.00</td>\n",
       "      <td>2015-01-01 00:01:00</td>\n",
       "    </tr>\n",
       "    <tr>\n",
       "      <th>25%</th>\n",
       "      <td>515.00</td>\n",
       "      <td>0.00</td>\n",
       "      <td>9.10</td>\n",
       "      <td>-4530600671233798656.00</td>\n",
       "      <td>28345.00</td>\n",
       "      <td>5300.00</td>\n",
       "      <td>2015-04-02 17:18:00</td>\n",
       "    </tr>\n",
       "    <tr>\n",
       "      <th>50%</th>\n",
       "      <td>1006.00</td>\n",
       "      <td>1.00</td>\n",
       "      <td>29.19</td>\n",
       "      <td>-794809796539996544.00</td>\n",
       "      <td>47348.00</td>\n",
       "      <td>5499.00</td>\n",
       "      <td>2015-07-03 06:59:30</td>\n",
       "    </tr>\n",
       "    <tr>\n",
       "      <th>75%</th>\n",
       "      <td>1477.00</td>\n",
       "      <td>2.00</td>\n",
       "      <td>63.00</td>\n",
       "      <td>3236310874174399488.00</td>\n",
       "      <td>77573.00</td>\n",
       "      <td>5812.00</td>\n",
       "      <td>2015-10-02 07:48:00</td>\n",
       "    </tr>\n",
       "    <tr>\n",
       "      <th>max</th>\n",
       "      <td>1998.00</td>\n",
       "      <td>8.00</td>\n",
       "      <td>4804.00</td>\n",
       "      <td>9222877122873252864.00</td>\n",
       "      <td>99840.00</td>\n",
       "      <td>9402.00</td>\n",
       "      <td>2015-12-31 23:59:00</td>\n",
       "    </tr>\n",
       "    <tr>\n",
       "      <th>std</th>\n",
       "      <td>569.96</td>\n",
       "      <td>1.37</td>\n",
       "      <td>NaN</td>\n",
       "      <td>4769953330456576000.00</td>\n",
       "      <td>29361.28</td>\n",
       "      <td>879.74</td>\n",
       "      <td>NaN</td>\n",
       "    </tr>\n",
       "  </tbody>\n",
       "</table>\n",
       "</div>"
      ],
      "text/plain": [
       "            User       Card     Amount           Merchant_Name        Zip  \\\n",
       "count 1698090.00 1698090.00 1698090.00              1698090.00 1476422.00   \n",
       "mean     1002.41       1.30        NaN  -477428929105773248.00   51145.17   \n",
       "min         0.00       0.00    -500.00 -9222899435637403648.00    1001.00   \n",
       "25%       515.00       0.00       9.10 -4530600671233798656.00   28345.00   \n",
       "50%      1006.00       1.00      29.19  -794809796539996544.00   47348.00   \n",
       "75%      1477.00       2.00      63.00  3236310874174399488.00   77573.00   \n",
       "max      1998.00       8.00    4804.00  9222877122873252864.00   99840.00   \n",
       "std       569.96       1.37        NaN  4769953330456576000.00   29361.28   \n",
       "\n",
       "             MCC                       Datetime  \n",
       "count 1698090.00                        1698090  \n",
       "mean     5558.47  2015-07-02 23:16:24.626998272  \n",
       "min      1711.00            2015-01-01 00:01:00  \n",
       "25%      5300.00            2015-04-02 17:18:00  \n",
       "50%      5499.00            2015-07-03 06:59:30  \n",
       "75%      5812.00            2015-10-02 07:48:00  \n",
       "max      9402.00            2015-12-31 23:59:00  \n",
       "std       879.74                            NaN  "
      ]
     },
     "execution_count": 39,
     "metadata": {},
     "output_type": "execute_result"
    }
   ],
   "source": [
    "train_nf_pool = df.loc[(df['Datetime'] >= '2015-01-01') & (df['Datetime'] < '2016-01-01')].copy()\n",
    "print(train_nf_pool.shape)\n",
    "train_nf_pool.describe()"
   ]
  },
  {
   "cell_type": "code",
   "execution_count": 74,
   "metadata": {},
   "outputs": [
    {
     "data": {
      "text/plain": [
       "0.0029444846857351495"
      ]
     },
     "execution_count": 74,
     "metadata": {},
     "output_type": "execute_result"
    }
   ],
   "source": [
    "portion = 5000 / len(train_nf_pool)\n",
    "portion"
   ]
  },
  {
   "cell_type": "code",
   "execution_count": 75,
   "metadata": {},
   "outputs": [
    {
     "name": "stderr",
     "output_type": "stream",
     "text": [
      "/home/yichenzhang/anaconda3/envs/ece5831-py3.10/lib/python3.10/site-packages/numpy/core/_methods.py:49: RuntimeWarning: overflow encountered in reduce\n",
      "  return umr_sum(a, axis, dtype, out, keepdims, initial, where)\n",
      "/home/yichenzhang/anaconda3/envs/ece5831-py3.10/lib/python3.10/site-packages/pandas/core/nanops.py:1010: RuntimeWarning: overflow encountered in square\n",
      "  sqr = _ensure_numeric((avg - values) ** 2)\n"
     ]
    },
    {
     "data": {
      "text/html": [
       "<div>\n",
       "<style scoped>\n",
       "    .dataframe tbody tr th:only-of-type {\n",
       "        vertical-align: middle;\n",
       "    }\n",
       "\n",
       "    .dataframe tbody tr th {\n",
       "        vertical-align: top;\n",
       "    }\n",
       "\n",
       "    .dataframe thead th {\n",
       "        text-align: right;\n",
       "    }\n",
       "</style>\n",
       "<table border=\"1\" class=\"dataframe\">\n",
       "  <thead>\n",
       "    <tr style=\"text-align: right;\">\n",
       "      <th></th>\n",
       "      <th>User</th>\n",
       "      <th>Card</th>\n",
       "      <th>Amount</th>\n",
       "      <th>Merchant_Name</th>\n",
       "      <th>Zip</th>\n",
       "      <th>MCC</th>\n",
       "      <th>Datetime</th>\n",
       "    </tr>\n",
       "  </thead>\n",
       "  <tbody>\n",
       "    <tr>\n",
       "      <th>count</th>\n",
       "      <td>5094.00</td>\n",
       "      <td>5094.00</td>\n",
       "      <td>5094.00</td>\n",
       "      <td>5094.00</td>\n",
       "      <td>4430.00</td>\n",
       "      <td>5094.00</td>\n",
       "      <td>5094</td>\n",
       "    </tr>\n",
       "    <tr>\n",
       "      <th>mean</th>\n",
       "      <td>987.01</td>\n",
       "      <td>1.29</td>\n",
       "      <td>inf</td>\n",
       "      <td>-380092999881963456.00</td>\n",
       "      <td>51161.54</td>\n",
       "      <td>5562.96</td>\n",
       "      <td>2015-06-30 00:44:36.077738496</td>\n",
       "    </tr>\n",
       "    <tr>\n",
       "      <th>min</th>\n",
       "      <td>0.00</td>\n",
       "      <td>0.00</td>\n",
       "      <td>-485.00</td>\n",
       "      <td>-9204246302766843904.00</td>\n",
       "      <td>1028.00</td>\n",
       "      <td>3001.00</td>\n",
       "      <td>2015-01-01 07:20:00</td>\n",
       "    </tr>\n",
       "    <tr>\n",
       "      <th>25%</th>\n",
       "      <td>507.00</td>\n",
       "      <td>0.00</td>\n",
       "      <td>9.60</td>\n",
       "      <td>-4500542936415012352.00</td>\n",
       "      <td>28379.00</td>\n",
       "      <td>5300.00</td>\n",
       "      <td>2015-03-31 00:39:00</td>\n",
       "    </tr>\n",
       "    <tr>\n",
       "      <th>50%</th>\n",
       "      <td>983.00</td>\n",
       "      <td>1.00</td>\n",
       "      <td>28.98</td>\n",
       "      <td>-750167460131886592.00</td>\n",
       "      <td>47525.50</td>\n",
       "      <td>5499.00</td>\n",
       "      <td>2015-06-28 13:43:30</td>\n",
       "    </tr>\n",
       "    <tr>\n",
       "      <th>75%</th>\n",
       "      <td>1457.75</td>\n",
       "      <td>2.00</td>\n",
       "      <td>61.87</td>\n",
       "      <td>3639123430068731392.00</td>\n",
       "      <td>78130.00</td>\n",
       "      <td>5812.00</td>\n",
       "      <td>2015-09-29 05:10:00</td>\n",
       "    </tr>\n",
       "    <tr>\n",
       "      <th>max</th>\n",
       "      <td>1998.00</td>\n",
       "      <td>7.00</td>\n",
       "      <td>1034.00</td>\n",
       "      <td>9222877122873252864.00</td>\n",
       "      <td>99737.00</td>\n",
       "      <td>9402.00</td>\n",
       "      <td>2015-12-31 22:41:00</td>\n",
       "    </tr>\n",
       "    <tr>\n",
       "      <th>std</th>\n",
       "      <td>567.11</td>\n",
       "      <td>1.36</td>\n",
       "      <td>inf</td>\n",
       "      <td>4786725718605732864.00</td>\n",
       "      <td>29559.97</td>\n",
       "      <td>893.17</td>\n",
       "      <td>NaN</td>\n",
       "    </tr>\n",
       "  </tbody>\n",
       "</table>\n",
       "</div>"
      ],
      "text/plain": [
       "         User    Card  Amount           Merchant_Name      Zip     MCC  \\\n",
       "count 5094.00 5094.00 5094.00                 5094.00  4430.00 5094.00   \n",
       "mean   987.01    1.29     inf  -380092999881963456.00 51161.54 5562.96   \n",
       "min      0.00    0.00 -485.00 -9204246302766843904.00  1028.00 3001.00   \n",
       "25%    507.00    0.00    9.60 -4500542936415012352.00 28379.00 5300.00   \n",
       "50%    983.00    1.00   28.98  -750167460131886592.00 47525.50 5499.00   \n",
       "75%   1457.75    2.00   61.87  3639123430068731392.00 78130.00 5812.00   \n",
       "max   1998.00    7.00 1034.00  9222877122873252864.00 99737.00 9402.00   \n",
       "std    567.11    1.36     inf  4786725718605732864.00 29559.97  893.17   \n",
       "\n",
       "                            Datetime  \n",
       "count                           5094  \n",
       "mean   2015-06-30 00:44:36.077738496  \n",
       "min              2015-01-01 07:20:00  \n",
       "25%              2015-03-31 00:39:00  \n",
       "50%              2015-06-28 13:43:30  \n",
       "75%              2015-09-29 05:10:00  \n",
       "max              2015-12-31 22:41:00  \n",
       "std                              NaN  "
      ]
     },
     "execution_count": 75,
     "metadata": {},
     "output_type": "execute_result"
    }
   ],
   "source": [
    "# Sample 5000 non-fraud training data points, stratifying by Use_Chip\n",
    "train_nf_sample = train_nf_pool.groupby('Use_Chip', group_keys=False).apply(lambda data: data.sample(frac=0.003))\n",
    "train_nf_sample.describe()"
   ]
  },
  {
   "cell_type": "code",
   "execution_count": 76,
   "metadata": {},
   "outputs": [
    {
     "data": {
      "text/plain": [
       "Use_Chip\n",
       "Chip      3592\n",
       "Swipe      875\n",
       "Online     627\n",
       "Name: count, dtype: int64"
      ]
     },
     "execution_count": 76,
     "metadata": {},
     "output_type": "execute_result"
    }
   ],
   "source": [
    "train_nf_sample['Use_Chip'].value_counts()"
   ]
  },
  {
   "cell_type": "markdown",
   "metadata": {},
   "source": [
    "Use all the fraud transactions from 2015 in training"
   ]
  },
  {
   "cell_type": "code",
   "execution_count": 40,
   "metadata": {},
   "outputs": [
    {
     "name": "stdout",
     "output_type": "stream",
     "text": [
      "(3281, 12)\n"
     ]
    },
    {
     "name": "stderr",
     "output_type": "stream",
     "text": [
      "/home/yichenzhang/anaconda3/envs/ece5831-py3.10/lib/python3.10/site-packages/numpy/core/_methods.py:49: RuntimeWarning: overflow encountered in reduce\n",
      "  return umr_sum(a, axis, dtype, out, keepdims, initial, where)\n",
      "/home/yichenzhang/anaconda3/envs/ece5831-py3.10/lib/python3.10/site-packages/pandas/core/nanops.py:1010: RuntimeWarning: overflow encountered in square\n",
      "  sqr = _ensure_numeric((avg - values) ** 2)\n"
     ]
    },
    {
     "data": {
      "text/html": [
       "<div>\n",
       "<style scoped>\n",
       "    .dataframe tbody tr th:only-of-type {\n",
       "        vertical-align: middle;\n",
       "    }\n",
       "\n",
       "    .dataframe tbody tr th {\n",
       "        vertical-align: top;\n",
       "    }\n",
       "\n",
       "    .dataframe thead th {\n",
       "        text-align: right;\n",
       "    }\n",
       "</style>\n",
       "<table border=\"1\" class=\"dataframe\">\n",
       "  <thead>\n",
       "    <tr style=\"text-align: right;\">\n",
       "      <th></th>\n",
       "      <th>User</th>\n",
       "      <th>Card</th>\n",
       "      <th>Amount</th>\n",
       "      <th>Merchant_Name</th>\n",
       "      <th>Zip</th>\n",
       "      <th>MCC</th>\n",
       "      <th>Datetime</th>\n",
       "    </tr>\n",
       "  </thead>\n",
       "  <tbody>\n",
       "    <tr>\n",
       "      <th>count</th>\n",
       "      <td>3281.00</td>\n",
       "      <td>3281.00</td>\n",
       "      <td>3281.00</td>\n",
       "      <td>3281.00</td>\n",
       "      <td>504.00</td>\n",
       "      <td>3281.00</td>\n",
       "      <td>3281</td>\n",
       "    </tr>\n",
       "    <tr>\n",
       "      <th>mean</th>\n",
       "      <td>1025.10</td>\n",
       "      <td>1.59</td>\n",
       "      <td>inf</td>\n",
       "      <td>-163518171559036128.00</td>\n",
       "      <td>52739.62</td>\n",
       "      <td>5267.89</td>\n",
       "      <td>2015-08-28 18:09:17.299603968</td>\n",
       "    </tr>\n",
       "    <tr>\n",
       "      <th>min</th>\n",
       "      <td>0.00</td>\n",
       "      <td>0.00</td>\n",
       "      <td>-500.00</td>\n",
       "      <td>-9177770777448816640.00</td>\n",
       "      <td>1057.00</td>\n",
       "      <td>3000.00</td>\n",
       "      <td>2015-03-30 09:54:00</td>\n",
       "    </tr>\n",
       "    <tr>\n",
       "      <th>25%</th>\n",
       "      <td>466.00</td>\n",
       "      <td>0.00</td>\n",
       "      <td>32.31</td>\n",
       "      <td>-4282466774399734272.00</td>\n",
       "      <td>29702.00</td>\n",
       "      <td>4829.00</td>\n",
       "      <td>2015-06-21 11:25:00</td>\n",
       "    </tr>\n",
       "    <tr>\n",
       "      <th>50%</th>\n",
       "      <td>1040.00</td>\n",
       "      <td>1.00</td>\n",
       "      <td>88.00</td>\n",
       "      <td>-521141999023077632.00</td>\n",
       "      <td>48199.00</td>\n",
       "      <td>5310.00</td>\n",
       "      <td>2015-08-26 13:17:00</td>\n",
       "    </tr>\n",
       "    <tr>\n",
       "      <th>75%</th>\n",
       "      <td>1571.00</td>\n",
       "      <td>3.00</td>\n",
       "      <td>166.50</td>\n",
       "      <td>4241336128694185472.00</td>\n",
       "      <td>78374.00</td>\n",
       "      <td>5732.00</td>\n",
       "      <td>2015-11-18 10:31:00</td>\n",
       "    </tr>\n",
       "    <tr>\n",
       "      <th>max</th>\n",
       "      <td>1995.00</td>\n",
       "      <td>8.00</td>\n",
       "      <td>2930.00</td>\n",
       "      <td>9204012136958900224.00</td>\n",
       "      <td>98660.00</td>\n",
       "      <td>9402.00</td>\n",
       "      <td>2015-12-31 10:41:00</td>\n",
       "    </tr>\n",
       "    <tr>\n",
       "      <th>std</th>\n",
       "      <td>592.37</td>\n",
       "      <td>1.51</td>\n",
       "      <td>inf</td>\n",
       "      <td>4861997901622839296.00</td>\n",
       "      <td>28973.06</td>\n",
       "      <td>1041.38</td>\n",
       "      <td>NaN</td>\n",
       "    </tr>\n",
       "  </tbody>\n",
       "</table>\n",
       "</div>"
      ],
      "text/plain": [
       "         User    Card  Amount           Merchant_Name      Zip     MCC  \\\n",
       "count 3281.00 3281.00 3281.00                 3281.00   504.00 3281.00   \n",
       "mean  1025.10    1.59     inf  -163518171559036128.00 52739.62 5267.89   \n",
       "min      0.00    0.00 -500.00 -9177770777448816640.00  1057.00 3000.00   \n",
       "25%    466.00    0.00   32.31 -4282466774399734272.00 29702.00 4829.00   \n",
       "50%   1040.00    1.00   88.00  -521141999023077632.00 48199.00 5310.00   \n",
       "75%   1571.00    3.00  166.50  4241336128694185472.00 78374.00 5732.00   \n",
       "max   1995.00    8.00 2930.00  9204012136958900224.00 98660.00 9402.00   \n",
       "std    592.37    1.51     inf  4861997901622839296.00 28973.06 1041.38   \n",
       "\n",
       "                            Datetime  \n",
       "count                           3281  \n",
       "mean   2015-08-28 18:09:17.299603968  \n",
       "min              2015-03-30 09:54:00  \n",
       "25%              2015-06-21 11:25:00  \n",
       "50%              2015-08-26 13:17:00  \n",
       "75%              2015-11-18 10:31:00  \n",
       "max              2015-12-31 10:41:00  \n",
       "std                              NaN  "
      ]
     },
     "execution_count": 40,
     "metadata": {},
     "output_type": "execute_result"
    }
   ],
   "source": [
    "train_f_pool = fdf.loc[(fdf['Datetime'] >= '2015-01-01') & (fdf['Datetime'] < '2016-01-01')].copy()\n",
    "print(train_f_pool.shape)\n",
    "train_f_pool.describe()"
   ]
  },
  {
   "cell_type": "code",
   "execution_count": 77,
   "metadata": {},
   "outputs": [
    {
     "name": "stderr",
     "output_type": "stream",
     "text": [
      "/home/yichenzhang/anaconda3/envs/ece5831-py3.10/lib/python3.10/site-packages/numpy/core/_methods.py:49: RuntimeWarning: overflow encountered in reduce\n",
      "  return umr_sum(a, axis, dtype, out, keepdims, initial, where)\n",
      "/home/yichenzhang/anaconda3/envs/ece5831-py3.10/lib/python3.10/site-packages/pandas/core/nanops.py:1010: RuntimeWarning: overflow encountered in square\n",
      "  sqr = _ensure_numeric((avg - values) ** 2)\n"
     ]
    },
    {
     "data": {
      "text/html": [
       "<div>\n",
       "<style scoped>\n",
       "    .dataframe tbody tr th:only-of-type {\n",
       "        vertical-align: middle;\n",
       "    }\n",
       "\n",
       "    .dataframe tbody tr th {\n",
       "        vertical-align: top;\n",
       "    }\n",
       "\n",
       "    .dataframe thead th {\n",
       "        text-align: right;\n",
       "    }\n",
       "</style>\n",
       "<table border=\"1\" class=\"dataframe\">\n",
       "  <thead>\n",
       "    <tr style=\"text-align: right;\">\n",
       "      <th></th>\n",
       "      <th>User</th>\n",
       "      <th>Card</th>\n",
       "      <th>Amount</th>\n",
       "      <th>Merchant_Name</th>\n",
       "      <th>Zip</th>\n",
       "      <th>MCC</th>\n",
       "      <th>Datetime</th>\n",
       "    </tr>\n",
       "  </thead>\n",
       "  <tbody>\n",
       "    <tr>\n",
       "      <th>count</th>\n",
       "      <td>8375.00</td>\n",
       "      <td>8375.00</td>\n",
       "      <td>8375.00</td>\n",
       "      <td>8375.00</td>\n",
       "      <td>4934.00</td>\n",
       "      <td>8375.00</td>\n",
       "      <td>8375</td>\n",
       "    </tr>\n",
       "    <tr>\n",
       "      <th>mean</th>\n",
       "      <td>1001.93</td>\n",
       "      <td>1.41</td>\n",
       "      <td>inf</td>\n",
       "      <td>-295247386541363584.00</td>\n",
       "      <td>51322.73</td>\n",
       "      <td>5447.36</td>\n",
       "      <td>2015-07-23 10:17:54.010746112</td>\n",
       "    </tr>\n",
       "    <tr>\n",
       "      <th>min</th>\n",
       "      <td>0.00</td>\n",
       "      <td>0.00</td>\n",
       "      <td>-500.00</td>\n",
       "      <td>-9204246302766843904.00</td>\n",
       "      <td>1028.00</td>\n",
       "      <td>3000.00</td>\n",
       "      <td>2015-01-01 07:20:00</td>\n",
       "    </tr>\n",
       "    <tr>\n",
       "      <th>25%</th>\n",
       "      <td>494.00</td>\n",
       "      <td>0.00</td>\n",
       "      <td>12.71</td>\n",
       "      <td>-4282466774399734272.00</td>\n",
       "      <td>28610.00</td>\n",
       "      <td>4900.00</td>\n",
       "      <td>2015-05-01 19:55:30</td>\n",
       "    </tr>\n",
       "    <tr>\n",
       "      <th>50%</th>\n",
       "      <td>1002.00</td>\n",
       "      <td>1.00</td>\n",
       "      <td>43.88</td>\n",
       "      <td>-543251973251703872.00</td>\n",
       "      <td>47675.00</td>\n",
       "      <td>5411.00</td>\n",
       "      <td>2015-07-26 16:09:00</td>\n",
       "    </tr>\n",
       "    <tr>\n",
       "      <th>75%</th>\n",
       "      <td>1499.00</td>\n",
       "      <td>2.00</td>\n",
       "      <td>99.03</td>\n",
       "      <td>3952145593743244288.00</td>\n",
       "      <td>78148.00</td>\n",
       "      <td>5812.00</td>\n",
       "      <td>2015-10-20 13:17:30</td>\n",
       "    </tr>\n",
       "    <tr>\n",
       "      <th>max</th>\n",
       "      <td>1998.00</td>\n",
       "      <td>8.00</td>\n",
       "      <td>2930.00</td>\n",
       "      <td>9222877122873252864.00</td>\n",
       "      <td>99737.00</td>\n",
       "      <td>9402.00</td>\n",
       "      <td>2015-12-31 22:41:00</td>\n",
       "    </tr>\n",
       "    <tr>\n",
       "      <th>std</th>\n",
       "      <td>577.40</td>\n",
       "      <td>1.43</td>\n",
       "      <td>inf</td>\n",
       "      <td>4817225411842575360.00</td>\n",
       "      <td>29501.53</td>\n",
       "      <td>964.73</td>\n",
       "      <td>NaN</td>\n",
       "    </tr>\n",
       "  </tbody>\n",
       "</table>\n",
       "</div>"
      ],
      "text/plain": [
       "         User    Card  Amount           Merchant_Name      Zip     MCC  \\\n",
       "count 8375.00 8375.00 8375.00                 8375.00  4934.00 8375.00   \n",
       "mean  1001.93    1.41     inf  -295247386541363584.00 51322.73 5447.36   \n",
       "min      0.00    0.00 -500.00 -9204246302766843904.00  1028.00 3000.00   \n",
       "25%    494.00    0.00   12.71 -4282466774399734272.00 28610.00 4900.00   \n",
       "50%   1002.00    1.00   43.88  -543251973251703872.00 47675.00 5411.00   \n",
       "75%   1499.00    2.00   99.03  3952145593743244288.00 78148.00 5812.00   \n",
       "max   1998.00    8.00 2930.00  9222877122873252864.00 99737.00 9402.00   \n",
       "std    577.40    1.43     inf  4817225411842575360.00 29501.53  964.73   \n",
       "\n",
       "                            Datetime  \n",
       "count                           8375  \n",
       "mean   2015-07-23 10:17:54.010746112  \n",
       "min              2015-01-01 07:20:00  \n",
       "25%              2015-05-01 19:55:30  \n",
       "50%              2015-07-26 16:09:00  \n",
       "75%              2015-10-20 13:17:30  \n",
       "max              2015-12-31 22:41:00  \n",
       "std                              NaN  "
      ]
     },
     "execution_count": 77,
     "metadata": {},
     "output_type": "execute_result"
    }
   ],
   "source": [
    "training_set = pd.concat([train_nf_sample, train_f_pool])\n",
    "training_set.describe()"
   ]
  },
  {
   "cell_type": "code",
   "execution_count": 84,
   "metadata": {},
   "outputs": [
    {
     "data": {
      "text/plain": [
       "['data/train_set_01']"
      ]
     },
     "execution_count": 84,
     "metadata": {},
     "output_type": "execute_result"
    }
   ],
   "source": [
    "training_set.sort_values(by=['Datetime', 'User', 'Card'], inplace=True)\n",
    "joblib.dump(training_set, 'data/train_set_01')"
   ]
  },
  {
   "cell_type": "code",
   "execution_count": 93,
   "metadata": {},
   "outputs": [
    {
     "data": {
      "text/html": [
       "<div>\n",
       "<style scoped>\n",
       "    .dataframe tbody tr th:only-of-type {\n",
       "        vertical-align: middle;\n",
       "    }\n",
       "\n",
       "    .dataframe tbody tr th {\n",
       "        vertical-align: top;\n",
       "    }\n",
       "\n",
       "    .dataframe thead th {\n",
       "        text-align: right;\n",
       "    }\n",
       "</style>\n",
       "<table border=\"1\" class=\"dataframe\">\n",
       "  <thead>\n",
       "    <tr style=\"text-align: right;\">\n",
       "      <th></th>\n",
       "      <th>User</th>\n",
       "      <th>Card</th>\n",
       "      <th>Amount</th>\n",
       "      <th>Use_Chip</th>\n",
       "      <th>Merchant_Name</th>\n",
       "      <th>Merchant_City</th>\n",
       "      <th>Merchant_State</th>\n",
       "      <th>Zip</th>\n",
       "      <th>MCC</th>\n",
       "      <th>Errors</th>\n",
       "      <th>Is_Fraud</th>\n",
       "      <th>Datetime</th>\n",
       "    </tr>\n",
       "  </thead>\n",
       "  <tbody>\n",
       "    <tr>\n",
       "      <th>1826192</th>\n",
       "      <td>787</td>\n",
       "      <td>3</td>\n",
       "      <td>3.81</td>\n",
       "      <td>Chip</td>\n",
       "      <td>6882551472640459815</td>\n",
       "      <td>Trumann</td>\n",
       "      <td>AR</td>\n",
       "      <td>72472.00</td>\n",
       "      <td>5812</td>\n",
       "      <td>NaN</td>\n",
       "      <td>False</td>\n",
       "      <td>2015-01-01 07:20:00</td>\n",
       "    </tr>\n",
       "    <tr>\n",
       "      <th>399976</th>\n",
       "      <td>1036</td>\n",
       "      <td>1</td>\n",
       "      <td>47.84</td>\n",
       "      <td>Swipe</td>\n",
       "      <td>-8384568426755457557</td>\n",
       "      <td>Woodmere</td>\n",
       "      <td>NY</td>\n",
       "      <td>11598.00</td>\n",
       "      <td>4121</td>\n",
       "      <td>NaN</td>\n",
       "      <td>False</td>\n",
       "      <td>2015-01-01 08:10:00</td>\n",
       "    </tr>\n",
       "    <tr>\n",
       "      <th>2214970</th>\n",
       "      <td>1980</td>\n",
       "      <td>1</td>\n",
       "      <td>7.03</td>\n",
       "      <td>Swipe</td>\n",
       "      <td>1139640404793641563</td>\n",
       "      <td>Charlevoix</td>\n",
       "      <td>MI</td>\n",
       "      <td>49720.00</td>\n",
       "      <td>5541</td>\n",
       "      <td>NaN</td>\n",
       "      <td>False</td>\n",
       "      <td>2015-01-01 10:51:00</td>\n",
       "    </tr>\n",
       "    <tr>\n",
       "      <th>130398</th>\n",
       "      <td>215</td>\n",
       "      <td>0</td>\n",
       "      <td>25.38</td>\n",
       "      <td>Swipe</td>\n",
       "      <td>-5739178708996532803</td>\n",
       "      <td>Whitehouse Station</td>\n",
       "      <td>NJ</td>\n",
       "      <td>8889.00</td>\n",
       "      <td>5411</td>\n",
       "      <td>NaN</td>\n",
       "      <td>False</td>\n",
       "      <td>2015-01-01 11:20:00</td>\n",
       "    </tr>\n",
       "    <tr>\n",
       "      <th>626119</th>\n",
       "      <td>1848</td>\n",
       "      <td>0</td>\n",
       "      <td>37.75</td>\n",
       "      <td>Chip</td>\n",
       "      <td>-6401694578414405170</td>\n",
       "      <td>New York</td>\n",
       "      <td>NY</td>\n",
       "      <td>10002.00</td>\n",
       "      <td>7995</td>\n",
       "      <td>NaN</td>\n",
       "      <td>False</td>\n",
       "      <td>2015-01-01 12:33:00</td>\n",
       "    </tr>\n",
       "  </tbody>\n",
       "</table>\n",
       "</div>"
      ],
      "text/plain": [
       "         User  Card  Amount Use_Chip        Merchant_Name       Merchant_City  \\\n",
       "1826192   787     3    3.81     Chip  6882551472640459815             Trumann   \n",
       "399976   1036     1   47.84    Swipe -8384568426755457557            Woodmere   \n",
       "2214970  1980     1    7.03    Swipe  1139640404793641563          Charlevoix   \n",
       "130398    215     0   25.38    Swipe -5739178708996532803  Whitehouse Station   \n",
       "626119   1848     0   37.75     Chip -6401694578414405170            New York   \n",
       "\n",
       "        Merchant_State      Zip   MCC Errors  Is_Fraud            Datetime  \n",
       "1826192             AR 72472.00  5812    NaN     False 2015-01-01 07:20:00  \n",
       "399976              NY 11598.00  4121    NaN     False 2015-01-01 08:10:00  \n",
       "2214970             MI 49720.00  5541    NaN     False 2015-01-01 10:51:00  \n",
       "130398              NJ  8889.00  5411    NaN     False 2015-01-01 11:20:00  \n",
       "626119              NY 10002.00  7995    NaN     False 2015-01-01 12:33:00  "
      ]
     },
     "execution_count": 93,
     "metadata": {},
     "output_type": "execute_result"
    }
   ],
   "source": [
    "training_set.head()"
   ]
  },
  {
   "cell_type": "code",
   "execution_count": 43,
   "metadata": {},
   "outputs": [
    {
     "name": "stdout",
     "output_type": "stream",
     "text": [
      "(3428450, 12)\n"
     ]
    },
    {
     "name": "stderr",
     "output_type": "stream",
     "text": [
      "/home/yichenzhang/anaconda3/envs/ece5831-py3.10/lib/python3.10/site-packages/pandas/core/nanops.py:1479: RuntimeWarning: overflow encountered in cast\n",
      "  return dtype.type(n)\n",
      "/home/yichenzhang/anaconda3/envs/ece5831-py3.10/lib/python3.10/site-packages/numpy/core/_methods.py:49: RuntimeWarning: overflow encountered in reduce\n",
      "  return umr_sum(a, axis, dtype, out, keepdims, initial, where)\n",
      "/home/yichenzhang/anaconda3/envs/ece5831-py3.10/lib/python3.10/site-packages/pandas/core/nanops.py:731: RuntimeWarning: invalid value encountered in scalar divide\n",
      "  the_mean = the_sum / count if count > 0 else np.nan\n",
      "/home/yichenzhang/anaconda3/envs/ece5831-py3.10/lib/python3.10/site-packages/pandas/core/nanops.py:1479: RuntimeWarning: overflow encountered in cast\n",
      "  return dtype.type(n)\n",
      "/home/yichenzhang/anaconda3/envs/ece5831-py3.10/lib/python3.10/site-packages/pandas/core/nanops.py:1010: RuntimeWarning: overflow encountered in square\n",
      "  sqr = _ensure_numeric((avg - values) ** 2)\n",
      "/home/yichenzhang/anaconda3/envs/ece5831-py3.10/lib/python3.10/site-packages/pandas/core/nanops.py:1013: RuntimeWarning: invalid value encountered in scalar divide\n",
      "  result = sqr.sum(axis=axis, dtype=np.float64) / d\n"
     ]
    },
    {
     "data": {
      "text/html": [
       "<div>\n",
       "<style scoped>\n",
       "    .dataframe tbody tr th:only-of-type {\n",
       "        vertical-align: middle;\n",
       "    }\n",
       "\n",
       "    .dataframe tbody tr th {\n",
       "        vertical-align: top;\n",
       "    }\n",
       "\n",
       "    .dataframe thead th {\n",
       "        text-align: right;\n",
       "    }\n",
       "</style>\n",
       "<table border=\"1\" class=\"dataframe\">\n",
       "  <thead>\n",
       "    <tr style=\"text-align: right;\">\n",
       "      <th></th>\n",
       "      <th>Amount</th>\n",
       "    </tr>\n",
       "  </thead>\n",
       "  <tbody>\n",
       "    <tr>\n",
       "      <th>count</th>\n",
       "      <td>3428450.00</td>\n",
       "    </tr>\n",
       "    <tr>\n",
       "      <th>mean</th>\n",
       "      <td>NaN</td>\n",
       "    </tr>\n",
       "    <tr>\n",
       "      <th>std</th>\n",
       "      <td>NaN</td>\n",
       "    </tr>\n",
       "    <tr>\n",
       "      <th>min</th>\n",
       "      <td>-500.00</td>\n",
       "    </tr>\n",
       "    <tr>\n",
       "      <th>25%</th>\n",
       "      <td>9.03</td>\n",
       "    </tr>\n",
       "    <tr>\n",
       "      <th>50%</th>\n",
       "      <td>29.23</td>\n",
       "    </tr>\n",
       "    <tr>\n",
       "      <th>75%</th>\n",
       "      <td>63.00</td>\n",
       "    </tr>\n",
       "    <tr>\n",
       "      <th>max</th>\n",
       "      <td>5156.00</td>\n",
       "    </tr>\n",
       "  </tbody>\n",
       "</table>\n",
       "</div>"
      ],
      "text/plain": [
       "          Amount\n",
       "count 3428450.00\n",
       "mean         NaN\n",
       "std          NaN\n",
       "min      -500.00\n",
       "25%         9.03\n",
       "50%        29.23\n",
       "75%        63.00\n",
       "max      5156.00"
      ]
     },
     "execution_count": 43,
     "metadata": {},
     "output_type": "execute_result"
    }
   ],
   "source": [
    "validation_nf_pool = df.loc[(df['Datetime'] >= '2016-01-01') & (df['Datetime'] < '2018-01-01')].copy()\n",
    "print(validation_nf_pool.shape)\n",
    "validation_nf_pool[['Amount']].describe()"
   ]
  },
  {
   "cell_type": "code",
   "execution_count": 80,
   "metadata": {},
   "outputs": [
    {
     "name": "stdout",
     "output_type": "stream",
     "text": [
      "0.00087503099068092\n",
      "0.5216484089723527\n"
     ]
    }
   ],
   "source": [
    "print(3000 / len(validation_nf_pool))\n",
    "print(2000 / len(validation_f_pool))"
   ]
  },
  {
   "cell_type": "code",
   "execution_count": 81,
   "metadata": {},
   "outputs": [
    {
     "name": "stderr",
     "output_type": "stream",
     "text": [
      "/home/yichenzhang/anaconda3/envs/ece5831-py3.10/lib/python3.10/site-packages/numpy/core/_methods.py:49: RuntimeWarning: overflow encountered in reduce\n",
      "  return umr_sum(a, axis, dtype, out, keepdims, initial, where)\n",
      "/home/yichenzhang/anaconda3/envs/ece5831-py3.10/lib/python3.10/site-packages/pandas/core/nanops.py:1010: RuntimeWarning: overflow encountered in square\n",
      "  sqr = _ensure_numeric((avg - values) ** 2)\n"
     ]
    },
    {
     "data": {
      "text/html": [
       "<div>\n",
       "<style scoped>\n",
       "    .dataframe tbody tr th:only-of-type {\n",
       "        vertical-align: middle;\n",
       "    }\n",
       "\n",
       "    .dataframe tbody tr th {\n",
       "        vertical-align: top;\n",
       "    }\n",
       "\n",
       "    .dataframe thead th {\n",
       "        text-align: right;\n",
       "    }\n",
       "</style>\n",
       "<table border=\"1\" class=\"dataframe\">\n",
       "  <thead>\n",
       "    <tr style=\"text-align: right;\">\n",
       "      <th></th>\n",
       "      <th>User</th>\n",
       "      <th>Card</th>\n",
       "      <th>Amount</th>\n",
       "      <th>Merchant_Name</th>\n",
       "      <th>Zip</th>\n",
       "      <th>MCC</th>\n",
       "      <th>Datetime</th>\n",
       "    </tr>\n",
       "  </thead>\n",
       "  <tbody>\n",
       "    <tr>\n",
       "      <th>count</th>\n",
       "      <td>3086.00</td>\n",
       "      <td>3086.00</td>\n",
       "      <td>3086.00</td>\n",
       "      <td>3086.00</td>\n",
       "      <td>2683.00</td>\n",
       "      <td>3086.00</td>\n",
       "      <td>3086</td>\n",
       "    </tr>\n",
       "    <tr>\n",
       "      <th>mean</th>\n",
       "      <td>1011.44</td>\n",
       "      <td>1.28</td>\n",
       "      <td>inf</td>\n",
       "      <td>-564345283007942144.00</td>\n",
       "      <td>50928.01</td>\n",
       "      <td>5564.79</td>\n",
       "      <td>2016-12-30 10:11:02.877511424</td>\n",
       "    </tr>\n",
       "    <tr>\n",
       "      <th>min</th>\n",
       "      <td>0.00</td>\n",
       "      <td>0.00</td>\n",
       "      <td>-483.00</td>\n",
       "      <td>-9207683994561949696.00</td>\n",
       "      <td>1010.00</td>\n",
       "      <td>1711.00</td>\n",
       "      <td>2016-01-01 07:20:00</td>\n",
       "    </tr>\n",
       "    <tr>\n",
       "      <th>25%</th>\n",
       "      <td>504.50</td>\n",
       "      <td>0.00</td>\n",
       "      <td>8.79</td>\n",
       "      <td>-4657587665076895744.00</td>\n",
       "      <td>28211.50</td>\n",
       "      <td>5300.00</td>\n",
       "      <td>2016-07-03 01:22:45</td>\n",
       "    </tr>\n",
       "    <tr>\n",
       "      <th>50%</th>\n",
       "      <td>1013.50</td>\n",
       "      <td>1.00</td>\n",
       "      <td>28.60</td>\n",
       "      <td>-1053403620709760640.00</td>\n",
       "      <td>46809.00</td>\n",
       "      <td>5499.00</td>\n",
       "      <td>2017-01-05 16:35:30</td>\n",
       "    </tr>\n",
       "    <tr>\n",
       "      <th>75%</th>\n",
       "      <td>1519.50</td>\n",
       "      <td>2.00</td>\n",
       "      <td>64.61</td>\n",
       "      <td>3135193399479138304.00</td>\n",
       "      <td>77082.00</td>\n",
       "      <td>5813.00</td>\n",
       "      <td>2017-06-28 18:22:30</td>\n",
       "    </tr>\n",
       "    <tr>\n",
       "      <th>max</th>\n",
       "      <td>1997.00</td>\n",
       "      <td>7.00</td>\n",
       "      <td>1547.00</td>\n",
       "      <td>9222877122873252864.00</td>\n",
       "      <td>99508.00</td>\n",
       "      <td>9402.00</td>\n",
       "      <td>2017-12-31 18:04:00</td>\n",
       "    </tr>\n",
       "    <tr>\n",
       "      <th>std</th>\n",
       "      <td>578.30</td>\n",
       "      <td>1.37</td>\n",
       "      <td>inf</td>\n",
       "      <td>4765630781641847808.00</td>\n",
       "      <td>29521.08</td>\n",
       "      <td>881.99</td>\n",
       "      <td>NaN</td>\n",
       "    </tr>\n",
       "  </tbody>\n",
       "</table>\n",
       "</div>"
      ],
      "text/plain": [
       "         User    Card  Amount           Merchant_Name      Zip     MCC  \\\n",
       "count 3086.00 3086.00 3086.00                 3086.00  2683.00 3086.00   \n",
       "mean  1011.44    1.28     inf  -564345283007942144.00 50928.01 5564.79   \n",
       "min      0.00    0.00 -483.00 -9207683994561949696.00  1010.00 1711.00   \n",
       "25%    504.50    0.00    8.79 -4657587665076895744.00 28211.50 5300.00   \n",
       "50%   1013.50    1.00   28.60 -1053403620709760640.00 46809.00 5499.00   \n",
       "75%   1519.50    2.00   64.61  3135193399479138304.00 77082.00 5813.00   \n",
       "max   1997.00    7.00 1547.00  9222877122873252864.00 99508.00 9402.00   \n",
       "std    578.30    1.37     inf  4765630781641847808.00 29521.08  881.99   \n",
       "\n",
       "                            Datetime  \n",
       "count                           3086  \n",
       "mean   2016-12-30 10:11:02.877511424  \n",
       "min              2016-01-01 07:20:00  \n",
       "25%              2016-07-03 01:22:45  \n",
       "50%              2017-01-05 16:35:30  \n",
       "75%              2017-06-28 18:22:30  \n",
       "max              2017-12-31 18:04:00  \n",
       "std                              NaN  "
      ]
     },
     "execution_count": 81,
     "metadata": {},
     "output_type": "execute_result"
    }
   ],
   "source": [
    "validation_nf_sample = validation_nf_pool.groupby('Use_Chip', group_keys=False).apply(lambda data: data.sample(frac=0.0009))\n",
    "validation_nf_sample.describe()"
   ]
  },
  {
   "cell_type": "code",
   "execution_count": 44,
   "metadata": {},
   "outputs": [
    {
     "name": "stdout",
     "output_type": "stream",
     "text": [
      "(3834, 12)\n"
     ]
    },
    {
     "name": "stderr",
     "output_type": "stream",
     "text": [
      "/home/yichenzhang/anaconda3/envs/ece5831-py3.10/lib/python3.10/site-packages/numpy/core/_methods.py:49: RuntimeWarning: overflow encountered in reduce\n",
      "  return umr_sum(a, axis, dtype, out, keepdims, initial, where)\n",
      "/home/yichenzhang/anaconda3/envs/ece5831-py3.10/lib/python3.10/site-packages/pandas/core/nanops.py:1010: RuntimeWarning: overflow encountered in square\n",
      "  sqr = _ensure_numeric((avg - values) ** 2)\n"
     ]
    },
    {
     "data": {
      "text/html": [
       "<div>\n",
       "<style scoped>\n",
       "    .dataframe tbody tr th:only-of-type {\n",
       "        vertical-align: middle;\n",
       "    }\n",
       "\n",
       "    .dataframe tbody tr th {\n",
       "        vertical-align: top;\n",
       "    }\n",
       "\n",
       "    .dataframe thead th {\n",
       "        text-align: right;\n",
       "    }\n",
       "</style>\n",
       "<table border=\"1\" class=\"dataframe\">\n",
       "  <thead>\n",
       "    <tr style=\"text-align: right;\">\n",
       "      <th></th>\n",
       "      <th>Amount</th>\n",
       "    </tr>\n",
       "  </thead>\n",
       "  <tbody>\n",
       "    <tr>\n",
       "      <th>count</th>\n",
       "      <td>3834.00</td>\n",
       "    </tr>\n",
       "    <tr>\n",
       "      <th>mean</th>\n",
       "      <td>inf</td>\n",
       "    </tr>\n",
       "    <tr>\n",
       "      <th>std</th>\n",
       "      <td>inf</td>\n",
       "    </tr>\n",
       "    <tr>\n",
       "      <th>min</th>\n",
       "      <td>-500.00</td>\n",
       "    </tr>\n",
       "    <tr>\n",
       "      <th>25%</th>\n",
       "      <td>26.23</td>\n",
       "    </tr>\n",
       "    <tr>\n",
       "      <th>50%</th>\n",
       "      <td>83.19</td>\n",
       "    </tr>\n",
       "    <tr>\n",
       "      <th>75%</th>\n",
       "      <td>182.53</td>\n",
       "    </tr>\n",
       "    <tr>\n",
       "      <th>max</th>\n",
       "      <td>2506.00</td>\n",
       "    </tr>\n",
       "  </tbody>\n",
       "</table>\n",
       "</div>"
      ],
      "text/plain": [
       "       Amount\n",
       "count 3834.00\n",
       "mean      inf\n",
       "std       inf\n",
       "min   -500.00\n",
       "25%     26.23\n",
       "50%     83.19\n",
       "75%    182.53\n",
       "max   2506.00"
      ]
     },
     "execution_count": 44,
     "metadata": {},
     "output_type": "execute_result"
    }
   ],
   "source": [
    "validation_f_pool = fdf.loc[(fdf['Datetime'] >= '2016-01-01') & (fdf['Datetime'] < '2018-01-01')].copy()\n",
    "print(validation_f_pool.shape)\n",
    "validation_f_pool[['Amount']].describe()"
   ]
  },
  {
   "cell_type": "code",
   "execution_count": 83,
   "metadata": {},
   "outputs": [
    {
     "name": "stderr",
     "output_type": "stream",
     "text": [
      "/home/yichenzhang/anaconda3/envs/ece5831-py3.10/lib/python3.10/site-packages/numpy/core/_methods.py:49: RuntimeWarning: overflow encountered in reduce\n",
      "  return umr_sum(a, axis, dtype, out, keepdims, initial, where)\n",
      "/home/yichenzhang/anaconda3/envs/ece5831-py3.10/lib/python3.10/site-packages/pandas/core/nanops.py:1010: RuntimeWarning: overflow encountered in square\n",
      "  sqr = _ensure_numeric((avg - values) ** 2)\n"
     ]
    },
    {
     "data": {
      "text/html": [
       "<div>\n",
       "<style scoped>\n",
       "    .dataframe tbody tr th:only-of-type {\n",
       "        vertical-align: middle;\n",
       "    }\n",
       "\n",
       "    .dataframe tbody tr th {\n",
       "        vertical-align: top;\n",
       "    }\n",
       "\n",
       "    .dataframe thead th {\n",
       "        text-align: right;\n",
       "    }\n",
       "</style>\n",
       "<table border=\"1\" class=\"dataframe\">\n",
       "  <thead>\n",
       "    <tr style=\"text-align: right;\">\n",
       "      <th></th>\n",
       "      <th>User</th>\n",
       "      <th>Card</th>\n",
       "      <th>Amount</th>\n",
       "      <th>Merchant_Name</th>\n",
       "      <th>Zip</th>\n",
       "      <th>MCC</th>\n",
       "      <th>Datetime</th>\n",
       "    </tr>\n",
       "  </thead>\n",
       "  <tbody>\n",
       "    <tr>\n",
       "      <th>count</th>\n",
       "      <td>2001.00</td>\n",
       "      <td>2001.00</td>\n",
       "      <td>2001.00</td>\n",
       "      <td>2001.00</td>\n",
       "      <td>265.00</td>\n",
       "      <td>2001.00</td>\n",
       "      <td>2001</td>\n",
       "    </tr>\n",
       "    <tr>\n",
       "      <th>mean</th>\n",
       "      <td>1032.73</td>\n",
       "      <td>1.58</td>\n",
       "      <td>inf</td>\n",
       "      <td>33084906726775612.00</td>\n",
       "      <td>50170.34</td>\n",
       "      <td>5271.72</td>\n",
       "      <td>2016-07-24 03:34:00.929535232</td>\n",
       "    </tr>\n",
       "    <tr>\n",
       "      <th>min</th>\n",
       "      <td>0.00</td>\n",
       "      <td>0.00</td>\n",
       "      <td>-500.00</td>\n",
       "      <td>-9135361266042639360.00</td>\n",
       "      <td>1451.00</td>\n",
       "      <td>3000.00</td>\n",
       "      <td>2016-01-02 09:24:00</td>\n",
       "    </tr>\n",
       "    <tr>\n",
       "      <th>25%</th>\n",
       "      <td>591.00</td>\n",
       "      <td>0.00</td>\n",
       "      <td>27.14</td>\n",
       "      <td>-4282466774399734272.00</td>\n",
       "      <td>23075.00</td>\n",
       "      <td>4829.00</td>\n",
       "      <td>2016-03-27 10:07:00</td>\n",
       "    </tr>\n",
       "    <tr>\n",
       "      <th>50%</th>\n",
       "      <td>1038.00</td>\n",
       "      <td>1.00</td>\n",
       "      <td>82.88</td>\n",
       "      <td>-245178307025547040.00</td>\n",
       "      <td>46107.00</td>\n",
       "      <td>5310.00</td>\n",
       "      <td>2016-06-28 15:26:00</td>\n",
       "    </tr>\n",
       "    <tr>\n",
       "      <th>75%</th>\n",
       "      <td>1522.00</td>\n",
       "      <td>2.00</td>\n",
       "      <td>185.50</td>\n",
       "      <td>4645744106416199680.00</td>\n",
       "      <td>77546.00</td>\n",
       "      <td>5732.00</td>\n",
       "      <td>2016-10-04 10:06:00</td>\n",
       "    </tr>\n",
       "    <tr>\n",
       "      <th>max</th>\n",
       "      <td>1997.00</td>\n",
       "      <td>8.00</td>\n",
       "      <td>2506.00</td>\n",
       "      <td>9142127261309184000.00</td>\n",
       "      <td>98855.00</td>\n",
       "      <td>9402.00</td>\n",
       "      <td>2017-12-31 18:56:00</td>\n",
       "    </tr>\n",
       "    <tr>\n",
       "      <th>std</th>\n",
       "      <td>555.57</td>\n",
       "      <td>1.52</td>\n",
       "      <td>inf</td>\n",
       "      <td>4797988006903050240.00</td>\n",
       "      <td>29748.65</td>\n",
       "      <td>1052.26</td>\n",
       "      <td>NaN</td>\n",
       "    </tr>\n",
       "  </tbody>\n",
       "</table>\n",
       "</div>"
      ],
      "text/plain": [
       "         User    Card  Amount           Merchant_Name      Zip     MCC  \\\n",
       "count 2001.00 2001.00 2001.00                 2001.00   265.00 2001.00   \n",
       "mean  1032.73    1.58     inf    33084906726775612.00 50170.34 5271.72   \n",
       "min      0.00    0.00 -500.00 -9135361266042639360.00  1451.00 3000.00   \n",
       "25%    591.00    0.00   27.14 -4282466774399734272.00 23075.00 4829.00   \n",
       "50%   1038.00    1.00   82.88  -245178307025547040.00 46107.00 5310.00   \n",
       "75%   1522.00    2.00  185.50  4645744106416199680.00 77546.00 5732.00   \n",
       "max   1997.00    8.00 2506.00  9142127261309184000.00 98855.00 9402.00   \n",
       "std    555.57    1.52     inf  4797988006903050240.00 29748.65 1052.26   \n",
       "\n",
       "                            Datetime  \n",
       "count                           2001  \n",
       "mean   2016-07-24 03:34:00.929535232  \n",
       "min              2016-01-02 09:24:00  \n",
       "25%              2016-03-27 10:07:00  \n",
       "50%              2016-06-28 15:26:00  \n",
       "75%              2016-10-04 10:06:00  \n",
       "max              2017-12-31 18:56:00  \n",
       "std                              NaN  "
      ]
     },
     "execution_count": 83,
     "metadata": {},
     "output_type": "execute_result"
    }
   ],
   "source": [
    "validation_f_sample = validation_f_pool.groupby('Use_Chip', group_keys=False).apply(lambda data: data.sample(frac=0.522))\n",
    "validation_f_sample.describe()"
   ]
  },
  {
   "cell_type": "code",
   "execution_count": 85,
   "metadata": {},
   "outputs": [
    {
     "data": {
      "text/html": [
       "<div>\n",
       "<style scoped>\n",
       "    .dataframe tbody tr th:only-of-type {\n",
       "        vertical-align: middle;\n",
       "    }\n",
       "\n",
       "    .dataframe tbody tr th {\n",
       "        vertical-align: top;\n",
       "    }\n",
       "\n",
       "    .dataframe thead th {\n",
       "        text-align: right;\n",
       "    }\n",
       "</style>\n",
       "<table border=\"1\" class=\"dataframe\">\n",
       "  <thead>\n",
       "    <tr style=\"text-align: right;\">\n",
       "      <th></th>\n",
       "      <th>User</th>\n",
       "      <th>Card</th>\n",
       "      <th>Amount</th>\n",
       "      <th>Use_Chip</th>\n",
       "      <th>Merchant_Name</th>\n",
       "      <th>Merchant_City</th>\n",
       "      <th>Merchant_State</th>\n",
       "      <th>Zip</th>\n",
       "      <th>MCC</th>\n",
       "      <th>Errors</th>\n",
       "      <th>Is_Fraud</th>\n",
       "      <th>Datetime</th>\n",
       "    </tr>\n",
       "  </thead>\n",
       "  <tbody>\n",
       "    <tr>\n",
       "      <th>1514443</th>\n",
       "      <td>937</td>\n",
       "      <td>1</td>\n",
       "      <td>98.00</td>\n",
       "      <td>Swipe</td>\n",
       "      <td>-1288082279022882052</td>\n",
       "      <td>Fresno</td>\n",
       "      <td>CA</td>\n",
       "      <td>93650.00</td>\n",
       "      <td>5499</td>\n",
       "      <td>NaN</td>\n",
       "      <td>False</td>\n",
       "      <td>2016-01-01 07:20:00</td>\n",
       "    </tr>\n",
       "    <tr>\n",
       "      <th>2345481</th>\n",
       "      <td>996</td>\n",
       "      <td>2</td>\n",
       "      <td>16.66</td>\n",
       "      <td>Swipe</td>\n",
       "      <td>-3620915676061509203</td>\n",
       "      <td>Chambersburg</td>\n",
       "      <td>PA</td>\n",
       "      <td>17202.00</td>\n",
       "      <td>5912</td>\n",
       "      <td>NaN</td>\n",
       "      <td>False</td>\n",
       "      <td>2016-01-01 07:45:00</td>\n",
       "    </tr>\n",
       "    <tr>\n",
       "      <th>229684</th>\n",
       "      <td>1221</td>\n",
       "      <td>3</td>\n",
       "      <td>17.14</td>\n",
       "      <td>Swipe</td>\n",
       "      <td>2027553650310142703</td>\n",
       "      <td>Hurst</td>\n",
       "      <td>TX</td>\n",
       "      <td>76054.00</td>\n",
       "      <td>5541</td>\n",
       "      <td>NaN</td>\n",
       "      <td>False</td>\n",
       "      <td>2016-01-01 10:17:00</td>\n",
       "    </tr>\n",
       "    <tr>\n",
       "      <th>1712272</th>\n",
       "      <td>1133</td>\n",
       "      <td>1</td>\n",
       "      <td>56.00</td>\n",
       "      <td>Chip</td>\n",
       "      <td>4081535247279879452</td>\n",
       "      <td>Edinburgh</td>\n",
       "      <td>IN</td>\n",
       "      <td>46124.00</td>\n",
       "      <td>5541</td>\n",
       "      <td>NaN</td>\n",
       "      <td>False</td>\n",
       "      <td>2016-01-01 12:50:00</td>\n",
       "    </tr>\n",
       "    <tr>\n",
       "      <th>48717</th>\n",
       "      <td>1392</td>\n",
       "      <td>0</td>\n",
       "      <td>-72.00</td>\n",
       "      <td>Chip</td>\n",
       "      <td>-3573329020209088012</td>\n",
       "      <td>Springfield</td>\n",
       "      <td>KY</td>\n",
       "      <td>40069.00</td>\n",
       "      <td>5541</td>\n",
       "      <td>NaN</td>\n",
       "      <td>False</td>\n",
       "      <td>2016-01-01 16:07:00</td>\n",
       "    </tr>\n",
       "  </tbody>\n",
       "</table>\n",
       "</div>"
      ],
      "text/plain": [
       "         User  Card  Amount Use_Chip        Merchant_Name Merchant_City  \\\n",
       "1514443   937     1   98.00    Swipe -1288082279022882052        Fresno   \n",
       "2345481   996     2   16.66    Swipe -3620915676061509203  Chambersburg   \n",
       "229684   1221     3   17.14    Swipe  2027553650310142703         Hurst   \n",
       "1712272  1133     1   56.00     Chip  4081535247279879452     Edinburgh   \n",
       "48717    1392     0  -72.00     Chip -3573329020209088012   Springfield   \n",
       "\n",
       "        Merchant_State      Zip   MCC Errors  Is_Fraud            Datetime  \n",
       "1514443             CA 93650.00  5499    NaN     False 2016-01-01 07:20:00  \n",
       "2345481             PA 17202.00  5912    NaN     False 2016-01-01 07:45:00  \n",
       "229684              TX 76054.00  5541    NaN     False 2016-01-01 10:17:00  \n",
       "1712272             IN 46124.00  5541    NaN     False 2016-01-01 12:50:00  \n",
       "48717               KY 40069.00  5541    NaN     False 2016-01-01 16:07:00  "
      ]
     },
     "execution_count": 85,
     "metadata": {},
     "output_type": "execute_result"
    }
   ],
   "source": [
    "validation_set = pd.concat([validation_nf_sample, validation_f_sample])\n",
    "validation_set.sort_values(by=['Datetime', 'User', 'Card'], inplace=True)\n",
    "validation_set.head()"
   ]
  },
  {
   "cell_type": "code",
   "execution_count": 86,
   "metadata": {},
   "outputs": [
    {
     "data": {
      "text/plain": [
       "['data/validation_set_01']"
      ]
     },
     "execution_count": 86,
     "metadata": {},
     "output_type": "execute_result"
    }
   ],
   "source": [
    "joblib.dump(validation_set, 'data/validation_set_01')"
   ]
  },
  {
   "cell_type": "code",
   "execution_count": 45,
   "metadata": {},
   "outputs": [
    {
     "name": "stdout",
     "output_type": "stream",
     "text": [
      "(3777475, 12)\n"
     ]
    },
    {
     "name": "stderr",
     "output_type": "stream",
     "text": [
      "/home/yichenzhang/anaconda3/envs/ece5831-py3.10/lib/python3.10/site-packages/pandas/core/nanops.py:1479: RuntimeWarning: overflow encountered in cast\n",
      "  return dtype.type(n)\n",
      "/home/yichenzhang/anaconda3/envs/ece5831-py3.10/lib/python3.10/site-packages/numpy/core/_methods.py:49: RuntimeWarning: overflow encountered in reduce\n",
      "  return umr_sum(a, axis, dtype, out, keepdims, initial, where)\n",
      "/home/yichenzhang/anaconda3/envs/ece5831-py3.10/lib/python3.10/site-packages/pandas/core/nanops.py:731: RuntimeWarning: invalid value encountered in scalar divide\n",
      "  the_mean = the_sum / count if count > 0 else np.nan\n",
      "/home/yichenzhang/anaconda3/envs/ece5831-py3.10/lib/python3.10/site-packages/pandas/core/nanops.py:1479: RuntimeWarning: overflow encountered in cast\n",
      "  return dtype.type(n)\n",
      "/home/yichenzhang/anaconda3/envs/ece5831-py3.10/lib/python3.10/site-packages/pandas/core/nanops.py:1010: RuntimeWarning: overflow encountered in square\n",
      "  sqr = _ensure_numeric((avg - values) ** 2)\n",
      "/home/yichenzhang/anaconda3/envs/ece5831-py3.10/lib/python3.10/site-packages/pandas/core/nanops.py:1013: RuntimeWarning: invalid value encountered in scalar divide\n",
      "  result = sqr.sum(axis=axis, dtype=np.float64) / d\n"
     ]
    },
    {
     "data": {
      "text/html": [
       "<div>\n",
       "<style scoped>\n",
       "    .dataframe tbody tr th:only-of-type {\n",
       "        vertical-align: middle;\n",
       "    }\n",
       "\n",
       "    .dataframe tbody tr th {\n",
       "        vertical-align: top;\n",
       "    }\n",
       "\n",
       "    .dataframe thead th {\n",
       "        text-align: right;\n",
       "    }\n",
       "</style>\n",
       "<table border=\"1\" class=\"dataframe\">\n",
       "  <thead>\n",
       "    <tr style=\"text-align: right;\">\n",
       "      <th></th>\n",
       "      <th>Amount</th>\n",
       "    </tr>\n",
       "  </thead>\n",
       "  <tbody>\n",
       "    <tr>\n",
       "      <th>count</th>\n",
       "      <td>3777475.00</td>\n",
       "    </tr>\n",
       "    <tr>\n",
       "      <th>mean</th>\n",
       "      <td>NaN</td>\n",
       "    </tr>\n",
       "    <tr>\n",
       "      <th>std</th>\n",
       "      <td>NaN</td>\n",
       "    </tr>\n",
       "    <tr>\n",
       "      <th>min</th>\n",
       "      <td>-500.00</td>\n",
       "    </tr>\n",
       "    <tr>\n",
       "      <th>25%</th>\n",
       "      <td>9.02</td>\n",
       "    </tr>\n",
       "    <tr>\n",
       "      <th>50%</th>\n",
       "      <td>29.16</td>\n",
       "    </tr>\n",
       "    <tr>\n",
       "      <th>75%</th>\n",
       "      <td>62.91</td>\n",
       "    </tr>\n",
       "    <tr>\n",
       "      <th>max</th>\n",
       "      <td>6612.00</td>\n",
       "    </tr>\n",
       "  </tbody>\n",
       "</table>\n",
       "</div>"
      ],
      "text/plain": [
       "          Amount\n",
       "count 3777475.00\n",
       "mean         NaN\n",
       "std          NaN\n",
       "min      -500.00\n",
       "25%         9.02\n",
       "50%        29.16\n",
       "75%        62.91\n",
       "max      6612.00"
      ]
     },
     "execution_count": 45,
     "metadata": {},
     "output_type": "execute_result"
    }
   ],
   "source": [
    "test_nf_pool = df.loc[df['Datetime'] >= '2018-01-01'].copy()\n",
    "print(test_nf_pool.shape)\n",
    "test_nf_pool[['Amount']].describe()"
   ]
  },
  {
   "cell_type": "code",
   "execution_count": 46,
   "metadata": {},
   "outputs": [
    {
     "name": "stdout",
     "output_type": "stream",
     "text": [
      "(4578, 12)\n"
     ]
    },
    {
     "name": "stderr",
     "output_type": "stream",
     "text": [
      "/home/yichenzhang/anaconda3/envs/ece5831-py3.10/lib/python3.10/site-packages/numpy/core/_methods.py:49: RuntimeWarning: overflow encountered in reduce\n",
      "  return umr_sum(a, axis, dtype, out, keepdims, initial, where)\n",
      "/home/yichenzhang/anaconda3/envs/ece5831-py3.10/lib/python3.10/site-packages/pandas/core/nanops.py:1010: RuntimeWarning: overflow encountered in square\n",
      "  sqr = _ensure_numeric((avg - values) ** 2)\n"
     ]
    },
    {
     "data": {
      "text/html": [
       "<div>\n",
       "<style scoped>\n",
       "    .dataframe tbody tr th:only-of-type {\n",
       "        vertical-align: middle;\n",
       "    }\n",
       "\n",
       "    .dataframe tbody tr th {\n",
       "        vertical-align: top;\n",
       "    }\n",
       "\n",
       "    .dataframe thead th {\n",
       "        text-align: right;\n",
       "    }\n",
       "</style>\n",
       "<table border=\"1\" class=\"dataframe\">\n",
       "  <thead>\n",
       "    <tr style=\"text-align: right;\">\n",
       "      <th></th>\n",
       "      <th>Amount</th>\n",
       "    </tr>\n",
       "  </thead>\n",
       "  <tbody>\n",
       "    <tr>\n",
       "      <th>count</th>\n",
       "      <td>4578.00</td>\n",
       "    </tr>\n",
       "    <tr>\n",
       "      <th>mean</th>\n",
       "      <td>inf</td>\n",
       "    </tr>\n",
       "    <tr>\n",
       "      <th>std</th>\n",
       "      <td>inf</td>\n",
       "    </tr>\n",
       "    <tr>\n",
       "      <th>min</th>\n",
       "      <td>-484.00</td>\n",
       "    </tr>\n",
       "    <tr>\n",
       "      <th>25%</th>\n",
       "      <td>8.40</td>\n",
       "    </tr>\n",
       "    <tr>\n",
       "      <th>50%</th>\n",
       "      <td>34.81</td>\n",
       "    </tr>\n",
       "    <tr>\n",
       "      <th>75%</th>\n",
       "      <td>97.31</td>\n",
       "    </tr>\n",
       "    <tr>\n",
       "      <th>max</th>\n",
       "      <td>1443.00</td>\n",
       "    </tr>\n",
       "  </tbody>\n",
       "</table>\n",
       "</div>"
      ],
      "text/plain": [
       "       Amount\n",
       "count 4578.00\n",
       "mean      inf\n",
       "std       inf\n",
       "min   -484.00\n",
       "25%      8.40\n",
       "50%     34.81\n",
       "75%     97.31\n",
       "max   1443.00"
      ]
     },
     "execution_count": 46,
     "metadata": {},
     "output_type": "execute_result"
    }
   ],
   "source": [
    "test_f_pool = fdf.loc[fdf['Datetime'] >= '2018-01-01'].copy()\n",
    "print(test_f_pool.shape)\n",
    "test_f_pool[['Amount']].describe()"
   ]
  },
  {
   "cell_type": "code",
   "execution_count": 88,
   "metadata": {},
   "outputs": [
    {
     "name": "stdout",
     "output_type": "stream",
     "text": [
      "0.109217999126256\n",
      "0.0013236354972567654\n"
     ]
    }
   ],
   "source": [
    "print(500 / len(test_f_pool))\n",
    "print(5000 / len(test_nf_pool))"
   ]
  },
  {
   "cell_type": "code",
   "execution_count": 89,
   "metadata": {},
   "outputs": [
    {
     "name": "stderr",
     "output_type": "stream",
     "text": [
      "/home/yichenzhang/anaconda3/envs/ece5831-py3.10/lib/python3.10/site-packages/pandas/core/nanops.py:1010: RuntimeWarning: overflow encountered in square\n",
      "  sqr = _ensure_numeric((avg - values) ** 2)\n"
     ]
    },
    {
     "data": {
      "text/html": [
       "<div>\n",
       "<style scoped>\n",
       "    .dataframe tbody tr th:only-of-type {\n",
       "        vertical-align: middle;\n",
       "    }\n",
       "\n",
       "    .dataframe tbody tr th {\n",
       "        vertical-align: top;\n",
       "    }\n",
       "\n",
       "    .dataframe thead th {\n",
       "        text-align: right;\n",
       "    }\n",
       "</style>\n",
       "<table border=\"1\" class=\"dataframe\">\n",
       "  <thead>\n",
       "    <tr style=\"text-align: right;\">\n",
       "      <th></th>\n",
       "      <th>User</th>\n",
       "      <th>Card</th>\n",
       "      <th>Amount</th>\n",
       "      <th>Merchant_Name</th>\n",
       "      <th>Zip</th>\n",
       "      <th>MCC</th>\n",
       "      <th>Datetime</th>\n",
       "    </tr>\n",
       "  </thead>\n",
       "  <tbody>\n",
       "    <tr>\n",
       "      <th>count</th>\n",
       "      <td>504.00</td>\n",
       "      <td>504.00</td>\n",
       "      <td>504.00</td>\n",
       "      <td>504.00</td>\n",
       "      <td>2.00</td>\n",
       "      <td>504.00</td>\n",
       "      <td>504</td>\n",
       "    </tr>\n",
       "    <tr>\n",
       "      <th>mean</th>\n",
       "      <td>1014.92</td>\n",
       "      <td>1.64</td>\n",
       "      <td>73.81</td>\n",
       "      <td>1294978040353372928.00</td>\n",
       "      <td>43426.00</td>\n",
       "      <td>5220.35</td>\n",
       "      <td>2018-12-16 00:30:23.095238400</td>\n",
       "    </tr>\n",
       "    <tr>\n",
       "      <th>min</th>\n",
       "      <td>1.00</td>\n",
       "      <td>0.00</td>\n",
       "      <td>-338.00</td>\n",
       "      <td>-8900946238541749248.00</td>\n",
       "      <td>43301.00</td>\n",
       "      <td>3005.00</td>\n",
       "      <td>2018-01-03 18:57:00</td>\n",
       "    </tr>\n",
       "    <tr>\n",
       "      <th>25%</th>\n",
       "      <td>494.00</td>\n",
       "      <td>0.00</td>\n",
       "      <td>9.17</td>\n",
       "      <td>-1642303950890406400.00</td>\n",
       "      <td>43363.50</td>\n",
       "      <td>5211.00</td>\n",
       "      <td>2018-07-08 19:34:30</td>\n",
       "    </tr>\n",
       "    <tr>\n",
       "      <th>50%</th>\n",
       "      <td>1024.50</td>\n",
       "      <td>1.00</td>\n",
       "      <td>31.62</td>\n",
       "      <td>1715299929786123008.00</td>\n",
       "      <td>43426.00</td>\n",
       "      <td>5311.00</td>\n",
       "      <td>2018-12-16 00:46:30</td>\n",
       "    </tr>\n",
       "    <tr>\n",
       "      <th>75%</th>\n",
       "      <td>1547.25</td>\n",
       "      <td>2.00</td>\n",
       "      <td>88.70</td>\n",
       "      <td>5507353000713502720.00</td>\n",
       "      <td>43488.50</td>\n",
       "      <td>5541.00</td>\n",
       "      <td>2019-05-21 12:19:45</td>\n",
       "    </tr>\n",
       "    <tr>\n",
       "      <th>max</th>\n",
       "      <td>1997.00</td>\n",
       "      <td>8.00</td>\n",
       "      <td>878.00</td>\n",
       "      <td>9057735476014445568.00</td>\n",
       "      <td>43551.00</td>\n",
       "      <td>7832.00</td>\n",
       "      <td>2019-10-26 15:15:00</td>\n",
       "    </tr>\n",
       "    <tr>\n",
       "      <th>std</th>\n",
       "      <td>590.22</td>\n",
       "      <td>1.58</td>\n",
       "      <td>inf</td>\n",
       "      <td>4842674668791064576.00</td>\n",
       "      <td>176.78</td>\n",
       "      <td>731.28</td>\n",
       "      <td>NaN</td>\n",
       "    </tr>\n",
       "  </tbody>\n",
       "</table>\n",
       "</div>"
      ],
      "text/plain": [
       "         User   Card  Amount           Merchant_Name      Zip     MCC  \\\n",
       "count  504.00 504.00  504.00                  504.00     2.00  504.00   \n",
       "mean  1014.92   1.64   73.81  1294978040353372928.00 43426.00 5220.35   \n",
       "min      1.00   0.00 -338.00 -8900946238541749248.00 43301.00 3005.00   \n",
       "25%    494.00   0.00    9.17 -1642303950890406400.00 43363.50 5211.00   \n",
       "50%   1024.50   1.00   31.62  1715299929786123008.00 43426.00 5311.00   \n",
       "75%   1547.25   2.00   88.70  5507353000713502720.00 43488.50 5541.00   \n",
       "max   1997.00   8.00  878.00  9057735476014445568.00 43551.00 7832.00   \n",
       "std    590.22   1.58     inf  4842674668791064576.00   176.78  731.28   \n",
       "\n",
       "                            Datetime  \n",
       "count                            504  \n",
       "mean   2018-12-16 00:30:23.095238400  \n",
       "min              2018-01-03 18:57:00  \n",
       "25%              2018-07-08 19:34:30  \n",
       "50%              2018-12-16 00:46:30  \n",
       "75%              2019-05-21 12:19:45  \n",
       "max              2019-10-26 15:15:00  \n",
       "std                              NaN  "
      ]
     },
     "execution_count": 89,
     "metadata": {},
     "output_type": "execute_result"
    }
   ],
   "source": [
    "test_f_sample = test_f_pool.groupby('Use_Chip', group_keys=False).apply(lambda data: data.sample(frac=0.11))\n",
    "test_f_sample.describe()"
   ]
  },
  {
   "cell_type": "code",
   "execution_count": 90,
   "metadata": {},
   "outputs": [
    {
     "name": "stderr",
     "output_type": "stream",
     "text": [
      "/home/yichenzhang/anaconda3/envs/ece5831-py3.10/lib/python3.10/site-packages/numpy/core/_methods.py:49: RuntimeWarning: overflow encountered in reduce\n",
      "  return umr_sum(a, axis, dtype, out, keepdims, initial, where)\n",
      "/home/yichenzhang/anaconda3/envs/ece5831-py3.10/lib/python3.10/site-packages/pandas/core/nanops.py:1010: RuntimeWarning: overflow encountered in square\n",
      "  sqr = _ensure_numeric((avg - values) ** 2)\n"
     ]
    },
    {
     "data": {
      "text/html": [
       "<div>\n",
       "<style scoped>\n",
       "    .dataframe tbody tr th:only-of-type {\n",
       "        vertical-align: middle;\n",
       "    }\n",
       "\n",
       "    .dataframe tbody tr th {\n",
       "        vertical-align: top;\n",
       "    }\n",
       "\n",
       "    .dataframe thead th {\n",
       "        text-align: right;\n",
       "    }\n",
       "</style>\n",
       "<table border=\"1\" class=\"dataframe\">\n",
       "  <thead>\n",
       "    <tr style=\"text-align: right;\">\n",
       "      <th></th>\n",
       "      <th>User</th>\n",
       "      <th>Card</th>\n",
       "      <th>Amount</th>\n",
       "      <th>Merchant_Name</th>\n",
       "      <th>Zip</th>\n",
       "      <th>MCC</th>\n",
       "      <th>Datetime</th>\n",
       "    </tr>\n",
       "  </thead>\n",
       "  <tbody>\n",
       "    <tr>\n",
       "      <th>count</th>\n",
       "      <td>5288.00</td>\n",
       "      <td>5288.00</td>\n",
       "      <td>5288.00</td>\n",
       "      <td>5288.00</td>\n",
       "      <td>4600.00</td>\n",
       "      <td>5288.00</td>\n",
       "      <td>5288</td>\n",
       "    </tr>\n",
       "    <tr>\n",
       "      <th>mean</th>\n",
       "      <td>989.87</td>\n",
       "      <td>1.29</td>\n",
       "      <td>inf</td>\n",
       "      <td>-420220688063357440.00</td>\n",
       "      <td>51240.36</td>\n",
       "      <td>5568.39</td>\n",
       "      <td>2019-02-08 06:00:33.880484352</td>\n",
       "    </tr>\n",
       "    <tr>\n",
       "      <th>min</th>\n",
       "      <td>0.00</td>\n",
       "      <td>0.00</td>\n",
       "      <td>-499.00</td>\n",
       "      <td>-9205603564578361344.00</td>\n",
       "      <td>1230.00</td>\n",
       "      <td>1711.00</td>\n",
       "      <td>2018-01-01 07:05:00</td>\n",
       "    </tr>\n",
       "    <tr>\n",
       "      <th>25%</th>\n",
       "      <td>509.00</td>\n",
       "      <td>0.00</td>\n",
       "      <td>8.86</td>\n",
       "      <td>-4500542936415012352.00</td>\n",
       "      <td>28309.75</td>\n",
       "      <td>5300.00</td>\n",
       "      <td>2018-07-28 08:12:30</td>\n",
       "    </tr>\n",
       "    <tr>\n",
       "      <th>50%</th>\n",
       "      <td>986.00</td>\n",
       "      <td>1.00</td>\n",
       "      <td>28.30</td>\n",
       "      <td>-727612092139916032.00</td>\n",
       "      <td>46762.00</td>\n",
       "      <td>5499.00</td>\n",
       "      <td>2019-02-09 12:42:00</td>\n",
       "    </tr>\n",
       "    <tr>\n",
       "      <th>75%</th>\n",
       "      <td>1458.00</td>\n",
       "      <td>2.00</td>\n",
       "      <td>62.45</td>\n",
       "      <td>3424085781625822720.00</td>\n",
       "      <td>78130.00</td>\n",
       "      <td>5812.00</td>\n",
       "      <td>2019-08-27 12:59:45</td>\n",
       "    </tr>\n",
       "    <tr>\n",
       "      <th>max</th>\n",
       "      <td>1999.00</td>\n",
       "      <td>7.00</td>\n",
       "      <td>1562.00</td>\n",
       "      <td>9222877122873252864.00</td>\n",
       "      <td>99508.00</td>\n",
       "      <td>9402.00</td>\n",
       "      <td>2020-02-28 20:25:00</td>\n",
       "    </tr>\n",
       "    <tr>\n",
       "      <th>std</th>\n",
       "      <td>564.52</td>\n",
       "      <td>1.38</td>\n",
       "      <td>inf</td>\n",
       "      <td>4784455017153541120.00</td>\n",
       "      <td>29501.65</td>\n",
       "      <td>881.73</td>\n",
       "      <td>NaN</td>\n",
       "    </tr>\n",
       "  </tbody>\n",
       "</table>\n",
       "</div>"
      ],
      "text/plain": [
       "         User    Card  Amount           Merchant_Name      Zip     MCC  \\\n",
       "count 5288.00 5288.00 5288.00                 5288.00  4600.00 5288.00   \n",
       "mean   989.87    1.29     inf  -420220688063357440.00 51240.36 5568.39   \n",
       "min      0.00    0.00 -499.00 -9205603564578361344.00  1230.00 1711.00   \n",
       "25%    509.00    0.00    8.86 -4500542936415012352.00 28309.75 5300.00   \n",
       "50%    986.00    1.00   28.30  -727612092139916032.00 46762.00 5499.00   \n",
       "75%   1458.00    2.00   62.45  3424085781625822720.00 78130.00 5812.00   \n",
       "max   1999.00    7.00 1562.00  9222877122873252864.00 99508.00 9402.00   \n",
       "std    564.52    1.38     inf  4784455017153541120.00 29501.65  881.73   \n",
       "\n",
       "                            Datetime  \n",
       "count                           5288  \n",
       "mean   2019-02-08 06:00:33.880484352  \n",
       "min              2018-01-01 07:05:00  \n",
       "25%              2018-07-28 08:12:30  \n",
       "50%              2019-02-09 12:42:00  \n",
       "75%              2019-08-27 12:59:45  \n",
       "max              2020-02-28 20:25:00  \n",
       "std                              NaN  "
      ]
     },
     "execution_count": 90,
     "metadata": {},
     "output_type": "execute_result"
    }
   ],
   "source": [
    "test_nf_sample = test_nf_pool.groupby('Use_Chip', group_keys=False).apply(lambda data: data.sample(frac=0.0014))\n",
    "test_nf_sample.describe()"
   ]
  },
  {
   "cell_type": "code",
   "execution_count": 91,
   "metadata": {},
   "outputs": [
    {
     "data": {
      "text/html": [
       "<div>\n",
       "<style scoped>\n",
       "    .dataframe tbody tr th:only-of-type {\n",
       "        vertical-align: middle;\n",
       "    }\n",
       "\n",
       "    .dataframe tbody tr th {\n",
       "        vertical-align: top;\n",
       "    }\n",
       "\n",
       "    .dataframe thead th {\n",
       "        text-align: right;\n",
       "    }\n",
       "</style>\n",
       "<table border=\"1\" class=\"dataframe\">\n",
       "  <thead>\n",
       "    <tr style=\"text-align: right;\">\n",
       "      <th></th>\n",
       "      <th>User</th>\n",
       "      <th>Card</th>\n",
       "      <th>Amount</th>\n",
       "      <th>Use_Chip</th>\n",
       "      <th>Merchant_Name</th>\n",
       "      <th>Merchant_City</th>\n",
       "      <th>Merchant_State</th>\n",
       "      <th>Zip</th>\n",
       "      <th>MCC</th>\n",
       "      <th>Errors</th>\n",
       "      <th>Is_Fraud</th>\n",
       "      <th>Datetime</th>\n",
       "    </tr>\n",
       "  </thead>\n",
       "  <tbody>\n",
       "    <tr>\n",
       "      <th>1180318</th>\n",
       "      <td>909</td>\n",
       "      <td>0</td>\n",
       "      <td>12.63</td>\n",
       "      <td>Chip</td>\n",
       "      <td>7493741870839695700</td>\n",
       "      <td>Baton Rouge</td>\n",
       "      <td>LA</td>\n",
       "      <td>70815.00</td>\n",
       "      <td>5411</td>\n",
       "      <td>NaN</td>\n",
       "      <td>False</td>\n",
       "      <td>2018-01-01 07:05:00</td>\n",
       "    </tr>\n",
       "    <tr>\n",
       "      <th>499811</th>\n",
       "      <td>39</td>\n",
       "      <td>0</td>\n",
       "      <td>3.13</td>\n",
       "      <td>Online</td>\n",
       "      <td>-2088492411650162548</td>\n",
       "      <td>ONLINE</td>\n",
       "      <td>NaN</td>\n",
       "      <td>NaN</td>\n",
       "      <td>4784</td>\n",
       "      <td>NaN</td>\n",
       "      <td>False</td>\n",
       "      <td>2018-01-01 13:24:00</td>\n",
       "    </tr>\n",
       "    <tr>\n",
       "      <th>988304</th>\n",
       "      <td>1671</td>\n",
       "      <td>0</td>\n",
       "      <td>80.00</td>\n",
       "      <td>Chip</td>\n",
       "      <td>-4282466774399734331</td>\n",
       "      <td>Orlando</td>\n",
       "      <td>FL</td>\n",
       "      <td>32807.00</td>\n",
       "      <td>4829</td>\n",
       "      <td>NaN</td>\n",
       "      <td>False</td>\n",
       "      <td>2018-01-01 20:23:00</td>\n",
       "    </tr>\n",
       "    <tr>\n",
       "      <th>249198</th>\n",
       "      <td>226</td>\n",
       "      <td>2</td>\n",
       "      <td>-87.00</td>\n",
       "      <td>Chip</td>\n",
       "      <td>4081535247279879452</td>\n",
       "      <td>Lowell</td>\n",
       "      <td>MA</td>\n",
       "      <td>1851.00</td>\n",
       "      <td>5541</td>\n",
       "      <td>NaN</td>\n",
       "      <td>False</td>\n",
       "      <td>2018-01-02 06:28:00</td>\n",
       "    </tr>\n",
       "    <tr>\n",
       "      <th>96486</th>\n",
       "      <td>624</td>\n",
       "      <td>1</td>\n",
       "      <td>13.84</td>\n",
       "      <td>Online</td>\n",
       "      <td>-5841929396161652653</td>\n",
       "      <td>ONLINE</td>\n",
       "      <td>NaN</td>\n",
       "      <td>NaN</td>\n",
       "      <td>4121</td>\n",
       "      <td>NaN</td>\n",
       "      <td>False</td>\n",
       "      <td>2018-01-02 11:03:00</td>\n",
       "    </tr>\n",
       "  </tbody>\n",
       "</table>\n",
       "</div>"
      ],
      "text/plain": [
       "         User  Card  Amount Use_Chip        Merchant_Name Merchant_City  \\\n",
       "1180318   909     0   12.63     Chip  7493741870839695700   Baton Rouge   \n",
       "499811     39     0    3.13   Online -2088492411650162548        ONLINE   \n",
       "988304   1671     0   80.00     Chip -4282466774399734331       Orlando   \n",
       "249198    226     2  -87.00     Chip  4081535247279879452        Lowell   \n",
       "96486     624     1   13.84   Online -5841929396161652653        ONLINE   \n",
       "\n",
       "        Merchant_State      Zip   MCC Errors  Is_Fraud            Datetime  \n",
       "1180318             LA 70815.00  5411    NaN     False 2018-01-01 07:05:00  \n",
       "499811             NaN      NaN  4784    NaN     False 2018-01-01 13:24:00  \n",
       "988304              FL 32807.00  4829    NaN     False 2018-01-01 20:23:00  \n",
       "249198              MA  1851.00  5541    NaN     False 2018-01-02 06:28:00  \n",
       "96486              NaN      NaN  4121    NaN     False 2018-01-02 11:03:00  "
      ]
     },
     "execution_count": 91,
     "metadata": {},
     "output_type": "execute_result"
    }
   ],
   "source": [
    "test_set = pd.concat([test_f_sample, test_nf_sample])\n",
    "test_set.sort_values(by=['Datetime', 'User', 'Card'], inplace=True)\n",
    "test_set.head()"
   ]
  },
  {
   "cell_type": "code",
   "execution_count": 92,
   "metadata": {},
   "outputs": [
    {
     "data": {
      "text/plain": [
       "['data/test_set_01']"
      ]
     },
     "execution_count": 92,
     "metadata": {},
     "output_type": "execute_result"
    }
   ],
   "source": [
    "joblib.dump(test_set, 'data/test_set_01')"
   ]
  },
  {
   "cell_type": "markdown",
   "metadata": {},
   "source": [
    "## Experiment with Converting Transactions to Images"
   ]
  },
  {
   "cell_type": "code",
   "execution_count": 48,
   "metadata": {},
   "outputs": [
    {
     "data": {
      "text/html": [
       "<div>\n",
       "<style scoped>\n",
       "    .dataframe tbody tr th:only-of-type {\n",
       "        vertical-align: middle;\n",
       "    }\n",
       "\n",
       "    .dataframe tbody tr th {\n",
       "        vertical-align: top;\n",
       "    }\n",
       "\n",
       "    .dataframe thead th {\n",
       "        text-align: right;\n",
       "    }\n",
       "</style>\n",
       "<table border=\"1\" class=\"dataframe\">\n",
       "  <thead>\n",
       "    <tr style=\"text-align: right;\">\n",
       "      <th></th>\n",
       "      <th>User</th>\n",
       "      <th>Card</th>\n",
       "      <th>Amount</th>\n",
       "      <th>Use_Chip</th>\n",
       "      <th>Merchant_Name</th>\n",
       "      <th>Merchant_City</th>\n",
       "      <th>Merchant_State</th>\n",
       "      <th>Zip</th>\n",
       "      <th>MCC</th>\n",
       "      <th>Errors</th>\n",
       "      <th>Is_Fraud</th>\n",
       "      <th>Datetime</th>\n",
       "    </tr>\n",
       "  </thead>\n",
       "  <tbody>\n",
       "    <tr>\n",
       "      <th>242151</th>\n",
       "      <td>1810</td>\n",
       "      <td>2</td>\n",
       "      <td>134.75</td>\n",
       "      <td>Chip</td>\n",
       "      <td>8674313622336409986</td>\n",
       "      <td>Albuquerque</td>\n",
       "      <td>NM</td>\n",
       "      <td>87110.00</td>\n",
       "      <td>5300</td>\n",
       "      <td>NaN</td>\n",
       "      <td>True</td>\n",
       "      <td>2015-03-30 09:54:00</td>\n",
       "    </tr>\n",
       "    <tr>\n",
       "      <th>242152</th>\n",
       "      <td>1810</td>\n",
       "      <td>2</td>\n",
       "      <td>8.65</td>\n",
       "      <td>Online</td>\n",
       "      <td>-4282466774399734331</td>\n",
       "      <td>ONLINE</td>\n",
       "      <td>NaN</td>\n",
       "      <td>NaN</td>\n",
       "      <td>4829</td>\n",
       "      <td>NaN</td>\n",
       "      <td>True</td>\n",
       "      <td>2015-03-30 10:13:00</td>\n",
       "    </tr>\n",
       "    <tr>\n",
       "      <th>522892</th>\n",
       "      <td>1424</td>\n",
       "      <td>0</td>\n",
       "      <td>390.00</td>\n",
       "      <td>Online</td>\n",
       "      <td>1715299929786123066</td>\n",
       "      <td>ONLINE</td>\n",
       "      <td>NaN</td>\n",
       "      <td>NaN</td>\n",
       "      <td>3722</td>\n",
       "      <td>NaN</td>\n",
       "      <td>True</td>\n",
       "      <td>2015-03-30 15:20:00</td>\n",
       "    </tr>\n",
       "    <tr>\n",
       "      <th>242153</th>\n",
       "      <td>1810</td>\n",
       "      <td>2</td>\n",
       "      <td>2.84</td>\n",
       "      <td>Online</td>\n",
       "      <td>3668293439946600661</td>\n",
       "      <td>ONLINE</td>\n",
       "      <td>NaN</td>\n",
       "      <td>NaN</td>\n",
       "      <td>7801</td>\n",
       "      <td>Bad CVV</td>\n",
       "      <td>True</td>\n",
       "      <td>2015-03-30 16:48:00</td>\n",
       "    </tr>\n",
       "    <tr>\n",
       "      <th>522893</th>\n",
       "      <td>1424</td>\n",
       "      <td>0</td>\n",
       "      <td>99.19</td>\n",
       "      <td>Online</td>\n",
       "      <td>-4282466774399734331</td>\n",
       "      <td>ONLINE</td>\n",
       "      <td>NaN</td>\n",
       "      <td>NaN</td>\n",
       "      <td>4829</td>\n",
       "      <td>NaN</td>\n",
       "      <td>True</td>\n",
       "      <td>2015-03-31 10:07:00</td>\n",
       "    </tr>\n",
       "    <tr>\n",
       "      <th>...</th>\n",
       "      <td>...</td>\n",
       "      <td>...</td>\n",
       "      <td>...</td>\n",
       "      <td>...</td>\n",
       "      <td>...</td>\n",
       "      <td>...</td>\n",
       "      <td>...</td>\n",
       "      <td>...</td>\n",
       "      <td>...</td>\n",
       "      <td>...</td>\n",
       "      <td>...</td>\n",
       "      <td>...</td>\n",
       "    </tr>\n",
       "    <tr>\n",
       "      <th>284365</th>\n",
       "      <td>1816</td>\n",
       "      <td>3</td>\n",
       "      <td>6.93</td>\n",
       "      <td>Swipe</td>\n",
       "      <td>-8987302054263035418</td>\n",
       "      <td>Marmora</td>\n",
       "      <td>NJ</td>\n",
       "      <td>8223.00</td>\n",
       "      <td>5912</td>\n",
       "      <td>NaN</td>\n",
       "      <td>True</td>\n",
       "      <td>2015-12-30 16:11:00</td>\n",
       "    </tr>\n",
       "    <tr>\n",
       "      <th>1704308</th>\n",
       "      <td>954</td>\n",
       "      <td>0</td>\n",
       "      <td>148.25</td>\n",
       "      <td>Swipe</td>\n",
       "      <td>3971533922025314652</td>\n",
       "      <td>Pompano Beach</td>\n",
       "      <td>FL</td>\n",
       "      <td>33064.00</td>\n",
       "      <td>5912</td>\n",
       "      <td>NaN</td>\n",
       "      <td>True</td>\n",
       "      <td>2015-12-30 16:30:00</td>\n",
       "    </tr>\n",
       "    <tr>\n",
       "      <th>1704309</th>\n",
       "      <td>954</td>\n",
       "      <td>0</td>\n",
       "      <td>8.64</td>\n",
       "      <td>Online</td>\n",
       "      <td>-3395538998277081094</td>\n",
       "      <td>ONLINE</td>\n",
       "      <td>NaN</td>\n",
       "      <td>NaN</td>\n",
       "      <td>5311</td>\n",
       "      <td>NaN</td>\n",
       "      <td>True</td>\n",
       "      <td>2015-12-30 16:35:00</td>\n",
       "    </tr>\n",
       "    <tr>\n",
       "      <th>587865</th>\n",
       "      <td>1053</td>\n",
       "      <td>0</td>\n",
       "      <td>2.76</td>\n",
       "      <td>Online</td>\n",
       "      <td>-4282466774399734331</td>\n",
       "      <td>ONLINE</td>\n",
       "      <td>NaN</td>\n",
       "      <td>NaN</td>\n",
       "      <td>4829</td>\n",
       "      <td>NaN</td>\n",
       "      <td>True</td>\n",
       "      <td>2015-12-30 18:40:00</td>\n",
       "    </tr>\n",
       "    <tr>\n",
       "      <th>587866</th>\n",
       "      <td>1053</td>\n",
       "      <td>0</td>\n",
       "      <td>492.75</td>\n",
       "      <td>Online</td>\n",
       "      <td>4943697251487298296</td>\n",
       "      <td>ONLINE</td>\n",
       "      <td>NaN</td>\n",
       "      <td>NaN</td>\n",
       "      <td>5816</td>\n",
       "      <td>NaN</td>\n",
       "      <td>True</td>\n",
       "      <td>2015-12-30 21:14:00</td>\n",
       "    </tr>\n",
       "  </tbody>\n",
       "</table>\n",
       "<p>1904 rows × 12 columns</p>\n",
       "</div>"
      ],
      "text/plain": [
       "         User  Card  Amount Use_Chip        Merchant_Name  Merchant_City  \\\n",
       "242151   1810     2  134.75     Chip  8674313622336409986    Albuquerque   \n",
       "242152   1810     2    8.65   Online -4282466774399734331         ONLINE   \n",
       "522892   1424     0  390.00   Online  1715299929786123066         ONLINE   \n",
       "242153   1810     2    2.84   Online  3668293439946600661         ONLINE   \n",
       "522893   1424     0   99.19   Online -4282466774399734331         ONLINE   \n",
       "...       ...   ...     ...      ...                  ...            ...   \n",
       "284365   1816     3    6.93    Swipe -8987302054263035418        Marmora   \n",
       "1704308   954     0  148.25    Swipe  3971533922025314652  Pompano Beach   \n",
       "1704309   954     0    8.64   Online -3395538998277081094         ONLINE   \n",
       "587865   1053     0    2.76   Online -4282466774399734331         ONLINE   \n",
       "587866   1053     0  492.75   Online  4943697251487298296         ONLINE   \n",
       "\n",
       "        Merchant_State      Zip   MCC   Errors  Is_Fraud            Datetime  \n",
       "242151              NM 87110.00  5300      NaN      True 2015-03-30 09:54:00  \n",
       "242152             NaN      NaN  4829      NaN      True 2015-03-30 10:13:00  \n",
       "522892             NaN      NaN  3722      NaN      True 2015-03-30 15:20:00  \n",
       "242153             NaN      NaN  7801  Bad CVV      True 2015-03-30 16:48:00  \n",
       "522893             NaN      NaN  4829      NaN      True 2015-03-31 10:07:00  \n",
       "...                ...      ...   ...      ...       ...                 ...  \n",
       "284365              NJ  8223.00  5912      NaN      True 2015-12-30 16:11:00  \n",
       "1704308             FL 33064.00  5912      NaN      True 2015-12-30 16:30:00  \n",
       "1704309            NaN      NaN  5311      NaN      True 2015-12-30 16:35:00  \n",
       "587865             NaN      NaN  4829      NaN      True 2015-12-30 18:40:00  \n",
       "587866             NaN      NaN  5816      NaN      True 2015-12-30 21:14:00  \n",
       "\n",
       "[1904 rows x 12 columns]"
      ]
     },
     "execution_count": 48,
     "metadata": {},
     "output_type": "execute_result"
    }
   ],
   "source": [
    "train_f_grouped = train_f_pool.groupby(['User', 'Card'])\n",
    "train_f_grouped.head()"
   ]
  },
  {
   "cell_type": "code",
   "execution_count": 50,
   "metadata": {},
   "outputs": [
    {
     "data": {
      "text/plain": [
       "User  Card\n",
       "0     0       13\n",
       "2     4        8\n",
       "8     4        1\n",
       "13    1       10\n",
       "17    2       10\n",
       "              ..\n",
       "1974  0        4\n",
       "1976  2        7\n",
       "1977  1        8\n",
       "1983  3        6\n",
       "1995  1        1\n",
       "Length: 440, dtype: int64"
      ]
     },
     "execution_count": 50,
     "metadata": {},
     "output_type": "execute_result"
    }
   ],
   "source": [
    "train_f_grouped.size()"
   ]
  },
  {
   "cell_type": "code",
   "execution_count": 53,
   "metadata": {},
   "outputs": [
    {
     "name": "stdout",
     "output_type": "stream",
     "text": [
      "Name: (0, 0)\n",
      "      User  Card  Amount Use_Chip        Merchant_Name Merchant_City  \\\n",
      "4099     0     0  287.25   Online -8194607650924472520        ONLINE   \n",
      "4100     0     0    2.41   Online -7759074308363763111        ONLINE   \n",
      "4101     0     0   50.81   Online  -551332107213382088        ONLINE   \n",
      "4102     0     0  248.38   Online  4872340518840476610        ONLINE   \n",
      "4103     0     0  473.00   Online -8566951830324093739        ONLINE   \n",
      "4104     0     0  144.50   Online -3650057525483423997        ONLINE   \n",
      "4105     0     0   44.56   Online  1913477460590765860        ONLINE   \n",
      "4106     0     0   64.94   Online  4645744106416199425        ONLINE   \n",
      "4107     0     0  124.56   Online  9057735476014445185        ONLINE   \n",
      "4108     0     0   97.31   Online  5625828905483550857        ONLINE   \n",
      "4109     0     0   17.86   Online -3220758452254689706        ONLINE   \n",
      "4111     0     0  162.12   Online -8566951830324093739        ONLINE   \n",
      "4112     0     0 -473.00   Online -8566951830324093739        ONLINE   \n",
      "\n",
      "     Merchant_State  Zip   MCC Errors  Is_Fraud            Datetime  \n",
      "4099            NaN  NaN  3001    NaN      True 2015-11-15 12:55:00  \n",
      "4100            NaN  NaN  5651    NaN      True 2015-11-15 13:19:00  \n",
      "4101            NaN  NaN  4411    NaN      True 2015-11-16 09:41:00  \n",
      "4102            NaN  NaN  5732    NaN      True 2015-11-16 09:46:00  \n",
      "4103            NaN  NaN  3640    NaN      True 2015-11-16 11:20:00  \n",
      "4104            NaN  NaN  3007    NaN      True 2015-11-16 11:34:00  \n",
      "4105            NaN  NaN  5300    NaN      True 2015-11-16 13:44:00  \n",
      "4106            NaN  NaN  7996    NaN      True 2015-11-17 14:12:00  \n",
      "4107            NaN  NaN  5311    NaN      True 2015-11-17 15:35:00  \n",
      "4108            NaN  NaN  7922    NaN      True 2015-11-17 15:59:00  \n",
      "4109            NaN  NaN  5311    NaN      True 2015-11-17 16:05:00  \n",
      "4111            NaN  NaN  3640    NaN      True 2015-11-20 07:34:00  \n",
      "4112            NaN  NaN  3640    NaN      True 2015-11-20 07:42:00  \n"
     ]
    }
   ],
   "source": [
    "for name, group in train_f_grouped:\n",
    "    print('Name:', name)\n",
    "    print(group)\n",
    "    break"
   ]
  },
  {
   "cell_type": "code",
   "execution_count": 54,
   "metadata": {},
   "outputs": [
    {
     "data": {
      "text/html": [
       "<div>\n",
       "<style scoped>\n",
       "    .dataframe tbody tr th:only-of-type {\n",
       "        vertical-align: middle;\n",
       "    }\n",
       "\n",
       "    .dataframe tbody tr th {\n",
       "        vertical-align: top;\n",
       "    }\n",
       "\n",
       "    .dataframe thead th {\n",
       "        text-align: right;\n",
       "    }\n",
       "</style>\n",
       "<table border=\"1\" class=\"dataframe\">\n",
       "  <thead>\n",
       "    <tr style=\"text-align: right;\">\n",
       "      <th></th>\n",
       "      <th>User</th>\n",
       "      <th>Card</th>\n",
       "      <th>Amount</th>\n",
       "      <th>Use_Chip</th>\n",
       "      <th>Merchant_Name</th>\n",
       "      <th>Merchant_City</th>\n",
       "      <th>Merchant_State</th>\n",
       "      <th>Zip</th>\n",
       "      <th>MCC</th>\n",
       "      <th>Errors</th>\n",
       "      <th>Is_Fraud</th>\n",
       "      <th>Datetime</th>\n",
       "    </tr>\n",
       "  </thead>\n",
       "  <tbody>\n",
       "    <tr>\n",
       "      <th>0</th>\n",
       "      <td>0</td>\n",
       "      <td>0</td>\n",
       "      <td>134.12</td>\n",
       "      <td>Swipe</td>\n",
       "      <td>3527213246127876953</td>\n",
       "      <td>La Verne</td>\n",
       "      <td>CA</td>\n",
       "      <td>91750.00</td>\n",
       "      <td>5300</td>\n",
       "      <td>NaN</td>\n",
       "      <td>False</td>\n",
       "      <td>2002-09-01 06:21:00</td>\n",
       "    </tr>\n",
       "    <tr>\n",
       "      <th>1</th>\n",
       "      <td>0</td>\n",
       "      <td>0</td>\n",
       "      <td>38.47</td>\n",
       "      <td>Swipe</td>\n",
       "      <td>-727612092139916043</td>\n",
       "      <td>Monterey Park</td>\n",
       "      <td>CA</td>\n",
       "      <td>91754.00</td>\n",
       "      <td>5411</td>\n",
       "      <td>NaN</td>\n",
       "      <td>False</td>\n",
       "      <td>2002-09-01 06:42:00</td>\n",
       "    </tr>\n",
       "    <tr>\n",
       "      <th>2</th>\n",
       "      <td>0</td>\n",
       "      <td>0</td>\n",
       "      <td>120.31</td>\n",
       "      <td>Swipe</td>\n",
       "      <td>-727612092139916043</td>\n",
       "      <td>Monterey Park</td>\n",
       "      <td>CA</td>\n",
       "      <td>91754.00</td>\n",
       "      <td>5411</td>\n",
       "      <td>NaN</td>\n",
       "      <td>False</td>\n",
       "      <td>2002-09-02 06:22:00</td>\n",
       "    </tr>\n",
       "    <tr>\n",
       "      <th>3</th>\n",
       "      <td>0</td>\n",
       "      <td>0</td>\n",
       "      <td>129.00</td>\n",
       "      <td>Swipe</td>\n",
       "      <td>3414527459579106770</td>\n",
       "      <td>Monterey Park</td>\n",
       "      <td>CA</td>\n",
       "      <td>91754.00</td>\n",
       "      <td>5651</td>\n",
       "      <td>NaN</td>\n",
       "      <td>False</td>\n",
       "      <td>2002-09-02 17:45:00</td>\n",
       "    </tr>\n",
       "    <tr>\n",
       "      <th>4</th>\n",
       "      <td>0</td>\n",
       "      <td>0</td>\n",
       "      <td>104.69</td>\n",
       "      <td>Swipe</td>\n",
       "      <td>5817218446178736267</td>\n",
       "      <td>La Verne</td>\n",
       "      <td>CA</td>\n",
       "      <td>91750.00</td>\n",
       "      <td>5912</td>\n",
       "      <td>NaN</td>\n",
       "      <td>False</td>\n",
       "      <td>2002-09-03 06:23:00</td>\n",
       "    </tr>\n",
       "    <tr>\n",
       "      <th>...</th>\n",
       "      <td>...</td>\n",
       "      <td>...</td>\n",
       "      <td>...</td>\n",
       "      <td>...</td>\n",
       "      <td>...</td>\n",
       "      <td>...</td>\n",
       "      <td>...</td>\n",
       "      <td>...</td>\n",
       "      <td>...</td>\n",
       "      <td>...</td>\n",
       "      <td>...</td>\n",
       "      <td>...</td>\n",
       "    </tr>\n",
       "    <tr>\n",
       "      <th>5006</th>\n",
       "      <td>0</td>\n",
       "      <td>0</td>\n",
       "      <td>119.88</td>\n",
       "      <td>Chip</td>\n",
       "      <td>4060646732831064559</td>\n",
       "      <td>La Verne</td>\n",
       "      <td>CA</td>\n",
       "      <td>91750.00</td>\n",
       "      <td>5411</td>\n",
       "      <td>NaN</td>\n",
       "      <td>False</td>\n",
       "      <td>2020-02-18 06:10:00</td>\n",
       "    </tr>\n",
       "    <tr>\n",
       "      <th>5007</th>\n",
       "      <td>0</td>\n",
       "      <td>0</td>\n",
       "      <td>172.75</td>\n",
       "      <td>Chip</td>\n",
       "      <td>5817218446178736267</td>\n",
       "      <td>La Verne</td>\n",
       "      <td>CA</td>\n",
       "      <td>91750.00</td>\n",
       "      <td>5912</td>\n",
       "      <td>NaN</td>\n",
       "      <td>False</td>\n",
       "      <td>2020-02-20 06:24:00</td>\n",
       "    </tr>\n",
       "    <tr>\n",
       "      <th>5008</th>\n",
       "      <td>0</td>\n",
       "      <td>0</td>\n",
       "      <td>19.97</td>\n",
       "      <td>Chip</td>\n",
       "      <td>4060646732831064559</td>\n",
       "      <td>La Verne</td>\n",
       "      <td>CA</td>\n",
       "      <td>91750.00</td>\n",
       "      <td>5411</td>\n",
       "      <td>NaN</td>\n",
       "      <td>False</td>\n",
       "      <td>2020-02-25 06:52:00</td>\n",
       "    </tr>\n",
       "    <tr>\n",
       "      <th>5009</th>\n",
       "      <td>0</td>\n",
       "      <td>0</td>\n",
       "      <td>63.91</td>\n",
       "      <td>Chip</td>\n",
       "      <td>2438846973070764815</td>\n",
       "      <td>New York</td>\n",
       "      <td>NY</td>\n",
       "      <td>10113.00</td>\n",
       "      <td>7538</td>\n",
       "      <td>NaN</td>\n",
       "      <td>False</td>\n",
       "      <td>2020-02-26 09:41:00</td>\n",
       "    </tr>\n",
       "    <tr>\n",
       "      <th>5010</th>\n",
       "      <td>0</td>\n",
       "      <td>0</td>\n",
       "      <td>10.58</td>\n",
       "      <td>Chip</td>\n",
       "      <td>5205099864768539121</td>\n",
       "      <td>New York</td>\n",
       "      <td>NY</td>\n",
       "      <td>10128.00</td>\n",
       "      <td>5812</td>\n",
       "      <td>NaN</td>\n",
       "      <td>False</td>\n",
       "      <td>2020-02-27 12:41:00</td>\n",
       "    </tr>\n",
       "  </tbody>\n",
       "</table>\n",
       "<p>5011 rows × 12 columns</p>\n",
       "</div>"
      ],
      "text/plain": [
       "      User  Card  Amount Use_Chip        Merchant_Name  Merchant_City  \\\n",
       "0        0     0  134.12    Swipe  3527213246127876953       La Verne   \n",
       "1        0     0   38.47    Swipe  -727612092139916043  Monterey Park   \n",
       "2        0     0  120.31    Swipe  -727612092139916043  Monterey Park   \n",
       "3        0     0  129.00    Swipe  3414527459579106770  Monterey Park   \n",
       "4        0     0  104.69    Swipe  5817218446178736267       La Verne   \n",
       "...    ...   ...     ...      ...                  ...            ...   \n",
       "5006     0     0  119.88     Chip  4060646732831064559       La Verne   \n",
       "5007     0     0  172.75     Chip  5817218446178736267       La Verne   \n",
       "5008     0     0   19.97     Chip  4060646732831064559       La Verne   \n",
       "5009     0     0   63.91     Chip  2438846973070764815       New York   \n",
       "5010     0     0   10.58     Chip  5205099864768539121       New York   \n",
       "\n",
       "     Merchant_State      Zip   MCC Errors  Is_Fraud            Datetime  \n",
       "0                CA 91750.00  5300    NaN     False 2002-09-01 06:21:00  \n",
       "1                CA 91754.00  5411    NaN     False 2002-09-01 06:42:00  \n",
       "2                CA 91754.00  5411    NaN     False 2002-09-02 06:22:00  \n",
       "3                CA 91754.00  5651    NaN     False 2002-09-02 17:45:00  \n",
       "4                CA 91750.00  5912    NaN     False 2002-09-03 06:23:00  \n",
       "...             ...      ...   ...    ...       ...                 ...  \n",
       "5006             CA 91750.00  5411    NaN     False 2020-02-18 06:10:00  \n",
       "5007             CA 91750.00  5912    NaN     False 2020-02-20 06:24:00  \n",
       "5008             CA 91750.00  5411    NaN     False 2020-02-25 06:52:00  \n",
       "5009             NY 10113.00  7538    NaN     False 2020-02-26 09:41:00  \n",
       "5010             NY 10128.00  5812    NaN     False 2020-02-27 12:41:00  \n",
       "\n",
       "[5011 rows x 12 columns]"
      ]
     },
     "execution_count": 54,
     "metadata": {},
     "output_type": "execute_result"
    }
   ],
   "source": [
    "tdf.loc[(tdf['User'] == 0) & (tdf['Card'] == 0)]"
   ]
  },
  {
   "cell_type": "code",
   "execution_count": 55,
   "metadata": {},
   "outputs": [
    {
     "data": {
      "text/plain": [
       "4988"
      ]
     },
     "execution_count": 55,
     "metadata": {},
     "output_type": "execute_result"
    }
   ],
   "source": [
    "len(tdf.loc[(tdf['User'] == 0) & (tdf['Card'] == 0)]['Datetime'].unique())"
   ]
  },
  {
   "cell_type": "code",
   "execution_count": 57,
   "metadata": {},
   "outputs": [
    {
     "data": {
      "text/plain": [
       "(5011, 12)"
      ]
     },
     "execution_count": 57,
     "metadata": {},
     "output_type": "execute_result"
    }
   ],
   "source": [
    "single_test = tdf.loc[(tdf['User'] == 0) & (tdf['Card'] == 0)].copy()\n",
    "single_test.shape"
   ]
  },
  {
   "cell_type": "code",
   "execution_count": 56,
   "metadata": {},
   "outputs": [
    {
     "data": {
      "text/html": [
       "<div>\n",
       "<style scoped>\n",
       "    .dataframe tbody tr th:only-of-type {\n",
       "        vertical-align: middle;\n",
       "    }\n",
       "\n",
       "    .dataframe tbody tr th {\n",
       "        vertical-align: top;\n",
       "    }\n",
       "\n",
       "    .dataframe thead th {\n",
       "        text-align: right;\n",
       "    }\n",
       "</style>\n",
       "<table border=\"1\" class=\"dataframe\">\n",
       "  <thead>\n",
       "    <tr style=\"text-align: right;\">\n",
       "      <th></th>\n",
       "      <th>Datetime</th>\n",
       "    </tr>\n",
       "  </thead>\n",
       "  <tbody>\n",
       "    <tr>\n",
       "      <th>count</th>\n",
       "      <td>24386900</td>\n",
       "    </tr>\n",
       "    <tr>\n",
       "      <th>mean</th>\n",
       "      <td>2012-06-15 16:57:04.016494592</td>\n",
       "    </tr>\n",
       "    <tr>\n",
       "      <th>min</th>\n",
       "      <td>1991-01-02 07:10:00</td>\n",
       "    </tr>\n",
       "    <tr>\n",
       "      <th>25%</th>\n",
       "      <td>2008-12-25 11:34:00</td>\n",
       "    </tr>\n",
       "    <tr>\n",
       "      <th>50%</th>\n",
       "      <td>2013-01-11 08:49:00</td>\n",
       "    </tr>\n",
       "    <tr>\n",
       "      <th>75%</th>\n",
       "      <td>2016-08-27 19:46:00</td>\n",
       "    </tr>\n",
       "    <tr>\n",
       "      <th>max</th>\n",
       "      <td>2020-02-28 23:58:00</td>\n",
       "    </tr>\n",
       "  </tbody>\n",
       "</table>\n",
       "</div>"
      ],
      "text/plain": [
       "                            Datetime\n",
       "count                       24386900\n",
       "mean   2012-06-15 16:57:04.016494592\n",
       "min              1991-01-02 07:10:00\n",
       "25%              2008-12-25 11:34:00\n",
       "50%              2013-01-11 08:49:00\n",
       "75%              2016-08-27 19:46:00\n",
       "max              2020-02-28 23:58:00"
      ]
     },
     "execution_count": 56,
     "metadata": {},
     "output_type": "execute_result"
    }
   ],
   "source": [
    "tdf[['Datetime']].describe()"
   ]
  },
  {
   "cell_type": "code",
   "execution_count": 58,
   "metadata": {},
   "outputs": [],
   "source": [
    "test_index = 4"
   ]
  },
  {
   "cell_type": "code",
   "execution_count": 59,
   "metadata": {},
   "outputs": [
    {
     "data": {
      "text/html": [
       "<div>\n",
       "<style scoped>\n",
       "    .dataframe tbody tr th:only-of-type {\n",
       "        vertical-align: middle;\n",
       "    }\n",
       "\n",
       "    .dataframe tbody tr th {\n",
       "        vertical-align: top;\n",
       "    }\n",
       "\n",
       "    .dataframe thead th {\n",
       "        text-align: right;\n",
       "    }\n",
       "</style>\n",
       "<table border=\"1\" class=\"dataframe\">\n",
       "  <thead>\n",
       "    <tr style=\"text-align: right;\">\n",
       "      <th></th>\n",
       "      <th>User</th>\n",
       "      <th>Card</th>\n",
       "      <th>Amount</th>\n",
       "      <th>Use_Chip</th>\n",
       "      <th>Merchant_Name</th>\n",
       "      <th>Merchant_City</th>\n",
       "      <th>Merchant_State</th>\n",
       "      <th>Zip</th>\n",
       "      <th>MCC</th>\n",
       "      <th>Errors</th>\n",
       "      <th>Is_Fraud</th>\n",
       "      <th>Datetime</th>\n",
       "    </tr>\n",
       "  </thead>\n",
       "  <tbody>\n",
       "    <tr>\n",
       "      <th>0</th>\n",
       "      <td>0</td>\n",
       "      <td>0</td>\n",
       "      <td>134.12</td>\n",
       "      <td>Swipe</td>\n",
       "      <td>3527213246127876953</td>\n",
       "      <td>La Verne</td>\n",
       "      <td>CA</td>\n",
       "      <td>91750.00</td>\n",
       "      <td>5300</td>\n",
       "      <td>NaN</td>\n",
       "      <td>False</td>\n",
       "      <td>2002-09-01 06:21:00</td>\n",
       "    </tr>\n",
       "    <tr>\n",
       "      <th>1</th>\n",
       "      <td>0</td>\n",
       "      <td>0</td>\n",
       "      <td>38.47</td>\n",
       "      <td>Swipe</td>\n",
       "      <td>-727612092139916043</td>\n",
       "      <td>Monterey Park</td>\n",
       "      <td>CA</td>\n",
       "      <td>91754.00</td>\n",
       "      <td>5411</td>\n",
       "      <td>NaN</td>\n",
       "      <td>False</td>\n",
       "      <td>2002-09-01 06:42:00</td>\n",
       "    </tr>\n",
       "    <tr>\n",
       "      <th>2</th>\n",
       "      <td>0</td>\n",
       "      <td>0</td>\n",
       "      <td>120.31</td>\n",
       "      <td>Swipe</td>\n",
       "      <td>-727612092139916043</td>\n",
       "      <td>Monterey Park</td>\n",
       "      <td>CA</td>\n",
       "      <td>91754.00</td>\n",
       "      <td>5411</td>\n",
       "      <td>NaN</td>\n",
       "      <td>False</td>\n",
       "      <td>2002-09-02 06:22:00</td>\n",
       "    </tr>\n",
       "    <tr>\n",
       "      <th>3</th>\n",
       "      <td>0</td>\n",
       "      <td>0</td>\n",
       "      <td>129.00</td>\n",
       "      <td>Swipe</td>\n",
       "      <td>3414527459579106770</td>\n",
       "      <td>Monterey Park</td>\n",
       "      <td>CA</td>\n",
       "      <td>91754.00</td>\n",
       "      <td>5651</td>\n",
       "      <td>NaN</td>\n",
       "      <td>False</td>\n",
       "      <td>2002-09-02 17:45:00</td>\n",
       "    </tr>\n",
       "    <tr>\n",
       "      <th>4</th>\n",
       "      <td>0</td>\n",
       "      <td>0</td>\n",
       "      <td>104.69</td>\n",
       "      <td>Swipe</td>\n",
       "      <td>5817218446178736267</td>\n",
       "      <td>La Verne</td>\n",
       "      <td>CA</td>\n",
       "      <td>91750.00</td>\n",
       "      <td>5912</td>\n",
       "      <td>NaN</td>\n",
       "      <td>False</td>\n",
       "      <td>2002-09-03 06:23:00</td>\n",
       "    </tr>\n",
       "  </tbody>\n",
       "</table>\n",
       "</div>"
      ],
      "text/plain": [
       "   User  Card  Amount Use_Chip        Merchant_Name  Merchant_City  \\\n",
       "0     0     0  134.12    Swipe  3527213246127876953       La Verne   \n",
       "1     0     0   38.47    Swipe  -727612092139916043  Monterey Park   \n",
       "2     0     0  120.31    Swipe  -727612092139916043  Monterey Park   \n",
       "3     0     0  129.00    Swipe  3414527459579106770  Monterey Park   \n",
       "4     0     0  104.69    Swipe  5817218446178736267       La Verne   \n",
       "\n",
       "  Merchant_State      Zip   MCC Errors  Is_Fraud            Datetime  \n",
       "0             CA 91750.00  5300    NaN     False 2002-09-01 06:21:00  \n",
       "1             CA 91754.00  5411    NaN     False 2002-09-01 06:42:00  \n",
       "2             CA 91754.00  5411    NaN     False 2002-09-02 06:22:00  \n",
       "3             CA 91754.00  5651    NaN     False 2002-09-02 17:45:00  \n",
       "4             CA 91750.00  5912    NaN     False 2002-09-03 06:23:00  "
      ]
     },
     "execution_count": 59,
     "metadata": {},
     "output_type": "execute_result"
    }
   ],
   "source": [
    "single_test.loc[single_test.index <= test_index]"
   ]
  },
  {
   "cell_type": "code",
   "execution_count": 60,
   "metadata": {},
   "outputs": [],
   "source": [
    "import datetime as dt"
   ]
  },
  {
   "cell_type": "code",
   "execution_count": 71,
   "metadata": {},
   "outputs": [
    {
     "name": "stderr",
     "output_type": "stream",
     "text": [
      "/tmp/ipykernel_11768/3956143433.py:3: UserWarning: marker is redundantly defined by the 'marker' keyword argument and the fmt string \"o\" (-> marker='o'). The keyword argument will take precedence.\n",
      "  ax.plot_date(x=single_test.loc[single_test.index <= test_index]['Datetime'], y=single_test.loc[single_test.index <= test_index]['Amount'], linestyle='solid', marker='None')\n"
     ]
    },
    {
     "data": {
      "text/plain": [
       "<Figure size 1800x500 with 0 Axes>"
      ]
     },
     "metadata": {},
     "output_type": "display_data"
    },
    {
     "data": {
      "image/png": "[encoded data removed]",
      "text/plain": [
       "<Figure size 640x480 with 1 Axes>"
      ]
     },
     "metadata": {},
     "output_type": "display_data"
    }
   ],
   "source": [
    "fig, ax = plt.subplots()\n",
    "ax.plot_date(x=single_test.loc[single_test.index <= test_index]['Datetime'], y=single_test.loc[single_test.index <= test_index]['Amount'], linestyle='solid', marker='None')\n",
    "fig.autofmt_xdate()\n",
    "ax.set_xlim([dt.date(1991, 1, 1), dt.date(2020, 3, 1)])\n",
    "plt.show()"
   ]
  },
  {
   "cell_type": "code",
   "execution_count": 66,
   "metadata": {},
   "outputs": [],
   "source": [
    "test_index = 5007"
   ]
  },
  {
   "cell_type": "code",
   "execution_count": 67,
   "metadata": {},
   "outputs": [
    {
     "data": {
      "image/png": "[encoded data removed]",
      "text/plain": [
       "<Figure size 640x480 with 1 Axes>"
      ]
     },
     "metadata": {},
     "output_type": "display_data"
    }
   ],
   "source": [
    "fig, ax = plt.subplots()\n",
    "ax.plot_date(x=single_test.loc[single_test.index <= test_index]['Datetime'], y=single_test.loc[single_test.index <= test_index]['Amount'], linestyle='solid')\n",
    "fig.autofmt_xdate()\n",
    "ax.set_xlim([dt.date(1991, 1, 1), dt.date(2020, 3, 1)])\n",
    "plt.show()"
   ]
  }
 ],
 "metadata": {
  "kernelspec": {
   "display_name": "ece5831-py3.10",
   "language": "python",
   "name": "python3"
  },
  "language_info": {
   "codemirror_mode": {
    "name": "ipython",
    "version": 3
   },
   "file_extension": ".py",
   "mimetype": "text/x-python",
   "name": "python",
   "nbconvert_exporter": "python",
   "pygments_lexer": "ipython3",
   "version": "3.10.13"
  }
 },
 "nbformat": 4,
 "nbformat_minor": 2
}
