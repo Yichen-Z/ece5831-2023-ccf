{
 "cells": [
  {
   "cell_type": "markdown",
   "metadata": {},
   "source": [
    "# Exploring Transactions Data"
   ]
  },
  {
   "cell_type": "markdown",
   "metadata": {},
   "source": [
    "Source: [IBM Synthetic Credit Card Transactions Dataset on Kaggle](https://www.kaggle.com/datasets/ealtman2019/credit-card-transactions)"
   ]
  },
  {
   "cell_type": "code",
   "execution_count": 1,
   "metadata": {},
   "outputs": [],
   "source": [
    "import joblib\n",
    "import numpy as np\n",
    "import pandas as pd\n",
    "pd.set_option('display.max_columns', 50)\n",
    "pd.set_option('display.float_format', lambda x: f\"{x:.2f}\")"
   ]
  },
  {
   "cell_type": "code",
   "execution_count": 2,
   "metadata": {},
   "outputs": [],
   "source": [
    "import matplotlib.pyplot as plt\n",
    "import seaborn as sns"
   ]
  },
  {
   "cell_type": "markdown",
   "metadata": {},
   "source": [
    "## Pre-Process"
   ]
  },
  {
   "cell_type": "code",
   "execution_count": 2,
   "metadata": {},
   "outputs": [],
   "source": [
    "COL_NAMES = ['User','Card','Year','Month','Day','Time','Amount','Use_Chip',\n",
    "                 'Merchant_Name','Merchant_City','Merchant_State','Zip','MCC','Errors','Is_Fraud']\n",
    "PARSE_DATES = ['Year', 'Month', 'Day', 'Time']"
   ]
  },
  {
   "cell_type": "code",
   "execution_count": 3,
   "metadata": {},
   "outputs": [],
   "source": [
    "from src import process_data"
   ]
  },
  {
   "cell_type": "code",
   "execution_count": 4,
   "metadata": {},
   "outputs": [],
   "source": [
    "tdf = pd.read_csv('data/split/newcutaa', header=None, names=COL_NAMES)\n",
    "process_data.combine_date_cols(columns=PARSE_DATES, result_col='Datetime', df=tdf)"
   ]
  },
  {
   "cell_type": "code",
   "execution_count": 5,
   "metadata": {},
   "outputs": [],
   "source": [
    "process_data.get_numeric_amount(df=tdf)\n",
    "tdf = process_data.save_space(tdf)"
   ]
  },
  {
   "cell_type": "code",
   "execution_count": 6,
   "metadata": {},
   "outputs": [
    {
     "name": "stdout",
     "output_type": "stream",
     "text": [
      "<class 'pandas.core.frame.DataFrame'>\n",
      "RangeIndex: 2439999 entries, 0 to 2439998\n",
      "Data columns (total 12 columns):\n",
      " #   Column          Dtype         \n",
      "---  ------          -----         \n",
      " 0   User            int32         \n",
      " 1   Card            int32         \n",
      " 2   Amount          float32       \n",
      " 3   Use_Chip        object        \n",
      " 4   Merchant_Name   int32         \n",
      " 5   Merchant_City   object        \n",
      " 6   Merchant_State  object        \n",
      " 7   Zip             float32       \n",
      " 8   MCC             int32         \n",
      " 9   Errors          object        \n",
      " 10  Is_Fraud        object        \n",
      " 11  Datetime        datetime64[ns]\n",
      "dtypes: datetime64[ns](1), float32(2), int32(4), object(5)\n",
      "memory usage: 167.5+ MB\n"
     ]
    }
   ],
   "source": [
    "tdf.info()"
   ]
  },
  {
   "cell_type": "code",
   "execution_count": 7,
   "metadata": {},
   "outputs": [
    {
     "data": {
      "text/html": [
       "<div>\n",
       "<style scoped>\n",
       "    .dataframe tbody tr th:only-of-type {\n",
       "        vertical-align: middle;\n",
       "    }\n",
       "\n",
       "    .dataframe tbody tr th {\n",
       "        vertical-align: top;\n",
       "    }\n",
       "\n",
       "    .dataframe thead th {\n",
       "        text-align: right;\n",
       "    }\n",
       "</style>\n",
       "<table border=\"1\" class=\"dataframe\">\n",
       "  <thead>\n",
       "    <tr style=\"text-align: right;\">\n",
       "      <th></th>\n",
       "      <th>User</th>\n",
       "      <th>Card</th>\n",
       "      <th>Amount</th>\n",
       "      <th>Use_Chip</th>\n",
       "      <th>Merchant_Name</th>\n",
       "      <th>Merchant_City</th>\n",
       "      <th>Merchant_State</th>\n",
       "      <th>Zip</th>\n",
       "      <th>MCC</th>\n",
       "      <th>Errors</th>\n",
       "      <th>Is_Fraud</th>\n",
       "      <th>Datetime</th>\n",
       "    </tr>\n",
       "  </thead>\n",
       "  <tbody>\n",
       "    <tr>\n",
       "      <th>0</th>\n",
       "      <td>0</td>\n",
       "      <td>0</td>\n",
       "      <td>134.09</td>\n",
       "      <td>Swipe</td>\n",
       "      <td>1719741273</td>\n",
       "      <td>La Verne</td>\n",
       "      <td>CA</td>\n",
       "      <td>91750.00</td>\n",
       "      <td>5300</td>\n",
       "      <td>NaN</td>\n",
       "      <td>No</td>\n",
       "      <td>2002-09-01 06:21:00</td>\n",
       "    </tr>\n",
       "    <tr>\n",
       "      <th>1</th>\n",
       "      <td>0</td>\n",
       "      <td>0</td>\n",
       "      <td>38.48</td>\n",
       "      <td>Swipe</td>\n",
       "      <td>1102623989</td>\n",
       "      <td>Monterey Park</td>\n",
       "      <td>CA</td>\n",
       "      <td>91754.00</td>\n",
       "      <td>5411</td>\n",
       "      <td>NaN</td>\n",
       "      <td>No</td>\n",
       "      <td>2002-09-01 06:42:00</td>\n",
       "    </tr>\n",
       "    <tr>\n",
       "      <th>2</th>\n",
       "      <td>0</td>\n",
       "      <td>0</td>\n",
       "      <td>120.34</td>\n",
       "      <td>Swipe</td>\n",
       "      <td>1102623989</td>\n",
       "      <td>Monterey Park</td>\n",
       "      <td>CA</td>\n",
       "      <td>91754.00</td>\n",
       "      <td>5411</td>\n",
       "      <td>NaN</td>\n",
       "      <td>No</td>\n",
       "      <td>2002-09-02 06:22:00</td>\n",
       "    </tr>\n",
       "  </tbody>\n",
       "</table>\n",
       "</div>"
      ],
      "text/plain": [
       "   User  Card  Amount Use_Chip  Merchant_Name  Merchant_City Merchant_State  \\\n",
       "0     0     0  134.09    Swipe     1719741273       La Verne             CA   \n",
       "1     0     0   38.48    Swipe     1102623989  Monterey Park             CA   \n",
       "2     0     0  120.34    Swipe     1102623989  Monterey Park             CA   \n",
       "\n",
       "       Zip   MCC Errors Is_Fraud            Datetime  \n",
       "0 91750.00  5300    NaN       No 2002-09-01 06:21:00  \n",
       "1 91754.00  5411    NaN       No 2002-09-01 06:42:00  \n",
       "2 91754.00  5411    NaN       No 2002-09-02 06:22:00  "
      ]
     },
     "execution_count": 7,
     "metadata": {},
     "output_type": "execute_result"
    }
   ],
   "source": [
    "tdf.head(3)"
   ]
  },
  {
   "cell_type": "code",
   "execution_count": 8,
   "metadata": {},
   "outputs": [
    {
     "name": "stdout",
     "output_type": "stream",
     "text": [
      "<class 'pandas.core.frame.DataFrame'>\n",
      "RangeIndex: 2439999 entries, 0 to 2439998\n",
      "Data columns (total 12 columns):\n",
      " #   Column          Dtype         \n",
      "---  ------          -----         \n",
      " 0   User            int8          \n",
      " 1   Card            int8          \n",
      " 2   Amount          float32       \n",
      " 3   Use_Chip        object        \n",
      " 4   Merchant_Name   int32         \n",
      " 5   Merchant_City   object        \n",
      " 6   Merchant_State  object        \n",
      " 7   Zip             float32       \n",
      " 8   MCC             int32         \n",
      " 9   Errors          object        \n",
      " 10  Is_Fraud        object        \n",
      " 11  Datetime        datetime64[ns]\n",
      "dtypes: datetime64[ns](1), float32(2), int32(2), int8(2), object(5)\n",
      "memory usage: 153.6+ MB\n"
     ]
    }
   ],
   "source": [
    "tdf['User'] = tdf['User'].astype(np.int8)\n",
    "tdf['Card'] = tdf['Card'].astype(np.int8)\n",
    "tdf.info()"
   ]
  },
  {
   "cell_type": "code",
   "execution_count": 10,
   "metadata": {},
   "outputs": [
    {
     "name": "stdout",
     "output_type": "stream",
     "text": [
      "<class 'pandas.core.frame.DataFrame'>\n",
      "RangeIndex: 24386900 entries, 0 to 24386899\n",
      "Data columns (total 14 columns):\n",
      " #   Column          Dtype  \n",
      "---  ------          -----  \n",
      " 0   User            int32  \n",
      " 1   Card            int32  \n",
      " 2   Year            int32  \n",
      " 3   Month           int32  \n",
      " 4   Day             int32  \n",
      " 5   Time            object \n",
      " 6   Amount          float32\n",
      " 7   Use Chip        object \n",
      " 8   Merchant City   object \n",
      " 9   Merchant State  object \n",
      " 10  Zip             float32\n",
      " 11  MCC             int32  \n",
      " 12  Errors?         object \n",
      " 13  Is Fraud?       object \n",
      "dtypes: float32(2), int32(6), object(6)\n",
      "memory usage: 1.8+ GB\n"
     ]
    }
   ],
   "source": [
    "tdf['Amount'] = tdf['Amount'].apply(lambda value: float(value[1:]))\n",
    "tdf['Amount'] = tdf['Amount'].astype('float32')\n",
    "tdf.info()"
   ]
  },
  {
   "cell_type": "code",
   "execution_count": 11,
   "metadata": {},
   "outputs": [
    {
     "data": {
      "text/plain": [
       "Use Chip\n",
       "Swipe Transaction     15386082\n",
       "Chip Transaction       6287598\n",
       "Online Transaction     2713220\n",
       "Name: count, dtype: int64"
      ]
     },
     "execution_count": 11,
     "metadata": {},
     "output_type": "execute_result"
    }
   ],
   "source": [
    "tdf['Use Chip'].value_counts()"
   ]
  },
  {
   "cell_type": "code",
   "execution_count": 11,
   "metadata": {},
   "outputs": [
    {
     "data": {
      "text/plain": [
       "Use Chip\n",
       "Swipe     15386082\n",
       "Chip       6287598\n",
       "Online     2713220\n",
       "Name: count, dtype: int64"
      ]
     },
     "execution_count": 11,
     "metadata": {},
     "output_type": "execute_result"
    }
   ],
   "source": [
    "tdf['Use Chip'] = tdf['Use Chip'].apply(lambda word: word.split()[0])\n",
    "tdf['Use Chip'].value_counts()"
   ]
  },
  {
   "cell_type": "code",
   "execution_count": 13,
   "metadata": {},
   "outputs": [
    {
     "name": "stdout",
     "output_type": "stream",
     "text": [
      "<class 'pandas.core.frame.DataFrame'>\n",
      "RangeIndex: 24386900 entries, 0 to 24386899\n",
      "Data columns (total 14 columns):\n",
      " #   Column          Dtype  \n",
      "---  ------          -----  \n",
      " 0   User            int32  \n",
      " 1   Card            int32  \n",
      " 2   Year            int32  \n",
      " 3   Month           int32  \n",
      " 4   Day             int32  \n",
      " 5   Time            object \n",
      " 6   Amount          float32\n",
      " 7   Use Chip        object \n",
      " 8   Merchant City   object \n",
      " 9   Merchant State  object \n",
      " 10  Zip             float32\n",
      " 11  MCC             int32  \n",
      " 12  Errors?         object \n",
      " 13  Is Fraud?       object \n",
      "dtypes: float32(2), int32(6), object(6)\n",
      "memory usage: 1.8+ GB\n"
     ]
    },
    {
     "data": {
      "text/plain": [
       "['data/slimmed_before_datetime_combine']"
      ]
     },
     "execution_count": 13,
     "metadata": {},
     "output_type": "execute_result"
    }
   ],
   "source": [
    "tdf.info()\n",
    "joblib.dump(tdf, 'data/slimmed_before_datetime_combine')"
   ]
  },
  {
   "cell_type": "markdown",
   "metadata": {},
   "source": [
    "### Combine Datetime Columns"
   ]
  },
  {
   "cell_type": "code",
   "execution_count": 2,
   "metadata": {},
   "outputs": [
    {
     "name": "stdout",
     "output_type": "stream",
     "text": [
      "<class 'pandas.core.frame.DataFrame'>\n",
      "RangeIndex: 24386900 entries, 0 to 24386899\n",
      "Data columns (total 14 columns):\n",
      " #   Column          Dtype  \n",
      "---  ------          -----  \n",
      " 0   User            int32  \n",
      " 1   Card            int32  \n",
      " 2   Year            int32  \n",
      " 3   Month           int32  \n",
      " 4   Day             int32  \n",
      " 5   Time            object \n",
      " 6   Amount          float32\n",
      " 7   Use Chip        object \n",
      " 8   Merchant City   object \n",
      " 9   Merchant State  object \n",
      " 10  Zip             float32\n",
      " 11  MCC             int32  \n",
      " 12  Errors?         object \n",
      " 13  Is Fraud?       object \n",
      "dtypes: float32(2), int32(6), object(6)\n",
      "memory usage: 1.8+ GB\n"
     ]
    }
   ],
   "source": [
    "tdf = joblib.load('data/slimmed_before_datetime_combine')\n",
    "tdf.info()"
   ]
  },
  {
   "cell_type": "code",
   "execution_count": 5,
   "metadata": {},
   "outputs": [
    {
     "data": {
      "text/plain": [
       "13759342    15:12\n",
       "14806318    10:40\n",
       "6794274     06:57\n",
       "8576284     08:58\n",
       "18437265    09:37\n",
       "10345942    08:33\n",
       "22962013    14:15\n",
       "6004777     22:02\n",
       "8124608     08:02\n",
       "12818088    16:47\n",
       "Name: Time, dtype: object"
      ]
     },
     "execution_count": 5,
     "metadata": {},
     "output_type": "execute_result"
    }
   ],
   "source": [
    "tdf['Time'].sample(n=10)"
   ]
  },
  {
   "cell_type": "code",
   "execution_count": 6,
   "metadata": {},
   "outputs": [
    {
     "data": {
      "text/html": [
       "<div>\n",
       "<style scoped>\n",
       "    .dataframe tbody tr th:only-of-type {\n",
       "        vertical-align: middle;\n",
       "    }\n",
       "\n",
       "    .dataframe tbody tr th {\n",
       "        vertical-align: top;\n",
       "    }\n",
       "\n",
       "    .dataframe thead th {\n",
       "        text-align: right;\n",
       "    }\n",
       "</style>\n",
       "<table border=\"1\" class=\"dataframe\">\n",
       "  <thead>\n",
       "    <tr style=\"text-align: right;\">\n",
       "      <th></th>\n",
       "      <th>User</th>\n",
       "      <th>Card</th>\n",
       "      <th>Year</th>\n",
       "      <th>Month</th>\n",
       "      <th>Day</th>\n",
       "      <th>Merchant Name</th>\n",
       "      <th>Zip</th>\n",
       "      <th>MCC</th>\n",
       "    </tr>\n",
       "  </thead>\n",
       "  <tbody>\n",
       "    <tr>\n",
       "      <th>count</th>\n",
       "      <td>2.438690e+07</td>\n",
       "      <td>2.438690e+07</td>\n",
       "      <td>2.438690e+07</td>\n",
       "      <td>2.438690e+07</td>\n",
       "      <td>2.438690e+07</td>\n",
       "      <td>2.438690e+07</td>\n",
       "      <td>2.150876e+07</td>\n",
       "      <td>2.438690e+07</td>\n",
       "    </tr>\n",
       "    <tr>\n",
       "      <th>mean</th>\n",
       "      <td>1.001019e+03</td>\n",
       "      <td>1.351366e+00</td>\n",
       "      <td>2.011955e+03</td>\n",
       "      <td>6.525064e+00</td>\n",
       "      <td>1.571812e+01</td>\n",
       "      <td>-4.769230e+17</td>\n",
       "      <td>5.095644e+04</td>\n",
       "      <td>5.561171e+03</td>\n",
       "    </tr>\n",
       "    <tr>\n",
       "      <th>std</th>\n",
       "      <td>5.694612e+02</td>\n",
       "      <td>1.407154e+00</td>\n",
       "      <td>5.105921e+00</td>\n",
       "      <td>3.472355e+00</td>\n",
       "      <td>8.794073e+00</td>\n",
       "      <td>4.758940e+18</td>\n",
       "      <td>2.939707e+04</td>\n",
       "      <td>8.793154e+02</td>\n",
       "    </tr>\n",
       "    <tr>\n",
       "      <th>min</th>\n",
       "      <td>0.000000e+00</td>\n",
       "      <td>0.000000e+00</td>\n",
       "      <td>1.991000e+03</td>\n",
       "      <td>1.000000e+00</td>\n",
       "      <td>1.000000e+00</td>\n",
       "      <td>-9.222899e+18</td>\n",
       "      <td>5.010000e+02</td>\n",
       "      <td>1.711000e+03</td>\n",
       "    </tr>\n",
       "    <tr>\n",
       "      <th>25%</th>\n",
       "      <td>5.100000e+02</td>\n",
       "      <td>0.000000e+00</td>\n",
       "      <td>2.008000e+03</td>\n",
       "      <td>3.000000e+00</td>\n",
       "      <td>8.000000e+00</td>\n",
       "      <td>-4.500543e+18</td>\n",
       "      <td>2.837400e+04</td>\n",
       "      <td>5.300000e+03</td>\n",
       "    </tr>\n",
       "    <tr>\n",
       "      <th>50%</th>\n",
       "      <td>1.006000e+03</td>\n",
       "      <td>1.000000e+00</td>\n",
       "      <td>2.013000e+03</td>\n",
       "      <td>7.000000e+00</td>\n",
       "      <td>1.600000e+01</td>\n",
       "      <td>-7.946765e+17</td>\n",
       "      <td>4.674200e+04</td>\n",
       "      <td>5.499000e+03</td>\n",
       "    </tr>\n",
       "    <tr>\n",
       "      <th>75%</th>\n",
       "      <td>1.477000e+03</td>\n",
       "      <td>2.000000e+00</td>\n",
       "      <td>2.016000e+03</td>\n",
       "      <td>1.000000e+01</td>\n",
       "      <td>2.300000e+01</td>\n",
       "      <td>3.189517e+18</td>\n",
       "      <td>7.756400e+04</td>\n",
       "      <td>5.812000e+03</td>\n",
       "    </tr>\n",
       "    <tr>\n",
       "      <th>max</th>\n",
       "      <td>1.999000e+03</td>\n",
       "      <td>8.000000e+00</td>\n",
       "      <td>2.020000e+03</td>\n",
       "      <td>1.200000e+01</td>\n",
       "      <td>3.100000e+01</td>\n",
       "      <td>9.223292e+18</td>\n",
       "      <td>9.992800e+04</td>\n",
       "      <td>9.402000e+03</td>\n",
       "    </tr>\n",
       "  </tbody>\n",
       "</table>\n",
       "</div>"
      ],
      "text/plain": [
       "               User          Card          Year         Month           Day  \\\n",
       "count  2.438690e+07  2.438690e+07  2.438690e+07  2.438690e+07  2.438690e+07   \n",
       "mean   1.001019e+03  1.351366e+00  2.011955e+03  6.525064e+00  1.571812e+01   \n",
       "std    5.694612e+02  1.407154e+00  5.105921e+00  3.472355e+00  8.794073e+00   \n",
       "min    0.000000e+00  0.000000e+00  1.991000e+03  1.000000e+00  1.000000e+00   \n",
       "25%    5.100000e+02  0.000000e+00  2.008000e+03  3.000000e+00  8.000000e+00   \n",
       "50%    1.006000e+03  1.000000e+00  2.013000e+03  7.000000e+00  1.600000e+01   \n",
       "75%    1.477000e+03  2.000000e+00  2.016000e+03  1.000000e+01  2.300000e+01   \n",
       "max    1.999000e+03  8.000000e+00  2.020000e+03  1.200000e+01  3.100000e+01   \n",
       "\n",
       "       Merchant Name           Zip           MCC  \n",
       "count   2.438690e+07  2.150876e+07  2.438690e+07  \n",
       "mean   -4.769230e+17  5.095644e+04  5.561171e+03  \n",
       "std     4.758940e+18  2.939707e+04  8.793154e+02  \n",
       "min    -9.222899e+18  5.010000e+02  1.711000e+03  \n",
       "25%    -4.500543e+18  2.837400e+04  5.300000e+03  \n",
       "50%    -7.946765e+17  4.674200e+04  5.499000e+03  \n",
       "75%     3.189517e+18  7.756400e+04  5.812000e+03  \n",
       "max     9.223292e+18  9.992800e+04  9.402000e+03  "
      ]
     },
     "execution_count": 6,
     "metadata": {},
     "output_type": "execute_result"
    }
   ],
   "source": [
    "tdf.describe()"
   ]
  },
  {
   "cell_type": "code",
   "execution_count": 3,
   "metadata": {},
   "outputs": [],
   "source": [
    "from src.process_data import get_zero_padded"
   ]
  },
  {
   "cell_type": "code",
   "execution_count": 4,
   "metadata": {},
   "outputs": [
    {
     "name": "stdout",
     "output_type": "stream",
     "text": [
      "<class 'pandas.core.frame.DataFrame'>\n",
      "RangeIndex: 24386900 entries, 0 to 24386899\n",
      "Data columns (total 14 columns):\n",
      " #   Column          Dtype  \n",
      "---  ------          -----  \n",
      " 0   User            int32  \n",
      " 1   Card            int32  \n",
      " 2   Year            int32  \n",
      " 3   Month           object \n",
      " 4   Day             object \n",
      " 5   Time            object \n",
      " 6   Amount          float32\n",
      " 7   Use Chip        object \n",
      " 8   Merchant City   object \n",
      " 9   Merchant State  object \n",
      " 10  Zip             float32\n",
      " 11  MCC             int32  \n",
      " 12  Errors?         object \n",
      " 13  Is Fraud?       object \n",
      "dtypes: float32(2), int32(4), object(8)\n",
      "memory usage: 2.0+ GB\n"
     ]
    }
   ],
   "source": [
    "tdf['Month'] = tdf['Month'].apply(get_zero_padded)\n",
    "tdf['Day'] = tdf['Day'].apply(get_zero_padded)\n",
    "tdf.info()"
   ]
  },
  {
   "cell_type": "code",
   "execution_count": 5,
   "metadata": {},
   "outputs": [
    {
     "data": {
      "text/plain": [
       "['data/padded_month_day']"
      ]
     },
     "execution_count": 5,
     "metadata": {},
     "output_type": "execute_result"
    }
   ],
   "source": [
    "joblib.dump(tdf, 'data/padded_month_day')"
   ]
  },
  {
   "cell_type": "code",
   "execution_count": 6,
   "metadata": {},
   "outputs": [],
   "source": [
    "tdf['transaction_datetime'] = pd.to_datetime(tdf[['Year', 'Month', 'Day']], format='%Y-%m-%d', errors='coerce')\n",
    "tdf.drop(columns=['Year', 'Month', 'Day'], inplace=True)"
   ]
  },
  {
   "cell_type": "code",
   "execution_count": 7,
   "metadata": {},
   "outputs": [
    {
     "name": "stdout",
     "output_type": "stream",
     "text": [
      "<class 'pandas.core.frame.DataFrame'>\n",
      "RangeIndex: 24386900 entries, 0 to 24386899\n",
      "Data columns (total 12 columns):\n",
      " #   Column                Dtype         \n",
      "---  ------                -----         \n",
      " 0   User                  int32         \n",
      " 1   Card                  int32         \n",
      " 2   Time                  object        \n",
      " 3   Amount                float32       \n",
      " 4   Use Chip              object        \n",
      " 5   Merchant City         object        \n",
      " 6   Merchant State        object        \n",
      " 7   Zip                   float32       \n",
      " 8   MCC                   int32         \n",
      " 9   Errors?               object        \n",
      " 10  Is Fraud?             object        \n",
      " 11  transaction_datetime  datetime64[ns]\n",
      "dtypes: datetime64[ns](1), float32(2), int32(3), object(6)\n",
      "memory usage: 1.7+ GB\n"
     ]
    }
   ],
   "source": [
    "joblib.dump(tdf, 'data/dates_combined')\n",
    "tdf.info()"
   ]
  },
  {
   "cell_type": "code",
   "execution_count": 9,
   "metadata": {},
   "outputs": [
    {
     "data": {
      "text/plain": [
       "Is Fraud?\n",
       "No     24357143\n",
       "Yes       29757\n",
       "Name: count, dtype: int64"
      ]
     },
     "execution_count": 9,
     "metadata": {},
     "output_type": "execute_result"
    }
   ],
   "source": [
    "tdf['Is Fraud?'].value_counts()"
   ]
  },
  {
   "cell_type": "code",
   "execution_count": 12,
   "metadata": {},
   "outputs": [
    {
     "data": {
      "text/html": [
       "<div>\n",
       "<style scoped>\n",
       "    .dataframe tbody tr th:only-of-type {\n",
       "        vertical-align: middle;\n",
       "    }\n",
       "\n",
       "    .dataframe tbody tr th {\n",
       "        vertical-align: top;\n",
       "    }\n",
       "\n",
       "    .dataframe thead th {\n",
       "        text-align: right;\n",
       "    }\n",
       "</style>\n",
       "<table border=\"1\" class=\"dataframe\">\n",
       "  <thead>\n",
       "    <tr style=\"text-align: right;\">\n",
       "      <th></th>\n",
       "      <th>Is Fraud?</th>\n",
       "      <th>is_fraud</th>\n",
       "    </tr>\n",
       "  </thead>\n",
       "  <tbody>\n",
       "    <tr>\n",
       "      <th>14682773</th>\n",
       "      <td>No</td>\n",
       "      <td>False</td>\n",
       "    </tr>\n",
       "    <tr>\n",
       "      <th>21065811</th>\n",
       "      <td>No</td>\n",
       "      <td>False</td>\n",
       "    </tr>\n",
       "    <tr>\n",
       "      <th>24211945</th>\n",
       "      <td>No</td>\n",
       "      <td>False</td>\n",
       "    </tr>\n",
       "  </tbody>\n",
       "</table>\n",
       "</div>"
      ],
      "text/plain": [
       "         Is Fraud?  is_fraud\n",
       "14682773        No     False\n",
       "21065811        No     False\n",
       "24211945        No     False"
      ]
     },
     "execution_count": 12,
     "metadata": {},
     "output_type": "execute_result"
    }
   ],
   "source": [
    "tdf['is_fraud'] = tdf['Is Fraud?'].apply(lambda word: True if word.lower() == 'yes' else False)\n",
    "tdf[['Is Fraud?', 'is_fraud']].sample(n=3)"
   ]
  },
  {
   "cell_type": "code",
   "execution_count": 13,
   "metadata": {},
   "outputs": [
    {
     "name": "stdout",
     "output_type": "stream",
     "text": [
      "<class 'pandas.core.frame.DataFrame'>\n",
      "RangeIndex: 24386900 entries, 0 to 24386899\n",
      "Data columns (total 12 columns):\n",
      " #   Column                Dtype         \n",
      "---  ------                -----         \n",
      " 0   User                  int32         \n",
      " 1   Card                  int32         \n",
      " 2   Time                  object        \n",
      " 3   Amount                float32       \n",
      " 4   Use Chip              object        \n",
      " 5   Merchant City         object        \n",
      " 6   Merchant State        object        \n",
      " 7   Zip                   float32       \n",
      " 8   MCC                   int32         \n",
      " 9   Errors?               object        \n",
      " 10  transaction_datetime  datetime64[ns]\n",
      " 11  is_fraud              bool          \n",
      "dtypes: bool(1), datetime64[ns](1), float32(2), int32(3), object(5)\n",
      "memory usage: 1.6+ GB\n"
     ]
    }
   ],
   "source": [
    "tdf = tdf.drop(columns=['Is Fraud?'])\n",
    "tdf.info()"
   ]
  },
  {
   "cell_type": "code",
   "execution_count": 14,
   "metadata": {},
   "outputs": [
    {
     "data": {
      "text/plain": [
       "['data/target_variable_into_bool']"
      ]
     },
     "execution_count": 14,
     "metadata": {},
     "output_type": "execute_result"
    }
   ],
   "source": [
    "joblib.dump(tdf, 'data/target_variable_into_bool')"
   ]
  },
  {
   "cell_type": "code",
   "execution_count": 15,
   "metadata": {},
   "outputs": [
    {
     "name": "stdout",
     "output_type": "stream",
     "text": [
      "<class 'pandas.core.frame.DataFrame'>\n",
      "RangeIndex: 24386900 entries, 0 to 24386899\n",
      "Data columns (total 12 columns):\n",
      " #   Column                Dtype         \n",
      "---  ------                -----         \n",
      " 0   User                  int32         \n",
      " 1   Card                  int32         \n",
      " 2   Time                  object        \n",
      " 3   Amount                float32       \n",
      " 4   Use Chip              object        \n",
      " 5   Merchant City         object        \n",
      " 6   Merchant State        object        \n",
      " 7   Zip                   float32       \n",
      " 8   MCC                   int32         \n",
      " 9   Errors?               object        \n",
      " 10  transaction_datetime  datetime64[ns]\n",
      " 11  is_fraud              bool          \n",
      "dtypes: bool(1), datetime64[ns](1), float32(2), int32(3), object(5)\n",
      "memory usage: 1.6+ GB\n"
     ]
    }
   ],
   "source": [
    "tdf['Time'] = pd.to_datetime(tdf['Time'], format='%H:%M', errors='coerce').dt.time\n",
    "tdf.info()"
   ]
  },
  {
   "cell_type": "code",
   "execution_count": 16,
   "metadata": {},
   "outputs": [
    {
     "data": {
      "text/html": [
       "<div>\n",
       "<style scoped>\n",
       "    .dataframe tbody tr th:only-of-type {\n",
       "        vertical-align: middle;\n",
       "    }\n",
       "\n",
       "    .dataframe tbody tr th {\n",
       "        vertical-align: top;\n",
       "    }\n",
       "\n",
       "    .dataframe thead th {\n",
       "        text-align: right;\n",
       "    }\n",
       "</style>\n",
       "<table border=\"1\" class=\"dataframe\">\n",
       "  <thead>\n",
       "    <tr style=\"text-align: right;\">\n",
       "      <th></th>\n",
       "      <th>User</th>\n",
       "      <th>Card</th>\n",
       "      <th>Time</th>\n",
       "      <th>Amount</th>\n",
       "      <th>Use Chip</th>\n",
       "      <th>Merchant City</th>\n",
       "      <th>Merchant State</th>\n",
       "      <th>Zip</th>\n",
       "      <th>MCC</th>\n",
       "      <th>Errors?</th>\n",
       "      <th>transaction_datetime</th>\n",
       "      <th>is_fraud</th>\n",
       "    </tr>\n",
       "  </thead>\n",
       "  <tbody>\n",
       "    <tr>\n",
       "      <th>0</th>\n",
       "      <td>0</td>\n",
       "      <td>0</td>\n",
       "      <td>06:21:00</td>\n",
       "      <td>134.09</td>\n",
       "      <td>Swipe</td>\n",
       "      <td>La Verne</td>\n",
       "      <td>CA</td>\n",
       "      <td>91750.00</td>\n",
       "      <td>5300</td>\n",
       "      <td>NaN</td>\n",
       "      <td>2002-09-01</td>\n",
       "      <td>False</td>\n",
       "    </tr>\n",
       "    <tr>\n",
       "      <th>1</th>\n",
       "      <td>0</td>\n",
       "      <td>0</td>\n",
       "      <td>06:42:00</td>\n",
       "      <td>38.48</td>\n",
       "      <td>Swipe</td>\n",
       "      <td>Monterey Park</td>\n",
       "      <td>CA</td>\n",
       "      <td>91754.00</td>\n",
       "      <td>5411</td>\n",
       "      <td>NaN</td>\n",
       "      <td>2002-09-01</td>\n",
       "      <td>False</td>\n",
       "    </tr>\n",
       "    <tr>\n",
       "      <th>2</th>\n",
       "      <td>0</td>\n",
       "      <td>0</td>\n",
       "      <td>06:22:00</td>\n",
       "      <td>120.34</td>\n",
       "      <td>Swipe</td>\n",
       "      <td>Monterey Park</td>\n",
       "      <td>CA</td>\n",
       "      <td>91754.00</td>\n",
       "      <td>5411</td>\n",
       "      <td>NaN</td>\n",
       "      <td>2002-09-02</td>\n",
       "      <td>False</td>\n",
       "    </tr>\n",
       "  </tbody>\n",
       "</table>\n",
       "</div>"
      ],
      "text/plain": [
       "   User  Card      Time  Amount Use Chip  Merchant City Merchant State  \\\n",
       "0     0     0  06:21:00  134.09    Swipe       La Verne             CA   \n",
       "1     0     0  06:42:00   38.48    Swipe  Monterey Park             CA   \n",
       "2     0     0  06:22:00  120.34    Swipe  Monterey Park             CA   \n",
       "\n",
       "       Zip   MCC Errors? transaction_datetime  is_fraud  \n",
       "0 91750.00  5300     NaN           2002-09-01     False  \n",
       "1 91754.00  5411     NaN           2002-09-01     False  \n",
       "2 91754.00  5411     NaN           2002-09-02     False  "
      ]
     },
     "execution_count": 16,
     "metadata": {},
     "output_type": "execute_result"
    }
   ],
   "source": [
    "tdf.head(3)"
   ]
  },
  {
   "cell_type": "code",
   "execution_count": 23,
   "metadata": {},
   "outputs": [
    {
     "ename": "",
     "evalue": "",
     "output_type": "error",
     "traceback": [
      "\u001b[1;31mThe Kernel crashed while executing code in the the current cell or a previous cell. Please review the code in the cell(s) to identify a possible cause of the failure. Click <a href='https://aka.ms/vscodeJupyterKernelCrash'>here</a> for more info. View Jupyter <a href='command:jupyter.viewOutput'>log</a> for further details."
     ]
    }
   ],
   "source": [
    "tdf['combined_datetime'] = tdf.apply(lambda row: pd.Timestamp.combine(row['transaction_datetime'], tdf['Time']), axis=1)\n",
    "tdf[['transaction_datetime', 'Time', 'combined_datetime']].sample(n=3)"
   ]
  },
  {
   "cell_type": "markdown",
   "metadata": {},
   "source": [
    "## Visuals"
   ]
  },
  {
   "cell_type": "code",
   "execution_count": 4,
   "metadata": {},
   "outputs": [
    {
     "ename": "TypeError",
     "evalue": "NDFrame.describe() got an unexpected keyword argument 'datetime_is_numeric'",
     "output_type": "error",
     "traceback": [
      "\u001b[0;31m---------------------------------------------------------------------------\u001b[0m",
      "\u001b[0;31mTypeError\u001b[0m                                 Traceback (most recent call last)",
      "\u001b[1;32m/home/yichenzhang/ece_5831/ece5831-2023-ccf/explore_transactions.ipynb Cell 35\u001b[0m line \u001b[0;36m2\n\u001b[1;32m      <a href='vscode-notebook-cell:/home/yichenzhang/ece_5831/ece5831-2023-ccf/explore_transactions.ipynb#X53sZmlsZQ%3D%3D?line=0'>1</a>\u001b[0m tdf \u001b[39m=\u001b[39m joblib\u001b[39m.\u001b[39mload(\u001b[39m'\u001b[39m\u001b[39mdata/target_variable_into_bool\u001b[39m\u001b[39m'\u001b[39m)\n\u001b[0;32m----> <a href='vscode-notebook-cell:/home/yichenzhang/ece_5831/ece5831-2023-ccf/explore_transactions.ipynb#X53sZmlsZQ%3D%3D?line=1'>2</a>\u001b[0m tdf\u001b[39m.\u001b[39;49mdescribe(datetime_is_numeric\u001b[39m=\u001b[39;49m\u001b[39mTrue\u001b[39;49;00m)\n",
      "\u001b[0;31mTypeError\u001b[0m: NDFrame.describe() got an unexpected keyword argument 'datetime_is_numeric'"
     ]
    }
   ],
   "source": [
    "tdf = joblib.load('data/target_variable_into_bool')"
   ]
  },
  {
   "cell_type": "code",
   "execution_count": 5,
   "metadata": {},
   "outputs": [
    {
     "data": {
      "text/html": [
       "<div>\n",
       "<style scoped>\n",
       "    .dataframe tbody tr th:only-of-type {\n",
       "        vertical-align: middle;\n",
       "    }\n",
       "\n",
       "    .dataframe tbody tr th {\n",
       "        vertical-align: top;\n",
       "    }\n",
       "\n",
       "    .dataframe thead th {\n",
       "        text-align: right;\n",
       "    }\n",
       "</style>\n",
       "<table border=\"1\" class=\"dataframe\">\n",
       "  <thead>\n",
       "    <tr style=\"text-align: right;\">\n",
       "      <th></th>\n",
       "      <th>User</th>\n",
       "      <th>Card</th>\n",
       "      <th>Amount</th>\n",
       "      <th>Zip</th>\n",
       "      <th>MCC</th>\n",
       "      <th>transaction_datetime</th>\n",
       "    </tr>\n",
       "  </thead>\n",
       "  <tbody>\n",
       "    <tr>\n",
       "      <th>count</th>\n",
       "      <td>24386900.00</td>\n",
       "      <td>24386900.00</td>\n",
       "      <td>24386900.00</td>\n",
       "      <td>21508765.00</td>\n",
       "      <td>24386900.00</td>\n",
       "      <td>24386900</td>\n",
       "    </tr>\n",
       "    <tr>\n",
       "      <th>mean</th>\n",
       "      <td>1001.02</td>\n",
       "      <td>1.35</td>\n",
       "      <td>43.63</td>\n",
       "      <td>50956.43</td>\n",
       "      <td>5561.17</td>\n",
       "      <td>2012-06-15 04:02:37.738722816</td>\n",
       "    </tr>\n",
       "    <tr>\n",
       "      <th>min</th>\n",
       "      <td>0.00</td>\n",
       "      <td>0.00</td>\n",
       "      <td>-500.00</td>\n",
       "      <td>501.00</td>\n",
       "      <td>1711.00</td>\n",
       "      <td>1991-01-02 00:00:00</td>\n",
       "    </tr>\n",
       "    <tr>\n",
       "      <th>25%</th>\n",
       "      <td>510.00</td>\n",
       "      <td>0.00</td>\n",
       "      <td>9.20</td>\n",
       "      <td>28374.00</td>\n",
       "      <td>5300.00</td>\n",
       "      <td>2008-12-25 00:00:00</td>\n",
       "    </tr>\n",
       "    <tr>\n",
       "      <th>50%</th>\n",
       "      <td>1006.00</td>\n",
       "      <td>1.00</td>\n",
       "      <td>30.14</td>\n",
       "      <td>46742.00</td>\n",
       "      <td>5499.00</td>\n",
       "      <td>2013-01-11 00:00:00</td>\n",
       "    </tr>\n",
       "    <tr>\n",
       "      <th>75%</th>\n",
       "      <td>1477.00</td>\n",
       "      <td>2.00</td>\n",
       "      <td>65.06</td>\n",
       "      <td>77564.00</td>\n",
       "      <td>5812.00</td>\n",
       "      <td>2016-08-27 00:00:00</td>\n",
       "    </tr>\n",
       "    <tr>\n",
       "      <th>max</th>\n",
       "      <td>1999.00</td>\n",
       "      <td>8.00</td>\n",
       "      <td>12390.50</td>\n",
       "      <td>99928.00</td>\n",
       "      <td>9402.00</td>\n",
       "      <td>2020-02-28 00:00:00</td>\n",
       "    </tr>\n",
       "    <tr>\n",
       "      <th>std</th>\n",
       "      <td>569.46</td>\n",
       "      <td>1.41</td>\n",
       "      <td>78.69</td>\n",
       "      <td>29042.73</td>\n",
       "      <td>879.32</td>\n",
       "      <td>NaN</td>\n",
       "    </tr>\n",
       "  </tbody>\n",
       "</table>\n",
       "</div>"
      ],
      "text/plain": [
       "             User        Card      Amount         Zip         MCC  \\\n",
       "count 24386900.00 24386900.00 24386900.00 21508765.00 24386900.00   \n",
       "mean      1001.02        1.35       43.63    50956.43     5561.17   \n",
       "min          0.00        0.00     -500.00      501.00     1711.00   \n",
       "25%        510.00        0.00        9.20    28374.00     5300.00   \n",
       "50%       1006.00        1.00       30.14    46742.00     5499.00   \n",
       "75%       1477.00        2.00       65.06    77564.00     5812.00   \n",
       "max       1999.00        8.00    12390.50    99928.00     9402.00   \n",
       "std        569.46        1.41       78.69    29042.73      879.32   \n",
       "\n",
       "                transaction_datetime  \n",
       "count                       24386900  \n",
       "mean   2012-06-15 04:02:37.738722816  \n",
       "min              1991-01-02 00:00:00  \n",
       "25%              2008-12-25 00:00:00  \n",
       "50%              2013-01-11 00:00:00  \n",
       "75%              2016-08-27 00:00:00  \n",
       "max              2020-02-28 00:00:00  \n",
       "std                              NaN  "
      ]
     },
     "execution_count": 5,
     "metadata": {},
     "output_type": "execute_result"
    }
   ],
   "source": [
    "tdf.describe()"
   ]
  },
  {
   "cell_type": "code",
   "execution_count": 6,
   "metadata": {},
   "outputs": [
    {
     "data": {
      "text/html": [
       "<div>\n",
       "<style scoped>\n",
       "    .dataframe tbody tr th:only-of-type {\n",
       "        vertical-align: middle;\n",
       "    }\n",
       "\n",
       "    .dataframe tbody tr th {\n",
       "        vertical-align: top;\n",
       "    }\n",
       "\n",
       "    .dataframe thead th {\n",
       "        text-align: right;\n",
       "    }\n",
       "</style>\n",
       "<table border=\"1\" class=\"dataframe\">\n",
       "  <thead>\n",
       "    <tr style=\"text-align: right;\">\n",
       "      <th></th>\n",
       "      <th>User</th>\n",
       "      <th>Card</th>\n",
       "      <th>Time</th>\n",
       "      <th>Amount</th>\n",
       "      <th>Use Chip</th>\n",
       "      <th>Merchant City</th>\n",
       "      <th>Merchant State</th>\n",
       "      <th>Zip</th>\n",
       "      <th>MCC</th>\n",
       "      <th>Errors?</th>\n",
       "      <th>transaction_datetime</th>\n",
       "      <th>is_fraud</th>\n",
       "    </tr>\n",
       "  </thead>\n",
       "  <tbody>\n",
       "    <tr>\n",
       "      <th>0</th>\n",
       "      <td>0</td>\n",
       "      <td>0</td>\n",
       "      <td>06:21</td>\n",
       "      <td>134.09</td>\n",
       "      <td>Swipe</td>\n",
       "      <td>La Verne</td>\n",
       "      <td>CA</td>\n",
       "      <td>91750.00</td>\n",
       "      <td>5300</td>\n",
       "      <td>NaN</td>\n",
       "      <td>2002-09-01</td>\n",
       "      <td>False</td>\n",
       "    </tr>\n",
       "    <tr>\n",
       "      <th>1</th>\n",
       "      <td>0</td>\n",
       "      <td>0</td>\n",
       "      <td>06:42</td>\n",
       "      <td>38.48</td>\n",
       "      <td>Swipe</td>\n",
       "      <td>Monterey Park</td>\n",
       "      <td>CA</td>\n",
       "      <td>91754.00</td>\n",
       "      <td>5411</td>\n",
       "      <td>NaN</td>\n",
       "      <td>2002-09-01</td>\n",
       "      <td>False</td>\n",
       "    </tr>\n",
       "    <tr>\n",
       "      <th>2</th>\n",
       "      <td>0</td>\n",
       "      <td>0</td>\n",
       "      <td>06:22</td>\n",
       "      <td>120.34</td>\n",
       "      <td>Swipe</td>\n",
       "      <td>Monterey Park</td>\n",
       "      <td>CA</td>\n",
       "      <td>91754.00</td>\n",
       "      <td>5411</td>\n",
       "      <td>NaN</td>\n",
       "      <td>2002-09-02</td>\n",
       "      <td>False</td>\n",
       "    </tr>\n",
       "  </tbody>\n",
       "</table>\n",
       "</div>"
      ],
      "text/plain": [
       "   User  Card   Time  Amount Use Chip  Merchant City Merchant State      Zip  \\\n",
       "0     0     0  06:21  134.09    Swipe       La Verne             CA 91750.00   \n",
       "1     0     0  06:42   38.48    Swipe  Monterey Park             CA 91754.00   \n",
       "2     0     0  06:22  120.34    Swipe  Monterey Park             CA 91754.00   \n",
       "\n",
       "    MCC Errors? transaction_datetime  is_fraud  \n",
       "0  5300     NaN           2002-09-01     False  \n",
       "1  5411     NaN           2002-09-01     False  \n",
       "2  5411     NaN           2002-09-02     False  "
      ]
     },
     "execution_count": 6,
     "metadata": {},
     "output_type": "execute_result"
    }
   ],
   "source": [
    "tdf.head(3)"
   ]
  },
  {
   "cell_type": "code",
   "execution_count": 7,
   "metadata": {},
   "outputs": [
    {
     "data": {
      "text/html": [
       "<div>\n",
       "<style scoped>\n",
       "    .dataframe tbody tr th:only-of-type {\n",
       "        vertical-align: middle;\n",
       "    }\n",
       "\n",
       "    .dataframe tbody tr th {\n",
       "        vertical-align: top;\n",
       "    }\n",
       "\n",
       "    .dataframe thead th {\n",
       "        text-align: right;\n",
       "    }\n",
       "</style>\n",
       "<table border=\"1\" class=\"dataframe\">\n",
       "  <thead>\n",
       "    <tr style=\"text-align: right;\">\n",
       "      <th></th>\n",
       "      <th>User</th>\n",
       "      <th>Card</th>\n",
       "      <th>Amount</th>\n",
       "      <th>Zip</th>\n",
       "      <th>MCC</th>\n",
       "      <th>transaction_datetime</th>\n",
       "    </tr>\n",
       "  </thead>\n",
       "  <tbody>\n",
       "    <tr>\n",
       "      <th>count</th>\n",
       "      <td>29757.00</td>\n",
       "      <td>29757.00</td>\n",
       "      <td>29757.00</td>\n",
       "      <td>4905.00</td>\n",
       "      <td>29757.00</td>\n",
       "      <td>29757</td>\n",
       "    </tr>\n",
       "    <tr>\n",
       "      <th>mean</th>\n",
       "      <td>1011.04</td>\n",
       "      <td>1.62</td>\n",
       "      <td>108.59</td>\n",
       "      <td>52427.47</td>\n",
       "      <td>5252.21</td>\n",
       "      <td>2012-06-21 20:45:19.145075200</td>\n",
       "    </tr>\n",
       "    <tr>\n",
       "      <th>min</th>\n",
       "      <td>0.00</td>\n",
       "      <td>0.00</td>\n",
       "      <td>-500.00</td>\n",
       "      <td>1057.00</td>\n",
       "      <td>3000.00</td>\n",
       "      <td>1996-07-05 00:00:00</td>\n",
       "    </tr>\n",
       "    <tr>\n",
       "      <th>25%</th>\n",
       "      <td>545.00</td>\n",
       "      <td>0.00</td>\n",
       "      <td>18.36</td>\n",
       "      <td>32503.00</td>\n",
       "      <td>4829.00</td>\n",
       "      <td>2008-09-29 00:00:00</td>\n",
       "    </tr>\n",
       "    <tr>\n",
       "      <th>50%</th>\n",
       "      <td>1020.00</td>\n",
       "      <td>1.00</td>\n",
       "      <td>71.02</td>\n",
       "      <td>44824.00</td>\n",
       "      <td>5311.00</td>\n",
       "      <td>2012-08-03 00:00:00</td>\n",
       "    </tr>\n",
       "    <tr>\n",
       "      <th>75%</th>\n",
       "      <td>1487.00</td>\n",
       "      <td>3.00</td>\n",
       "      <td>150.13</td>\n",
       "      <td>78374.00</td>\n",
       "      <td>5719.00</td>\n",
       "      <td>2016-03-24 00:00:00</td>\n",
       "    </tr>\n",
       "    <tr>\n",
       "      <th>max</th>\n",
       "      <td>1997.00</td>\n",
       "      <td>8.00</td>\n",
       "      <td>5694.44</td>\n",
       "      <td>99504.00</td>\n",
       "      <td>9402.00</td>\n",
       "      <td>2019-10-27 00:00:00</td>\n",
       "    </tr>\n",
       "    <tr>\n",
       "      <th>std</th>\n",
       "      <td>559.30</td>\n",
       "      <td>1.52</td>\n",
       "      <td>201.17</td>\n",
       "      <td>28360.61</td>\n",
       "      <td>989.61</td>\n",
       "      <td>NaN</td>\n",
       "    </tr>\n",
       "  </tbody>\n",
       "</table>\n",
       "</div>"
      ],
      "text/plain": [
       "          User     Card   Amount      Zip      MCC  \\\n",
       "count 29757.00 29757.00 29757.00  4905.00 29757.00   \n",
       "mean   1011.04     1.62   108.59 52427.47  5252.21   \n",
       "min       0.00     0.00  -500.00  1057.00  3000.00   \n",
       "25%     545.00     0.00    18.36 32503.00  4829.00   \n",
       "50%    1020.00     1.00    71.02 44824.00  5311.00   \n",
       "75%    1487.00     3.00   150.13 78374.00  5719.00   \n",
       "max    1997.00     8.00  5694.44 99504.00  9402.00   \n",
       "std     559.30     1.52   201.17 28360.61   989.61   \n",
       "\n",
       "                transaction_datetime  \n",
       "count                          29757  \n",
       "mean   2012-06-21 20:45:19.145075200  \n",
       "min              1996-07-05 00:00:00  \n",
       "25%              2008-09-29 00:00:00  \n",
       "50%              2012-08-03 00:00:00  \n",
       "75%              2016-03-24 00:00:00  \n",
       "max              2019-10-27 00:00:00  \n",
       "std                              NaN  "
      ]
     },
     "execution_count": 7,
     "metadata": {},
     "output_type": "execute_result"
    }
   ],
   "source": [
    "fdf = tdf.loc[tdf['is_fraud']].copy()\n",
    "fdf.describe()"
   ]
  },
  {
   "cell_type": "code",
   "execution_count": 19,
   "metadata": {},
   "outputs": [
    {
     "data": {
      "text/plain": [
       "1607"
      ]
     },
     "execution_count": 19,
     "metadata": {},
     "output_type": "execute_result"
    }
   ],
   "source": [
    "len(fdf.loc[fdf['MCC'] == 4829])"
   ]
  },
  {
   "cell_type": "code",
   "execution_count": 20,
   "metadata": {},
   "outputs": [
    {
     "data": {
      "text/plain": [
       "1127454"
      ]
     },
     "execution_count": 20,
     "metadata": {},
     "output_type": "execute_result"
    }
   ],
   "source": [
    "len(df.loc[df['MCC'] == 4829])"
   ]
  },
  {
   "cell_type": "code",
   "execution_count": 8,
   "metadata": {},
   "outputs": [
    {
     "data": {
      "text/html": [
       "<div>\n",
       "<style scoped>\n",
       "    .dataframe tbody tr th:only-of-type {\n",
       "        vertical-align: middle;\n",
       "    }\n",
       "\n",
       "    .dataframe tbody tr th {\n",
       "        vertical-align: top;\n",
       "    }\n",
       "\n",
       "    .dataframe thead th {\n",
       "        text-align: right;\n",
       "    }\n",
       "</style>\n",
       "<table border=\"1\" class=\"dataframe\">\n",
       "  <thead>\n",
       "    <tr style=\"text-align: right;\">\n",
       "      <th></th>\n",
       "      <th>User</th>\n",
       "      <th>Card</th>\n",
       "      <th>Amount</th>\n",
       "      <th>Zip</th>\n",
       "      <th>MCC</th>\n",
       "      <th>transaction_datetime</th>\n",
       "    </tr>\n",
       "  </thead>\n",
       "  <tbody>\n",
       "    <tr>\n",
       "      <th>count</th>\n",
       "      <td>24357143.00</td>\n",
       "      <td>24357143.00</td>\n",
       "      <td>24357143.00</td>\n",
       "      <td>21503860.00</td>\n",
       "      <td>24357143.00</td>\n",
       "      <td>24357143</td>\n",
       "    </tr>\n",
       "    <tr>\n",
       "      <th>mean</th>\n",
       "      <td>1001.01</td>\n",
       "      <td>1.35</td>\n",
       "      <td>43.55</td>\n",
       "      <td>50956.14</td>\n",
       "      <td>5561.55</td>\n",
       "      <td>2012-06-15 03:50:50.913139968</td>\n",
       "    </tr>\n",
       "    <tr>\n",
       "      <th>min</th>\n",
       "      <td>0.00</td>\n",
       "      <td>0.00</td>\n",
       "      <td>-500.00</td>\n",
       "      <td>501.00</td>\n",
       "      <td>1711.00</td>\n",
       "      <td>1991-01-02 00:00:00</td>\n",
       "    </tr>\n",
       "    <tr>\n",
       "      <th>25%</th>\n",
       "      <td>510.00</td>\n",
       "      <td>0.00</td>\n",
       "      <td>9.20</td>\n",
       "      <td>28374.00</td>\n",
       "      <td>5300.00</td>\n",
       "      <td>2008-12-25 00:00:00</td>\n",
       "    </tr>\n",
       "    <tr>\n",
       "      <th>50%</th>\n",
       "      <td>1006.00</td>\n",
       "      <td>1.00</td>\n",
       "      <td>30.11</td>\n",
       "      <td>46742.00</td>\n",
       "      <td>5499.00</td>\n",
       "      <td>2013-01-11 00:00:00</td>\n",
       "    </tr>\n",
       "    <tr>\n",
       "      <th>75%</th>\n",
       "      <td>1477.00</td>\n",
       "      <td>2.00</td>\n",
       "      <td>65.00</td>\n",
       "      <td>77564.00</td>\n",
       "      <td>5812.00</td>\n",
       "      <td>2016-08-28 00:00:00</td>\n",
       "    </tr>\n",
       "    <tr>\n",
       "      <th>max</th>\n",
       "      <td>1999.00</td>\n",
       "      <td>8.00</td>\n",
       "      <td>12390.50</td>\n",
       "      <td>99928.00</td>\n",
       "      <td>9402.00</td>\n",
       "      <td>2020-02-28 00:00:00</td>\n",
       "    </tr>\n",
       "    <tr>\n",
       "      <th>std</th>\n",
       "      <td>569.47</td>\n",
       "      <td>1.41</td>\n",
       "      <td>78.41</td>\n",
       "      <td>29045.67</td>\n",
       "      <td>879.11</td>\n",
       "      <td>NaN</td>\n",
       "    </tr>\n",
       "  </tbody>\n",
       "</table>\n",
       "</div>"
      ],
      "text/plain": [
       "             User        Card      Amount         Zip         MCC  \\\n",
       "count 24357143.00 24357143.00 24357143.00 21503860.00 24357143.00   \n",
       "mean      1001.01        1.35       43.55    50956.14     5561.55   \n",
       "min          0.00        0.00     -500.00      501.00     1711.00   \n",
       "25%        510.00        0.00        9.20    28374.00     5300.00   \n",
       "50%       1006.00        1.00       30.11    46742.00     5499.00   \n",
       "75%       1477.00        2.00       65.00    77564.00     5812.00   \n",
       "max       1999.00        8.00    12390.50    99928.00     9402.00   \n",
       "std        569.47        1.41       78.41    29045.67      879.11   \n",
       "\n",
       "                transaction_datetime  \n",
       "count                       24357143  \n",
       "mean   2012-06-15 03:50:50.913139968  \n",
       "min              1991-01-02 00:00:00  \n",
       "25%              2008-12-25 00:00:00  \n",
       "50%              2013-01-11 00:00:00  \n",
       "75%              2016-08-28 00:00:00  \n",
       "max              2020-02-28 00:00:00  \n",
       "std                              NaN  "
      ]
     },
     "execution_count": 8,
     "metadata": {},
     "output_type": "execute_result"
    }
   ],
   "source": [
    "df = tdf.loc[~tdf['is_fraud']].copy()\n",
    "df.describe()"
   ]
  },
  {
   "cell_type": "code",
   "execution_count": 9,
   "metadata": {},
   "outputs": [],
   "source": [
    "del tdf"
   ]
  },
  {
   "cell_type": "code",
   "execution_count": 10,
   "metadata": {},
   "outputs": [
    {
     "data": {
      "text/plain": [
       "['data/fraud_only']"
      ]
     },
     "execution_count": 10,
     "metadata": {},
     "output_type": "execute_result"
    }
   ],
   "source": [
    "joblib.dump(fdf, 'data/fraud_only')"
   ]
  },
  {
   "cell_type": "code",
   "execution_count": 11,
   "metadata": {},
   "outputs": [
    {
     "data": {
      "text/plain": [
       "['data/no_fraud']"
      ]
     },
     "execution_count": 11,
     "metadata": {},
     "output_type": "execute_result"
    }
   ],
   "source": [
    "joblib.dump(df, 'data/no_fraud')"
   ]
  },
  {
   "cell_type": "code",
   "execution_count": 16,
   "metadata": {},
   "outputs": [],
   "source": [
    "sns.set(rc={'figure.figsize': (2, 8)})"
   ]
  },
  {
   "cell_type": "code",
   "execution_count": 17,
   "metadata": {},
   "outputs": [
    {
     "name": "stderr",
     "output_type": "stream",
     "text": [
      "/home/yichenzhang/anaconda3/envs/ece5831-py3.10/lib/python3.10/site-packages/seaborn/_oldcore.py:1498: FutureWarning: is_categorical_dtype is deprecated and will be removed in a future version. Use isinstance(dtype, CategoricalDtype) instead\n",
      "  if pd.api.types.is_categorical_dtype(vector):\n"
     ]
    },
    {
     "data": {
      "image/png": "[encoded data removed]",
      "text/plain": [
       "<Figure size 200x800 with 1 Axes>"
      ]
     },
     "metadata": {},
     "output_type": "display_data"
    }
   ],
   "source": [
    "sns.boxplot(y=fdf['Amount'])\n",
    "plt.xlabel('Fraud')\n",
    "plt.show()"
   ]
  },
  {
   "cell_type": "code",
   "execution_count": 18,
   "metadata": {},
   "outputs": [
    {
     "name": "stderr",
     "output_type": "stream",
     "text": [
      "/home/yichenzhang/anaconda3/envs/ece5831-py3.10/lib/python3.10/site-packages/seaborn/_oldcore.py:1498: FutureWarning: is_categorical_dtype is deprecated and will be removed in a future version. Use isinstance(dtype, CategoricalDtype) instead\n",
      "  if pd.api.types.is_categorical_dtype(vector):\n"
     ]
    },
    {
     "data": {
      "image/png": "[encoded data removed]",
      "text/plain": [
       "<Figure size 200x800 with 1 Axes>"
      ]
     },
     "metadata": {},
     "output_type": "display_data"
    }
   ],
   "source": [
    "sns.boxplot(y=df['Amount'])\n",
    "plt.xlabel('Not Fraud')\n",
    "plt.show()"
   ]
  },
  {
   "cell_type": "code",
   "execution_count": 22,
   "metadata": {},
   "outputs": [
    {
     "data": {
      "text/plain": [
       "MCC\n",
       "5311    4824\n",
       "5300    2201\n",
       "5310    2152\n",
       "4829    1607\n",
       "5912    1057\n",
       "        ... \n",
       "7802      15\n",
       "7230      14\n",
       "7531      11\n",
       "8041       5\n",
       "8049       3\n",
       "Name: count, Length: 98, dtype: int64"
      ]
     },
     "execution_count": 22,
     "metadata": {},
     "output_type": "execute_result"
    }
   ],
   "source": [
    "fdf['MCC'].value_counts()"
   ]
  },
  {
   "cell_type": "code",
   "execution_count": 23,
   "metadata": {},
   "outputs": [
    {
     "data": {
      "text/plain": [
       "MCC\n",
       "5411    2859795\n",
       "5499    2680349\n",
       "5541    2638628\n",
       "5812    1797593\n",
       "5912    1406579\n",
       "         ...   \n",
       "3075        626\n",
       "3007        625\n",
       "3144        579\n",
       "5733        369\n",
       "4411        317\n",
       "Name: count, Length: 109, dtype: int64"
      ]
     },
     "execution_count": 23,
     "metadata": {},
     "output_type": "execute_result"
    }
   ],
   "source": [
    "df['MCC'].value_counts()"
   ]
  },
  {
   "cell_type": "code",
   "execution_count": 24,
   "metadata": {},
   "outputs": [],
   "source": [
    "sns.set(rc={'figure.figsize': (8, 5)})"
   ]
  },
  {
   "cell_type": "code",
   "execution_count": 25,
   "metadata": {},
   "outputs": [
    {
     "name": "stderr",
     "output_type": "stream",
     "text": [
      "/home/yichenzhang/anaconda3/envs/ece5831-py3.10/lib/python3.10/site-packages/seaborn/_oldcore.py:1498: FutureWarning: is_categorical_dtype is deprecated and will be removed in a future version. Use isinstance(dtype, CategoricalDtype) instead\n",
      "  if pd.api.types.is_categorical_dtype(vector):\n",
      "/home/yichenzhang/anaconda3/envs/ece5831-py3.10/lib/python3.10/site-packages/seaborn/_oldcore.py:1498: FutureWarning: is_categorical_dtype is deprecated and will be removed in a future version. Use isinstance(dtype, CategoricalDtype) instead\n",
      "  if pd.api.types.is_categorical_dtype(vector):\n",
      "/home/yichenzhang/anaconda3/envs/ece5831-py3.10/lib/python3.10/site-packages/seaborn/_oldcore.py:1119: FutureWarning: use_inf_as_na option is deprecated and will be removed in a future version. Convert inf values to NaN before operating instead.\n",
      "  with pd.option_context('mode.use_inf_as_na', True):\n"
     ]
    },
    {
     "data": {
      "image/png": "[encoded data removed]",
      "text/plain": [
       "<Figure size 800x500 with 1 Axes>"
      ]
     },
     "metadata": {},
     "output_type": "display_data"
    }
   ],
   "source": [
    "sns.histplot(data=fdf['Use Chip'])\n",
    "plt.show()"
   ]
  },
  {
   "cell_type": "code",
   "execution_count": 26,
   "metadata": {},
   "outputs": [
    {
     "name": "stderr",
     "output_type": "stream",
     "text": [
      "/home/yichenzhang/anaconda3/envs/ece5831-py3.10/lib/python3.10/site-packages/seaborn/_oldcore.py:1498: FutureWarning: is_categorical_dtype is deprecated and will be removed in a future version. Use isinstance(dtype, CategoricalDtype) instead\n",
      "  if pd.api.types.is_categorical_dtype(vector):\n",
      "/home/yichenzhang/anaconda3/envs/ece5831-py3.10/lib/python3.10/site-packages/seaborn/_oldcore.py:1498: FutureWarning: is_categorical_dtype is deprecated and will be removed in a future version. Use isinstance(dtype, CategoricalDtype) instead\n",
      "  if pd.api.types.is_categorical_dtype(vector):\n",
      "/home/yichenzhang/anaconda3/envs/ece5831-py3.10/lib/python3.10/site-packages/seaborn/_oldcore.py:1119: FutureWarning: use_inf_as_na option is deprecated and will be removed in a future version. Convert inf values to NaN before operating instead.\n",
      "  with pd.option_context('mode.use_inf_as_na', True):\n"
     ]
    },
    {
     "data": {
      "image/png": "[encoded data removed]",
      "text/plain": [
       "<Figure size 800x500 with 1 Axes>"
      ]
     },
     "metadata": {},
     "output_type": "display_data"
    }
   ],
   "source": [
    "sns.histplot(data=df['Use Chip'])\n",
    "plt.show()"
   ]
  }
 ],
 "metadata": {
  "kernelspec": {
   "display_name": "ece5831-py3.10",
   "language": "python",
   "name": "python3"
  },
  "language_info": {
   "codemirror_mode": {
    "name": "ipython",
    "version": 3
   },
   "file_extension": ".py",
   "mimetype": "text/x-python",
   "name": "python",
   "nbconvert_exporter": "python",
   "pygments_lexer": "ipython3",
   "version": "3.10.13"
  }
 },
 "nbformat": 4,
 "nbformat_minor": 2
}
