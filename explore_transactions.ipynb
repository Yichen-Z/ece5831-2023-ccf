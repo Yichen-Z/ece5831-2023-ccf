{
 "cells": [
  {
   "cell_type": "markdown",
   "metadata": {},
   "source": [
    "# Exploring Transactions Data"
   ]
  },
  {
   "cell_type": "markdown",
   "metadata": {},
   "source": [
    "Source: [IBM Synthetic Credit Card Transactions Dataset on Kaggle](https://www.kaggle.com/datasets/ealtman2019/credit-card-transactions)"
   ]
  },
  {
   "cell_type": "code",
   "execution_count": 1,
   "metadata": {},
   "outputs": [],
   "source": [
    "import joblib\n",
    "import numpy as np\n",
    "import pandas as pd\n",
    "pd.set_option('display.max_columns', 50)\n",
    "pd.set_option('display.float_format', lambda x: f\"{x:.2f}\")"
   ]
  },
  {
   "cell_type": "code",
   "execution_count": 2,
   "metadata": {},
   "outputs": [
    {
     "name": "stdout",
     "output_type": "stream",
     "text": [
      "<class 'pandas.core.frame.DataFrame'>\n",
      "Index: 24386900 entries, 1876265 to 363748\n",
      "Data columns (total 12 columns):\n",
      " #   Column          Dtype         \n",
      "---  ------          -----         \n",
      " 0   User            int32         \n",
      " 1   Card            int8          \n",
      " 2   Amount          float32       \n",
      " 3   Use_Chip        object        \n",
      " 4   Merchant_Name   int32         \n",
      " 5   Merchant_City   object        \n",
      " 6   Merchant_State  object        \n",
      " 7   Zip             float32       \n",
      " 8   MCC             int32         \n",
      " 9   Errors          object        \n",
      " 10  Is_Fraud        object        \n",
      " 11  Datetime        datetime64[ns]\n",
      "dtypes: datetime64[ns](1), float32(2), int32(3), int8(1), object(5)\n",
      "memory usage: 1.7+ GB\n"
     ]
    }
   ],
   "source": [
    "tdf = joblib.load('data/transactions')\n",
    "tdf.info()"
   ]
  },
  {
   "cell_type": "code",
   "execution_count": 20,
   "metadata": {},
   "outputs": [],
   "source": [
    "import matplotlib.pyplot as plt\n",
    "import seaborn as sns"
   ]
  },
  {
   "cell_type": "markdown",
   "metadata": {},
   "source": [
    "## Pre-Process"
   ]
  },
  {
   "cell_type": "code",
   "execution_count": 6,
   "metadata": {},
   "outputs": [],
   "source": [
    "COL_NAMES = ['User','Card','Year','Month','Day','Time','Amount','Use_Chip',\n",
    "                 'Merchant_Name','Merchant_City','Merchant_State','Zip','MCC','Errors','Is_Fraud']\n",
    "PARSE_DATES = ['Year', 'Month', 'Day', 'Time']"
   ]
  },
  {
   "cell_type": "code",
   "execution_count": 7,
   "metadata": {},
   "outputs": [],
   "source": [
    "temp_df = pd.read_csv('data/split/part00.csv', header=None, names=COL_NAMES)"
   ]
  },
  {
   "cell_type": "code",
   "execution_count": 8,
   "metadata": {},
   "outputs": [
    {
     "name": "stdout",
     "output_type": "stream",
     "text": [
      "<class 'pandas.core.frame.DataFrame'>\n",
      "RangeIndex: 2475063 entries, 0 to 2475062\n",
      "Data columns (total 15 columns):\n",
      " #   Column          Dtype  \n",
      "---  ------          -----  \n",
      " 0   User            int64  \n",
      " 1   Card            int64  \n",
      " 2   Year            int64  \n",
      " 3   Month           int64  \n",
      " 4   Day             int64  \n",
      " 5   Time            object \n",
      " 6   Amount          object \n",
      " 7   Use_Chip        object \n",
      " 8   Merchant_Name   float64\n",
      " 9   Merchant_City   object \n",
      " 10  Merchant_State  object \n",
      " 11  Zip             float64\n",
      " 12  MCC             float64\n",
      " 13  Errors          object \n",
      " 14  Is_Fraud        object \n",
      "dtypes: float64(3), int64(5), object(7)\n",
      "memory usage: 283.2+ MB\n"
     ]
    }
   ],
   "source": [
    "temp_df.info()"
   ]
  },
  {
   "cell_type": "code",
   "execution_count": 9,
   "metadata": {},
   "outputs": [],
   "source": [
    "from src import process_data"
   ]
  },
  {
   "cell_type": "code",
   "execution_count": 10,
   "metadata": {},
   "outputs": [
    {
     "name": "stdout",
     "output_type": "stream",
     "text": [
      "<class 'pandas.core.frame.DataFrame'>\n",
      "RangeIndex: 2475063 entries, 0 to 2475062\n",
      "Data columns (total 12 columns):\n",
      " #   Column          Dtype         \n",
      "---  ------          -----         \n",
      " 0   User            int64         \n",
      " 1   Card            int64         \n",
      " 2   Amount          object        \n",
      " 3   Use_Chip        object        \n",
      " 4   Merchant_Name   float64       \n",
      " 5   Merchant_City   object        \n",
      " 6   Merchant_State  object        \n",
      " 7   Zip             float64       \n",
      " 8   MCC             float64       \n",
      " 9   Errors          object        \n",
      " 10  Is_Fraud        object        \n",
      " 11  Datetime        datetime64[ns]\n",
      "dtypes: datetime64[ns](1), float64(3), int64(2), object(6)\n",
      "memory usage: 226.6+ MB\n"
     ]
    }
   ],
   "source": [
    "process_data.combine_date_cols(columns=PARSE_DATES, result_col='Datetime', df=temp_df)\n",
    "temp_df.info()"
   ]
  },
  {
   "cell_type": "code",
   "execution_count": 19,
   "metadata": {},
   "outputs": [
    {
     "data": {
      "text/plain": [
       "count     2475062\n",
       "unique      44915\n",
       "top        $80.00\n",
       "freq        19255\n",
       "Name: Amount, dtype: object"
      ]
     },
     "execution_count": 19,
     "metadata": {},
     "output_type": "execute_result"
    }
   ],
   "source": [
    "temp_df.Amount.describe()"
   ]
  },
  {
   "cell_type": "code",
   "execution_count": 11,
   "metadata": {},
   "outputs": [
    {
     "data": {
      "text/html": [
       "<div>\n",
       "<style scoped>\n",
       "    .dataframe tbody tr th:only-of-type {\n",
       "        vertical-align: middle;\n",
       "    }\n",
       "\n",
       "    .dataframe tbody tr th {\n",
       "        vertical-align: top;\n",
       "    }\n",
       "\n",
       "    .dataframe thead th {\n",
       "        text-align: right;\n",
       "    }\n",
       "</style>\n",
       "<table border=\"1\" class=\"dataframe\">\n",
       "  <thead>\n",
       "    <tr style=\"text-align: right;\">\n",
       "      <th></th>\n",
       "      <th>User</th>\n",
       "      <th>Card</th>\n",
       "      <th>Amount</th>\n",
       "      <th>Use_Chip</th>\n",
       "      <th>Merchant_Name</th>\n",
       "      <th>Merchant_City</th>\n",
       "      <th>Merchant_State</th>\n",
       "      <th>Zip</th>\n",
       "      <th>MCC</th>\n",
       "      <th>Errors</th>\n",
       "      <th>Is_Fraud</th>\n",
       "      <th>Datetime</th>\n",
       "    </tr>\n",
       "  </thead>\n",
       "  <tbody>\n",
       "    <tr>\n",
       "      <th>89439</th>\n",
       "      <td>4</td>\n",
       "      <td>0</td>\n",
       "      <td>$42.90</td>\n",
       "      <td>Swipe Transaction</td>\n",
       "      <td>112925206871091072.00</td>\n",
       "      <td>San Francisco</td>\n",
       "      <td>CA</td>\n",
       "      <td>94117.00</td>\n",
       "      <td>5541.00</td>\n",
       "      <td>NaN</td>\n",
       "      <td>No</td>\n",
       "      <td>2009-05-20 06:52:00</td>\n",
       "    </tr>\n",
       "    <tr>\n",
       "      <th>133587</th>\n",
       "      <td>6</td>\n",
       "      <td>0</td>\n",
       "      <td>$24.48</td>\n",
       "      <td>Swipe Transaction</td>\n",
       "      <td>-5475680618560174080.00</td>\n",
       "      <td>Georgetown</td>\n",
       "      <td>KY</td>\n",
       "      <td>40324.00</td>\n",
       "      <td>5942.00</td>\n",
       "      <td>NaN</td>\n",
       "      <td>No</td>\n",
       "      <td>2013-08-11 06:20:00</td>\n",
       "    </tr>\n",
       "    <tr>\n",
       "      <th>1010178</th>\n",
       "      <td>75</td>\n",
       "      <td>1</td>\n",
       "      <td>$2.40</td>\n",
       "      <td>Swipe Transaction</td>\n",
       "      <td>-5475680618560174080.00</td>\n",
       "      <td>Fayette</td>\n",
       "      <td>AL</td>\n",
       "      <td>35555.00</td>\n",
       "      <td>5942.00</td>\n",
       "      <td>NaN</td>\n",
       "      <td>No</td>\n",
       "      <td>2008-06-15 14:19:00</td>\n",
       "    </tr>\n",
       "  </tbody>\n",
       "</table>\n",
       "</div>"
      ],
      "text/plain": [
       "         User  Card  Amount           Use_Chip           Merchant_Name  \\\n",
       "89439       4     0  $42.90  Swipe Transaction   112925206871091072.00   \n",
       "133587      6     0  $24.48  Swipe Transaction -5475680618560174080.00   \n",
       "1010178    75     1   $2.40  Swipe Transaction -5475680618560174080.00   \n",
       "\n",
       "         Merchant_City Merchant_State      Zip     MCC Errors Is_Fraud  \\\n",
       "89439    San Francisco             CA 94117.00 5541.00    NaN       No   \n",
       "133587      Georgetown             KY 40324.00 5942.00    NaN       No   \n",
       "1010178        Fayette             AL 35555.00 5942.00    NaN       No   \n",
       "\n",
       "                   Datetime  \n",
       "89439   2009-05-20 06:52:00  \n",
       "133587  2013-08-11 06:20:00  \n",
       "1010178 2008-06-15 14:19:00  "
      ]
     },
     "execution_count": 11,
     "metadata": {},
     "output_type": "execute_result"
    }
   ],
   "source": [
    "temp_df.sample(n=3)"
   ]
  },
  {
   "cell_type": "code",
   "execution_count": 20,
   "metadata": {},
   "outputs": [],
   "source": [
    "def get_numeric_amount(df: pd.DataFrame) -> None:\n",
    "    df['Amount'] = df['Amount'].apply(lambda value: float(str(value)[1:]))\n",
    "    df['Amount'] = df['Amount'].astype('float32')"
   ]
  },
  {
   "cell_type": "code",
   "execution_count": 25,
   "metadata": {},
   "outputs": [
    {
     "data": {
      "text/html": [
       "<div>\n",
       "<style scoped>\n",
       "    .dataframe tbody tr th:only-of-type {\n",
       "        vertical-align: middle;\n",
       "    }\n",
       "\n",
       "    .dataframe tbody tr th {\n",
       "        vertical-align: top;\n",
       "    }\n",
       "\n",
       "    .dataframe thead th {\n",
       "        text-align: right;\n",
       "    }\n",
       "</style>\n",
       "<table border=\"1\" class=\"dataframe\">\n",
       "  <thead>\n",
       "    <tr style=\"text-align: right;\">\n",
       "      <th></th>\n",
       "      <th>User</th>\n",
       "      <th>Card</th>\n",
       "      <th>Amount</th>\n",
       "      <th>Use_Chip</th>\n",
       "      <th>Merchant_Name</th>\n",
       "      <th>Merchant_City</th>\n",
       "      <th>Merchant_State</th>\n",
       "      <th>Zip</th>\n",
       "      <th>MCC</th>\n",
       "      <th>Errors</th>\n",
       "      <th>Is_Fraud</th>\n",
       "      <th>Datetime</th>\n",
       "    </tr>\n",
       "  </thead>\n",
       "  <tbody>\n",
       "    <tr>\n",
       "      <th>2475062</th>\n",
       "      <td>205</td>\n",
       "      <td>3</td>\n",
       "      <td>NaN</td>\n",
       "      <td>NaN</td>\n",
       "      <td>NaN</td>\n",
       "      <td>NaN</td>\n",
       "      <td>NaN</td>\n",
       "      <td>NaN</td>\n",
       "      <td>NaN</td>\n",
       "      <td>NaN</td>\n",
       "      <td>NaN</td>\n",
       "      <td>NaT</td>\n",
       "    </tr>\n",
       "  </tbody>\n",
       "</table>\n",
       "</div>"
      ],
      "text/plain": [
       "         User  Card Amount Use_Chip  Merchant_Name Merchant_City  \\\n",
       "2475062   205     3    NaN      NaN            NaN           NaN   \n",
       "\n",
       "        Merchant_State  Zip  MCC Errors Is_Fraud Datetime  \n",
       "2475062            NaN  NaN  NaN    NaN      NaN      NaT  "
      ]
     },
     "execution_count": 25,
     "metadata": {},
     "output_type": "execute_result"
    }
   ],
   "source": [
    "# If using -n instead -l (number of files, instead of by lines in each file) to split a file, this can create splits into partial lines\n",
    "# ONLY USE -l --> updated data/split_transactions.sh to fix\n",
    "temp_df.loc[temp_df['Amount'].isna()]"
   ]
  },
  {
   "cell_type": "code",
   "execution_count": 21,
   "metadata": {},
   "outputs": [
    {
     "ename": "ValueError",
     "evalue": "could not convert string to float: 'an'",
     "output_type": "error",
     "traceback": [
      "\u001b[0;31m---------------------------------------------------------------------------\u001b[0m",
      "\u001b[0;31mValueError\u001b[0m                                Traceback (most recent call last)",
      "\u001b[1;32m/home/yichenzhang/ece_5831/ece5831-2023-ccf/explore_transactions.ipynb Cell 15\u001b[0m line \u001b[0;36m1\n\u001b[0;32m----> <a href='vscode-notebook-cell:/home/yichenzhang/ece_5831/ece5831-2023-ccf/explore_transactions.ipynb#Y110sZmlsZQ%3D%3D?line=0'>1</a>\u001b[0m get_numeric_amount(df\u001b[39m=\u001b[39;49mtemp_df)\n\u001b[1;32m      <a href='vscode-notebook-cell:/home/yichenzhang/ece_5831/ece5831-2023-ccf/explore_transactions.ipynb#Y110sZmlsZQ%3D%3D?line=1'>2</a>\u001b[0m temp_df\u001b[39m.\u001b[39minfo()\n",
      "\u001b[1;32m/home/yichenzhang/ece_5831/ece5831-2023-ccf/explore_transactions.ipynb Cell 15\u001b[0m line \u001b[0;36m2\n\u001b[1;32m      <a href='vscode-notebook-cell:/home/yichenzhang/ece_5831/ece5831-2023-ccf/explore_transactions.ipynb#Y110sZmlsZQ%3D%3D?line=0'>1</a>\u001b[0m \u001b[39mdef\u001b[39;00m \u001b[39mget_numeric_amount\u001b[39m(df: pd\u001b[39m.\u001b[39mDataFrame) \u001b[39m-\u001b[39m\u001b[39m>\u001b[39m \u001b[39mNone\u001b[39;00m:\n\u001b[0;32m----> <a href='vscode-notebook-cell:/home/yichenzhang/ece_5831/ece5831-2023-ccf/explore_transactions.ipynb#Y110sZmlsZQ%3D%3D?line=1'>2</a>\u001b[0m     df[\u001b[39m'\u001b[39m\u001b[39mAmount\u001b[39m\u001b[39m'\u001b[39m] \u001b[39m=\u001b[39m df[\u001b[39m'\u001b[39;49m\u001b[39mAmount\u001b[39;49m\u001b[39m'\u001b[39;49m]\u001b[39m.\u001b[39;49mapply(\u001b[39mlambda\u001b[39;49;00m value: \u001b[39mfloat\u001b[39;49m(\u001b[39mstr\u001b[39;49m(value)[\u001b[39m1\u001b[39;49m:]))\n\u001b[1;32m      <a href='vscode-notebook-cell:/home/yichenzhang/ece_5831/ece5831-2023-ccf/explore_transactions.ipynb#Y110sZmlsZQ%3D%3D?line=2'>3</a>\u001b[0m     df[\u001b[39m'\u001b[39m\u001b[39mAmount\u001b[39m\u001b[39m'\u001b[39m] \u001b[39m=\u001b[39m df[\u001b[39m'\u001b[39m\u001b[39mAmount\u001b[39m\u001b[39m'\u001b[39m]\u001b[39m.\u001b[39mastype(\u001b[39m'\u001b[39m\u001b[39mfloat32\u001b[39m\u001b[39m'\u001b[39m)\n",
      "File \u001b[0;32m~/anaconda3/envs/ece5831-py3.10/lib/python3.10/site-packages/pandas/core/series.py:4760\u001b[0m, in \u001b[0;36mSeries.apply\u001b[0;34m(self, func, convert_dtype, args, by_row, **kwargs)\u001b[0m\n\u001b[1;32m   4625\u001b[0m \u001b[39mdef\u001b[39;00m \u001b[39mapply\u001b[39m(\n\u001b[1;32m   4626\u001b[0m     \u001b[39mself\u001b[39m,\n\u001b[1;32m   4627\u001b[0m     func: AggFuncType,\n\u001b[0;32m   (...)\u001b[0m\n\u001b[1;32m   4632\u001b[0m     \u001b[39m*\u001b[39m\u001b[39m*\u001b[39mkwargs,\n\u001b[1;32m   4633\u001b[0m ) \u001b[39m-\u001b[39m\u001b[39m>\u001b[39m DataFrame \u001b[39m|\u001b[39m Series:\n\u001b[1;32m   4634\u001b[0m \u001b[39m    \u001b[39m\u001b[39m\"\"\"\u001b[39;00m\n\u001b[1;32m   4635\u001b[0m \u001b[39m    Invoke function on values of Series.\u001b[39;00m\n\u001b[1;32m   4636\u001b[0m \n\u001b[0;32m   (...)\u001b[0m\n\u001b[1;32m   4751\u001b[0m \u001b[39m    dtype: float64\u001b[39;00m\n\u001b[1;32m   4752\u001b[0m \u001b[39m    \"\"\"\u001b[39;00m\n\u001b[1;32m   4753\u001b[0m     \u001b[39mreturn\u001b[39;00m SeriesApply(\n\u001b[1;32m   4754\u001b[0m         \u001b[39mself\u001b[39;49m,\n\u001b[1;32m   4755\u001b[0m         func,\n\u001b[1;32m   4756\u001b[0m         convert_dtype\u001b[39m=\u001b[39;49mconvert_dtype,\n\u001b[1;32m   4757\u001b[0m         by_row\u001b[39m=\u001b[39;49mby_row,\n\u001b[1;32m   4758\u001b[0m         args\u001b[39m=\u001b[39;49margs,\n\u001b[1;32m   4759\u001b[0m         kwargs\u001b[39m=\u001b[39;49mkwargs,\n\u001b[0;32m-> 4760\u001b[0m     )\u001b[39m.\u001b[39;49mapply()\n",
      "File \u001b[0;32m~/anaconda3/envs/ece5831-py3.10/lib/python3.10/site-packages/pandas/core/apply.py:1207\u001b[0m, in \u001b[0;36mSeriesApply.apply\u001b[0;34m(self)\u001b[0m\n\u001b[1;32m   1204\u001b[0m     \u001b[39mreturn\u001b[39;00m \u001b[39mself\u001b[39m\u001b[39m.\u001b[39mapply_compat()\n\u001b[1;32m   1206\u001b[0m \u001b[39m# self.func is Callable\u001b[39;00m\n\u001b[0;32m-> 1207\u001b[0m \u001b[39mreturn\u001b[39;00m \u001b[39mself\u001b[39;49m\u001b[39m.\u001b[39;49mapply_standard()\n",
      "File \u001b[0;32m~/anaconda3/envs/ece5831-py3.10/lib/python3.10/site-packages/pandas/core/apply.py:1287\u001b[0m, in \u001b[0;36mSeriesApply.apply_standard\u001b[0;34m(self)\u001b[0m\n\u001b[1;32m   1281\u001b[0m \u001b[39m# row-wise access\u001b[39;00m\n\u001b[1;32m   1282\u001b[0m \u001b[39m# apply doesn't have a `na_action` keyword and for backward compat reasons\u001b[39;00m\n\u001b[1;32m   1283\u001b[0m \u001b[39m# we need to give `na_action=\"ignore\"` for categorical data.\u001b[39;00m\n\u001b[1;32m   1284\u001b[0m \u001b[39m# TODO: remove the `na_action=\"ignore\"` when that default has been changed in\u001b[39;00m\n\u001b[1;32m   1285\u001b[0m \u001b[39m#  Categorical (GH51645).\u001b[39;00m\n\u001b[1;32m   1286\u001b[0m action \u001b[39m=\u001b[39m \u001b[39m\"\u001b[39m\u001b[39mignore\u001b[39m\u001b[39m\"\u001b[39m \u001b[39mif\u001b[39;00m \u001b[39misinstance\u001b[39m(obj\u001b[39m.\u001b[39mdtype, CategoricalDtype) \u001b[39melse\u001b[39;00m \u001b[39mNone\u001b[39;00m\n\u001b[0;32m-> 1287\u001b[0m mapped \u001b[39m=\u001b[39m obj\u001b[39m.\u001b[39;49m_map_values(\n\u001b[1;32m   1288\u001b[0m     mapper\u001b[39m=\u001b[39;49mcurried, na_action\u001b[39m=\u001b[39;49maction, convert\u001b[39m=\u001b[39;49m\u001b[39mself\u001b[39;49m\u001b[39m.\u001b[39;49mconvert_dtype\n\u001b[1;32m   1289\u001b[0m )\n\u001b[1;32m   1291\u001b[0m \u001b[39mif\u001b[39;00m \u001b[39mlen\u001b[39m(mapped) \u001b[39mand\u001b[39;00m \u001b[39misinstance\u001b[39m(mapped[\u001b[39m0\u001b[39m], ABCSeries):\n\u001b[1;32m   1292\u001b[0m     \u001b[39m# GH#43986 Need to do list(mapped) in order to get treated as nested\u001b[39;00m\n\u001b[1;32m   1293\u001b[0m     \u001b[39m#  See also GH#25959 regarding EA support\u001b[39;00m\n\u001b[1;32m   1294\u001b[0m     \u001b[39mreturn\u001b[39;00m obj\u001b[39m.\u001b[39m_constructor_expanddim(\u001b[39mlist\u001b[39m(mapped), index\u001b[39m=\u001b[39mobj\u001b[39m.\u001b[39mindex)\n",
      "File \u001b[0;32m~/anaconda3/envs/ece5831-py3.10/lib/python3.10/site-packages/pandas/core/base.py:921\u001b[0m, in \u001b[0;36mIndexOpsMixin._map_values\u001b[0;34m(self, mapper, na_action, convert)\u001b[0m\n\u001b[1;32m    918\u001b[0m \u001b[39mif\u001b[39;00m \u001b[39misinstance\u001b[39m(arr, ExtensionArray):\n\u001b[1;32m    919\u001b[0m     \u001b[39mreturn\u001b[39;00m arr\u001b[39m.\u001b[39mmap(mapper, na_action\u001b[39m=\u001b[39mna_action)\n\u001b[0;32m--> 921\u001b[0m \u001b[39mreturn\u001b[39;00m algorithms\u001b[39m.\u001b[39;49mmap_array(arr, mapper, na_action\u001b[39m=\u001b[39;49mna_action, convert\u001b[39m=\u001b[39;49mconvert)\n",
      "File \u001b[0;32m~/anaconda3/envs/ece5831-py3.10/lib/python3.10/site-packages/pandas/core/algorithms.py:1814\u001b[0m, in \u001b[0;36mmap_array\u001b[0;34m(arr, mapper, na_action, convert)\u001b[0m\n\u001b[1;32m   1812\u001b[0m values \u001b[39m=\u001b[39m arr\u001b[39m.\u001b[39mastype(\u001b[39mobject\u001b[39m, copy\u001b[39m=\u001b[39m\u001b[39mFalse\u001b[39;00m)\n\u001b[1;32m   1813\u001b[0m \u001b[39mif\u001b[39;00m na_action \u001b[39mis\u001b[39;00m \u001b[39mNone\u001b[39;00m:\n\u001b[0;32m-> 1814\u001b[0m     \u001b[39mreturn\u001b[39;00m lib\u001b[39m.\u001b[39;49mmap_infer(values, mapper, convert\u001b[39m=\u001b[39;49mconvert)\n\u001b[1;32m   1815\u001b[0m \u001b[39melse\u001b[39;00m:\n\u001b[1;32m   1816\u001b[0m     \u001b[39mreturn\u001b[39;00m lib\u001b[39m.\u001b[39mmap_infer_mask(\n\u001b[1;32m   1817\u001b[0m         values, mapper, mask\u001b[39m=\u001b[39misna(values)\u001b[39m.\u001b[39mview(np\u001b[39m.\u001b[39muint8), convert\u001b[39m=\u001b[39mconvert\n\u001b[1;32m   1818\u001b[0m     )\n",
      "File \u001b[0;32mlib.pyx:2917\u001b[0m, in \u001b[0;36mpandas._libs.lib.map_infer\u001b[0;34m()\u001b[0m\n",
      "\u001b[1;32m/home/yichenzhang/ece_5831/ece5831-2023-ccf/explore_transactions.ipynb Cell 15\u001b[0m line \u001b[0;36m2\n\u001b[1;32m      <a href='vscode-notebook-cell:/home/yichenzhang/ece_5831/ece5831-2023-ccf/explore_transactions.ipynb#Y110sZmlsZQ%3D%3D?line=0'>1</a>\u001b[0m \u001b[39mdef\u001b[39;00m \u001b[39mget_numeric_amount\u001b[39m(df: pd\u001b[39m.\u001b[39mDataFrame) \u001b[39m-\u001b[39m\u001b[39m>\u001b[39m \u001b[39mNone\u001b[39;00m:\n\u001b[0;32m----> <a href='vscode-notebook-cell:/home/yichenzhang/ece_5831/ece5831-2023-ccf/explore_transactions.ipynb#Y110sZmlsZQ%3D%3D?line=1'>2</a>\u001b[0m     df[\u001b[39m'\u001b[39m\u001b[39mAmount\u001b[39m\u001b[39m'\u001b[39m] \u001b[39m=\u001b[39m df[\u001b[39m'\u001b[39m\u001b[39mAmount\u001b[39m\u001b[39m'\u001b[39m]\u001b[39m.\u001b[39mapply(\u001b[39mlambda\u001b[39;00m value: \u001b[39mfloat\u001b[39;49m(\u001b[39mstr\u001b[39;49m(value)[\u001b[39m1\u001b[39;49m:]))\n\u001b[1;32m      <a href='vscode-notebook-cell:/home/yichenzhang/ece_5831/ece5831-2023-ccf/explore_transactions.ipynb#Y110sZmlsZQ%3D%3D?line=2'>3</a>\u001b[0m     df[\u001b[39m'\u001b[39m\u001b[39mAmount\u001b[39m\u001b[39m'\u001b[39m] \u001b[39m=\u001b[39m df[\u001b[39m'\u001b[39m\u001b[39mAmount\u001b[39m\u001b[39m'\u001b[39m]\u001b[39m.\u001b[39mastype(\u001b[39m'\u001b[39m\u001b[39mfloat32\u001b[39m\u001b[39m'\u001b[39m)\n",
      "\u001b[0;31mValueError\u001b[0m: could not convert string to float: 'an'"
     ]
    }
   ],
   "source": [
    "# To make process_data script more robust for other datasets (this one doesn't have NaN in Amounts) make sure to drop NaN as appropriate\n",
    "get_numeric_amount(df=temp_df)\n",
    "temp_df.info()"
   ]
  },
  {
   "cell_type": "code",
   "execution_count": 5,
   "metadata": {},
   "outputs": [],
   "source": [
    "\n",
    "tdf = process_data.save_space(tdf)"
   ]
  },
  {
   "cell_type": "code",
   "execution_count": 6,
   "metadata": {},
   "outputs": [
    {
     "name": "stdout",
     "output_type": "stream",
     "text": [
      "<class 'pandas.core.frame.DataFrame'>\n",
      "RangeIndex: 2439999 entries, 0 to 2439998\n",
      "Data columns (total 12 columns):\n",
      " #   Column          Dtype         \n",
      "---  ------          -----         \n",
      " 0   User            int32         \n",
      " 1   Card            int32         \n",
      " 2   Amount          float32       \n",
      " 3   Use_Chip        object        \n",
      " 4   Merchant_Name   int32         \n",
      " 5   Merchant_City   object        \n",
      " 6   Merchant_State  object        \n",
      " 7   Zip             float32       \n",
      " 8   MCC             int32         \n",
      " 9   Errors          object        \n",
      " 10  Is_Fraud        object        \n",
      " 11  Datetime        datetime64[ns]\n",
      "dtypes: datetime64[ns](1), float32(2), int32(4), object(5)\n",
      "memory usage: 167.5+ MB\n"
     ]
    }
   ],
   "source": [
    "tdf.info()"
   ]
  },
  {
   "cell_type": "code",
   "execution_count": 7,
   "metadata": {},
   "outputs": [
    {
     "data": {
      "text/html": [
       "<div>\n",
       "<style scoped>\n",
       "    .dataframe tbody tr th:only-of-type {\n",
       "        vertical-align: middle;\n",
       "    }\n",
       "\n",
       "    .dataframe tbody tr th {\n",
       "        vertical-align: top;\n",
       "    }\n",
       "\n",
       "    .dataframe thead th {\n",
       "        text-align: right;\n",
       "    }\n",
       "</style>\n",
       "<table border=\"1\" class=\"dataframe\">\n",
       "  <thead>\n",
       "    <tr style=\"text-align: right;\">\n",
       "      <th></th>\n",
       "      <th>User</th>\n",
       "      <th>Card</th>\n",
       "      <th>Amount</th>\n",
       "      <th>Use_Chip</th>\n",
       "      <th>Merchant_Name</th>\n",
       "      <th>Merchant_City</th>\n",
       "      <th>Merchant_State</th>\n",
       "      <th>Zip</th>\n",
       "      <th>MCC</th>\n",
       "      <th>Errors</th>\n",
       "      <th>Is_Fraud</th>\n",
       "      <th>Datetime</th>\n",
       "    </tr>\n",
       "  </thead>\n",
       "  <tbody>\n",
       "    <tr>\n",
       "      <th>0</th>\n",
       "      <td>0</td>\n",
       "      <td>0</td>\n",
       "      <td>134.09</td>\n",
       "      <td>Swipe</td>\n",
       "      <td>1719741273</td>\n",
       "      <td>La Verne</td>\n",
       "      <td>CA</td>\n",
       "      <td>91750.00</td>\n",
       "      <td>5300</td>\n",
       "      <td>NaN</td>\n",
       "      <td>No</td>\n",
       "      <td>2002-09-01 06:21:00</td>\n",
       "    </tr>\n",
       "    <tr>\n",
       "      <th>1</th>\n",
       "      <td>0</td>\n",
       "      <td>0</td>\n",
       "      <td>38.48</td>\n",
       "      <td>Swipe</td>\n",
       "      <td>1102623989</td>\n",
       "      <td>Monterey Park</td>\n",
       "      <td>CA</td>\n",
       "      <td>91754.00</td>\n",
       "      <td>5411</td>\n",
       "      <td>NaN</td>\n",
       "      <td>No</td>\n",
       "      <td>2002-09-01 06:42:00</td>\n",
       "    </tr>\n",
       "    <tr>\n",
       "      <th>2</th>\n",
       "      <td>0</td>\n",
       "      <td>0</td>\n",
       "      <td>120.34</td>\n",
       "      <td>Swipe</td>\n",
       "      <td>1102623989</td>\n",
       "      <td>Monterey Park</td>\n",
       "      <td>CA</td>\n",
       "      <td>91754.00</td>\n",
       "      <td>5411</td>\n",
       "      <td>NaN</td>\n",
       "      <td>No</td>\n",
       "      <td>2002-09-02 06:22:00</td>\n",
       "    </tr>\n",
       "  </tbody>\n",
       "</table>\n",
       "</div>"
      ],
      "text/plain": [
       "   User  Card  Amount Use_Chip  Merchant_Name  Merchant_City Merchant_State  \\\n",
       "0     0     0  134.09    Swipe     1719741273       La Verne             CA   \n",
       "1     0     0   38.48    Swipe     1102623989  Monterey Park             CA   \n",
       "2     0     0  120.34    Swipe     1102623989  Monterey Park             CA   \n",
       "\n",
       "       Zip   MCC Errors Is_Fraud            Datetime  \n",
       "0 91750.00  5300    NaN       No 2002-09-01 06:21:00  \n",
       "1 91754.00  5411    NaN       No 2002-09-01 06:42:00  \n",
       "2 91754.00  5411    NaN       No 2002-09-02 06:22:00  "
      ]
     },
     "execution_count": 7,
     "metadata": {},
     "output_type": "execute_result"
    }
   ],
   "source": [
    "tdf.head(3)"
   ]
  },
  {
   "cell_type": "code",
   "execution_count": 8,
   "metadata": {},
   "outputs": [
    {
     "name": "stdout",
     "output_type": "stream",
     "text": [
      "<class 'pandas.core.frame.DataFrame'>\n",
      "RangeIndex: 2439999 entries, 0 to 2439998\n",
      "Data columns (total 12 columns):\n",
      " #   Column          Dtype         \n",
      "---  ------          -----         \n",
      " 0   User            int8          \n",
      " 1   Card            int8          \n",
      " 2   Amount          float32       \n",
      " 3   Use_Chip        object        \n",
      " 4   Merchant_Name   int32         \n",
      " 5   Merchant_City   object        \n",
      " 6   Merchant_State  object        \n",
      " 7   Zip             float32       \n",
      " 8   MCC             int32         \n",
      " 9   Errors          object        \n",
      " 10  Is_Fraud        object        \n",
      " 11  Datetime        datetime64[ns]\n",
      "dtypes: datetime64[ns](1), float32(2), int32(2), int8(2), object(5)\n",
      "memory usage: 153.6+ MB\n"
     ]
    }
   ],
   "source": [
    "# tdf['User'] = tdf['User'].astype(np.int8) # There are 2000 simulated customers, so reverted these back to int32\n",
    "tdf['Card'] = tdf['Card'].astype(np.int8)\n",
    "tdf.info()"
   ]
  },
  {
   "cell_type": "code",
   "execution_count": 10,
   "metadata": {},
   "outputs": [
    {
     "name": "stdout",
     "output_type": "stream",
     "text": [
      "<class 'pandas.core.frame.DataFrame'>\n",
      "RangeIndex: 24386900 entries, 0 to 24386899\n",
      "Data columns (total 14 columns):\n",
      " #   Column          Dtype  \n",
      "---  ------          -----  \n",
      " 0   User            int32  \n",
      " 1   Card            int32  \n",
      " 2   Year            int32  \n",
      " 3   Month           int32  \n",
      " 4   Day             int32  \n",
      " 5   Time            object \n",
      " 6   Amount          float32\n",
      " 7   Use Chip        object \n",
      " 8   Merchant City   object \n",
      " 9   Merchant State  object \n",
      " 10  Zip             float32\n",
      " 11  MCC             int32  \n",
      " 12  Errors?         object \n",
      " 13  Is Fraud?       object \n",
      "dtypes: float32(2), int32(6), object(6)\n",
      "memory usage: 1.8+ GB\n"
     ]
    }
   ],
   "source": [
    "tdf['Amount'] = tdf['Amount'].apply(lambda value: float(value[1:]))\n",
    "tdf['Amount'] = tdf['Amount'].astype('float32')\n",
    "tdf.info()"
   ]
  },
  {
   "cell_type": "code",
   "execution_count": 11,
   "metadata": {},
   "outputs": [
    {
     "data": {
      "text/plain": [
       "Use Chip\n",
       "Swipe Transaction     15386082\n",
       "Chip Transaction       6287598\n",
       "Online Transaction     2713220\n",
       "Name: count, dtype: int64"
      ]
     },
     "execution_count": 11,
     "metadata": {},
     "output_type": "execute_result"
    }
   ],
   "source": [
    "tdf['Use Chip'].value_counts()"
   ]
  },
  {
   "cell_type": "code",
   "execution_count": 11,
   "metadata": {},
   "outputs": [
    {
     "data": {
      "text/plain": [
       "Use Chip\n",
       "Swipe     15386082\n",
       "Chip       6287598\n",
       "Online     2713220\n",
       "Name: count, dtype: int64"
      ]
     },
     "execution_count": 11,
     "metadata": {},
     "output_type": "execute_result"
    }
   ],
   "source": [
    "tdf['Use Chip'] = tdf['Use Chip'].apply(lambda word: word.split()[0])\n",
    "tdf['Use Chip'].value_counts()"
   ]
  },
  {
   "cell_type": "code",
   "execution_count": 13,
   "metadata": {},
   "outputs": [
    {
     "name": "stdout",
     "output_type": "stream",
     "text": [
      "<class 'pandas.core.frame.DataFrame'>\n",
      "RangeIndex: 24386900 entries, 0 to 24386899\n",
      "Data columns (total 14 columns):\n",
      " #   Column          Dtype  \n",
      "---  ------          -----  \n",
      " 0   User            int32  \n",
      " 1   Card            int32  \n",
      " 2   Year            int32  \n",
      " 3   Month           int32  \n",
      " 4   Day             int32  \n",
      " 5   Time            object \n",
      " 6   Amount          float32\n",
      " 7   Use Chip        object \n",
      " 8   Merchant City   object \n",
      " 9   Merchant State  object \n",
      " 10  Zip             float32\n",
      " 11  MCC             int32  \n",
      " 12  Errors?         object \n",
      " 13  Is Fraud?       object \n",
      "dtypes: float32(2), int32(6), object(6)\n",
      "memory usage: 1.8+ GB\n"
     ]
    },
    {
     "data": {
      "text/plain": [
       "['data/slimmed_before_datetime_combine']"
      ]
     },
     "execution_count": 13,
     "metadata": {},
     "output_type": "execute_result"
    }
   ],
   "source": [
    "tdf.info()\n",
    "joblib.dump(tdf, 'data/slimmed_before_datetime_combine')"
   ]
  },
  {
   "cell_type": "code",
   "execution_count": 4,
   "metadata": {},
   "outputs": [
    {
     "data": {
      "text/plain": [
       "Is_Fraud\n",
       "No     24357143\n",
       "Yes       29757\n",
       "Name: count, dtype: int64"
      ]
     },
     "execution_count": 4,
     "metadata": {},
     "output_type": "execute_result"
    }
   ],
   "source": [
    "tdf['Is_Fraud'].value_counts()"
   ]
  },
  {
   "cell_type": "code",
   "execution_count": 4,
   "metadata": {},
   "outputs": [
    {
     "data": {
      "text/html": [
       "<div>\n",
       "<style scoped>\n",
       "    .dataframe tbody tr th:only-of-type {\n",
       "        vertical-align: middle;\n",
       "    }\n",
       "\n",
       "    .dataframe tbody tr th {\n",
       "        vertical-align: top;\n",
       "    }\n",
       "\n",
       "    .dataframe thead th {\n",
       "        text-align: right;\n",
       "    }\n",
       "</style>\n",
       "<table border=\"1\" class=\"dataframe\">\n",
       "  <thead>\n",
       "    <tr style=\"text-align: right;\">\n",
       "      <th></th>\n",
       "      <th>User</th>\n",
       "      <th>Card</th>\n",
       "      <th>Amount</th>\n",
       "      <th>Use_Chip</th>\n",
       "      <th>Merchant_Name</th>\n",
       "      <th>Merchant_City</th>\n",
       "      <th>Merchant_State</th>\n",
       "      <th>Zip</th>\n",
       "      <th>MCC</th>\n",
       "      <th>Errors</th>\n",
       "      <th>Is_Fraud</th>\n",
       "      <th>Datetime</th>\n",
       "    </tr>\n",
       "  </thead>\n",
       "  <tbody>\n",
       "    <tr>\n",
       "      <th>516681</th>\n",
       "      <td>462</td>\n",
       "      <td>3</td>\n",
       "      <td>1.65</td>\n",
       "      <td>Swipe</td>\n",
       "      <td>-1952011645</td>\n",
       "      <td>Derby</td>\n",
       "      <td>KS</td>\n",
       "      <td>67037.00</td>\n",
       "      <td>5812</td>\n",
       "      <td>NaN</td>\n",
       "      <td>False</td>\n",
       "      <td>2014-01-19 07:59:00</td>\n",
       "    </tr>\n",
       "    <tr>\n",
       "      <th>609455</th>\n",
       "      <td>675</td>\n",
       "      <td>0</td>\n",
       "      <td>13.54</td>\n",
       "      <td>Chip</td>\n",
       "      <td>479254457</td>\n",
       "      <td>Shepherdsville</td>\n",
       "      <td>KY</td>\n",
       "      <td>40165.00</td>\n",
       "      <td>5310</td>\n",
       "      <td>NaN</td>\n",
       "      <td>False</td>\n",
       "      <td>2019-02-20 16:44:00</td>\n",
       "    </tr>\n",
       "    <tr>\n",
       "      <th>1843840</th>\n",
       "      <td>1745</td>\n",
       "      <td>0</td>\n",
       "      <td>36.33</td>\n",
       "      <td>Online</td>\n",
       "      <td>-2021769076</td>\n",
       "      <td>ONLINE</td>\n",
       "      <td>NaN</td>\n",
       "      <td>NaN</td>\n",
       "      <td>4784</td>\n",
       "      <td>NaN</td>\n",
       "      <td>False</td>\n",
       "      <td>2013-12-04 14:41:00</td>\n",
       "    </tr>\n",
       "  </tbody>\n",
       "</table>\n",
       "</div>"
      ],
      "text/plain": [
       "         User  Card  Amount Use_Chip  Merchant_Name   Merchant_City  \\\n",
       "516681    462     3    1.65    Swipe    -1952011645           Derby   \n",
       "609455    675     0   13.54     Chip      479254457  Shepherdsville   \n",
       "1843840  1745     0   36.33   Online    -2021769076          ONLINE   \n",
       "\n",
       "        Merchant_State      Zip   MCC Errors  Is_Fraud            Datetime  \n",
       "516681              KS 67037.00  5812    NaN     False 2014-01-19 07:59:00  \n",
       "609455              KY 40165.00  5310    NaN     False 2019-02-20 16:44:00  \n",
       "1843840            NaN      NaN  4784    NaN     False 2013-12-04 14:41:00  "
      ]
     },
     "execution_count": 4,
     "metadata": {},
     "output_type": "execute_result"
    }
   ],
   "source": [
    "tdf['Is_Fraud'] = tdf['Is_Fraud'].apply(lambda word: True if word.lower() == 'yes' else False)\n",
    "tdf.sample(n=3)"
   ]
  },
  {
   "cell_type": "markdown",
   "metadata": {},
   "source": [
    "### Combine partial dataframes"
   ]
  },
  {
   "cell_type": "code",
   "execution_count": 10,
   "metadata": {},
   "outputs": [],
   "source": [
    "import os"
   ]
  },
  {
   "cell_type": "code",
   "execution_count": 11,
   "metadata": {},
   "outputs": [
    {
     "name": "stdout",
     "output_type": "stream",
     "text": [
      "<class 'pandas.core.frame.DataFrame'>\n",
      "Index: 24386900 entries, 0 to 2439999\n",
      "Data columns (total 12 columns):\n",
      " #   Column          Dtype         \n",
      "---  ------          -----         \n",
      " 0   User            int8          \n",
      " 1   Card            int8          \n",
      " 2   Amount          float32       \n",
      " 3   Use_Chip        object        \n",
      " 4   Merchant_Name   int32         \n",
      " 5   Merchant_City   object        \n",
      " 6   Merchant_State  object        \n",
      " 7   Zip             float32       \n",
      " 8   MCC             int32         \n",
      " 9   Errors          object        \n",
      " 10  Is_Fraud        object        \n",
      " 11  Datetime        datetime64[ns]\n",
      "dtypes: datetime64[ns](1), float32(2), int32(2), int8(2), object(5)\n",
      "memory usage: 1.7+ GB\n"
     ]
    }
   ],
   "source": [
    "dir = 'data/slim'\n",
    "parts = [f for f in os.listdir(dir)]\n",
    "dfs = []\n",
    "for part in parts:\n",
    "    dfs.append(joblib.load(os.path.join(dir, part)))\n",
    "tdf = pd.concat(dfs)\n",
    "tdf.info()"
   ]
  },
  {
   "cell_type": "code",
   "execution_count": 12,
   "metadata": {},
   "outputs": [
    {
     "data": {
      "text/plain": [
       "['data/transactions']"
      ]
     },
     "execution_count": 12,
     "metadata": {},
     "output_type": "execute_result"
    }
   ],
   "source": [
    "joblib.dump(tdf, 'data/transactions')"
   ]
  },
  {
   "cell_type": "markdown",
   "metadata": {},
   "source": [
    "# Visuals"
   ]
  },
  {
   "cell_type": "code",
   "execution_count": 3,
   "metadata": {},
   "outputs": [
    {
     "data": {
      "text/html": [
       "<div>\n",
       "<style scoped>\n",
       "    .dataframe tbody tr th:only-of-type {\n",
       "        vertical-align: middle;\n",
       "    }\n",
       "\n",
       "    .dataframe tbody tr th {\n",
       "        vertical-align: top;\n",
       "    }\n",
       "\n",
       "    .dataframe thead th {\n",
       "        text-align: right;\n",
       "    }\n",
       "</style>\n",
       "<table border=\"1\" class=\"dataframe\">\n",
       "  <thead>\n",
       "    <tr style=\"text-align: right;\">\n",
       "      <th></th>\n",
       "      <th>User</th>\n",
       "      <th>Card</th>\n",
       "      <th>Amount</th>\n",
       "      <th>Merchant_Name</th>\n",
       "      <th>Zip</th>\n",
       "      <th>MCC</th>\n",
       "      <th>Datetime</th>\n",
       "    </tr>\n",
       "  </thead>\n",
       "  <tbody>\n",
       "    <tr>\n",
       "      <th>count</th>\n",
       "      <td>24386900.00</td>\n",
       "      <td>24386900.00</td>\n",
       "      <td>24386900.00</td>\n",
       "      <td>24386900.00</td>\n",
       "      <td>21508765.00</td>\n",
       "      <td>24386900.00</td>\n",
       "      <td>24386900</td>\n",
       "    </tr>\n",
       "    <tr>\n",
       "      <th>mean</th>\n",
       "      <td>1001.02</td>\n",
       "      <td>1.35</td>\n",
       "      <td>43.63</td>\n",
       "      <td>-5431366.16</td>\n",
       "      <td>50956.41</td>\n",
       "      <td>5561.17</td>\n",
       "      <td>2012-06-15 16:57:04.016494592</td>\n",
       "    </tr>\n",
       "    <tr>\n",
       "      <th>min</th>\n",
       "      <td>0.00</td>\n",
       "      <td>0.00</td>\n",
       "      <td>-500.00</td>\n",
       "      <td>-2147477762.00</td>\n",
       "      <td>501.00</td>\n",
       "      <td>1711.00</td>\n",
       "      <td>1991-01-02 07:10:00</td>\n",
       "    </tr>\n",
       "    <tr>\n",
       "      <th>25%</th>\n",
       "      <td>510.00</td>\n",
       "      <td>0.00</td>\n",
       "      <td>9.20</td>\n",
       "      <td>-1109575129.00</td>\n",
       "      <td>28374.00</td>\n",
       "      <td>5300.00</td>\n",
       "      <td>2008-12-25 11:34:00</td>\n",
       "    </tr>\n",
       "    <tr>\n",
       "      <th>50%</th>\n",
       "      <td>1006.00</td>\n",
       "      <td>1.00</td>\n",
       "      <td>30.14</td>\n",
       "      <td>11876726.00</td>\n",
       "      <td>46742.00</td>\n",
       "      <td>5499.00</td>\n",
       "      <td>2013-01-11 08:49:00</td>\n",
       "    </tr>\n",
       "    <tr>\n",
       "      <th>75%</th>\n",
       "      <td>1477.00</td>\n",
       "      <td>2.00</td>\n",
       "      <td>65.06</td>\n",
       "      <td>1063776993.00</td>\n",
       "      <td>77564.00</td>\n",
       "      <td>5812.00</td>\n",
       "      <td>2016-08-27 19:46:00</td>\n",
       "    </tr>\n",
       "    <tr>\n",
       "      <th>max</th>\n",
       "      <td>1999.00</td>\n",
       "      <td>8.00</td>\n",
       "      <td>12390.50</td>\n",
       "      <td>2147427927.00</td>\n",
       "      <td>99928.00</td>\n",
       "      <td>9402.00</td>\n",
       "      <td>2020-02-28 23:58:00</td>\n",
       "    </tr>\n",
       "    <tr>\n",
       "      <th>std</th>\n",
       "      <td>569.46</td>\n",
       "      <td>1.41</td>\n",
       "      <td>78.71</td>\n",
       "      <td>1311018995.45</td>\n",
       "      <td>29141.96</td>\n",
       "      <td>879.32</td>\n",
       "      <td>NaN</td>\n",
       "    </tr>\n",
       "  </tbody>\n",
       "</table>\n",
       "</div>"
      ],
      "text/plain": [
       "             User        Card      Amount  Merchant_Name         Zip  \\\n",
       "count 24386900.00 24386900.00 24386900.00    24386900.00 21508765.00   \n",
       "mean      1001.02        1.35       43.63    -5431366.16    50956.41   \n",
       "min          0.00        0.00     -500.00 -2147477762.00      501.00   \n",
       "25%        510.00        0.00        9.20 -1109575129.00    28374.00   \n",
       "50%       1006.00        1.00       30.14    11876726.00    46742.00   \n",
       "75%       1477.00        2.00       65.06  1063776993.00    77564.00   \n",
       "max       1999.00        8.00    12390.50  2147427927.00    99928.00   \n",
       "std        569.46        1.41       78.71  1311018995.45    29141.96   \n",
       "\n",
       "              MCC                       Datetime  \n",
       "count 24386900.00                       24386900  \n",
       "mean      5561.17  2012-06-15 16:57:04.016494592  \n",
       "min       1711.00            1991-01-02 07:10:00  \n",
       "25%       5300.00            2008-12-25 11:34:00  \n",
       "50%       5499.00            2013-01-11 08:49:00  \n",
       "75%       5812.00            2016-08-27 19:46:00  \n",
       "max       9402.00            2020-02-28 23:58:00  \n",
       "std        879.32                            NaN  "
      ]
     },
     "execution_count": 3,
     "metadata": {},
     "output_type": "execute_result"
    }
   ],
   "source": [
    "tdf.describe()"
   ]
  },
  {
   "cell_type": "code",
   "execution_count": 9,
   "metadata": {},
   "outputs": [],
   "source": [
    "fdf = tdf.loc[tdf['Is_Fraud']].copy()"
   ]
  },
  {
   "cell_type": "code",
   "execution_count": 11,
   "metadata": {},
   "outputs": [],
   "source": [
    "df = tdf.loc[~tdf['Is_Fraud']].copy()"
   ]
  },
  {
   "cell_type": "code",
   "execution_count": 10,
   "metadata": {},
   "outputs": [
    {
     "data": {
      "text/html": [
       "<div>\n",
       "<style scoped>\n",
       "    .dataframe tbody tr th:only-of-type {\n",
       "        vertical-align: middle;\n",
       "    }\n",
       "\n",
       "    .dataframe tbody tr th {\n",
       "        vertical-align: top;\n",
       "    }\n",
       "\n",
       "    .dataframe thead th {\n",
       "        text-align: right;\n",
       "    }\n",
       "</style>\n",
       "<table border=\"1\" class=\"dataframe\">\n",
       "  <thead>\n",
       "    <tr style=\"text-align: right;\">\n",
       "      <th></th>\n",
       "      <th>User</th>\n",
       "      <th>Card</th>\n",
       "      <th>Amount</th>\n",
       "      <th>Merchant_Name</th>\n",
       "      <th>Zip</th>\n",
       "      <th>MCC</th>\n",
       "      <th>Datetime</th>\n",
       "    </tr>\n",
       "  </thead>\n",
       "  <tbody>\n",
       "    <tr>\n",
       "      <th>count</th>\n",
       "      <td>29757.00</td>\n",
       "      <td>29757.00</td>\n",
       "      <td>29757.00</td>\n",
       "      <td>29757.00</td>\n",
       "      <td>4905.00</td>\n",
       "      <td>29757.00</td>\n",
       "      <td>29757</td>\n",
       "    </tr>\n",
       "    <tr>\n",
       "      <th>mean</th>\n",
       "      <td>1011.04</td>\n",
       "      <td>1.62</td>\n",
       "      <td>108.59</td>\n",
       "      <td>35311146.87</td>\n",
       "      <td>52427.47</td>\n",
       "      <td>5252.21</td>\n",
       "      <td>2012-06-22 08:57:49.500957952</td>\n",
       "    </tr>\n",
       "    <tr>\n",
       "      <th>min</th>\n",
       "      <td>0.00</td>\n",
       "      <td>0.00</td>\n",
       "      <td>-500.00</td>\n",
       "      <td>-2144772375.00</td>\n",
       "      <td>1057.00</td>\n",
       "      <td>3000.00</td>\n",
       "      <td>1996-07-05 11:11:00</td>\n",
       "    </tr>\n",
       "    <tr>\n",
       "      <th>25%</th>\n",
       "      <td>545.00</td>\n",
       "      <td>0.00</td>\n",
       "      <td>18.36</td>\n",
       "      <td>-1002789084.00</td>\n",
       "      <td>32503.00</td>\n",
       "      <td>4829.00</td>\n",
       "      <td>2008-09-29 16:26:00</td>\n",
       "    </tr>\n",
       "    <tr>\n",
       "      <th>50%</th>\n",
       "      <td>1020.00</td>\n",
       "      <td>1.00</td>\n",
       "      <td>71.02</td>\n",
       "      <td>38861438.00</td>\n",
       "      <td>44824.00</td>\n",
       "      <td>5311.00</td>\n",
       "      <td>2012-08-03 13:10:00</td>\n",
       "    </tr>\n",
       "    <tr>\n",
       "      <th>75%</th>\n",
       "      <td>1487.00</td>\n",
       "      <td>3.00</td>\n",
       "      <td>150.13</td>\n",
       "      <td>1102623989.00</td>\n",
       "      <td>78374.00</td>\n",
       "      <td>5719.00</td>\n",
       "      <td>2016-03-24 14:08:00</td>\n",
       "    </tr>\n",
       "    <tr>\n",
       "      <th>max</th>\n",
       "      <td>1997.00</td>\n",
       "      <td>8.00</td>\n",
       "      <td>5694.44</td>\n",
       "      <td>2145070271.00</td>\n",
       "      <td>99504.00</td>\n",
       "      <td>9402.00</td>\n",
       "      <td>2019-10-27 14:54:00</td>\n",
       "    </tr>\n",
       "    <tr>\n",
       "      <th>std</th>\n",
       "      <td>559.30</td>\n",
       "      <td>1.52</td>\n",
       "      <td>201.17</td>\n",
       "      <td>1269481372.82</td>\n",
       "      <td>28360.63</td>\n",
       "      <td>989.61</td>\n",
       "      <td>NaN</td>\n",
       "    </tr>\n",
       "  </tbody>\n",
       "</table>\n",
       "</div>"
      ],
      "text/plain": [
       "          User     Card   Amount  Merchant_Name      Zip      MCC  \\\n",
       "count 29757.00 29757.00 29757.00       29757.00  4905.00 29757.00   \n",
       "mean   1011.04     1.62   108.59    35311146.87 52427.47  5252.21   \n",
       "min       0.00     0.00  -500.00 -2144772375.00  1057.00  3000.00   \n",
       "25%     545.00     0.00    18.36 -1002789084.00 32503.00  4829.00   \n",
       "50%    1020.00     1.00    71.02    38861438.00 44824.00  5311.00   \n",
       "75%    1487.00     3.00   150.13  1102623989.00 78374.00  5719.00   \n",
       "max    1997.00     8.00  5694.44  2145070271.00 99504.00  9402.00   \n",
       "std     559.30     1.52   201.17  1269481372.82 28360.63   989.61   \n",
       "\n",
       "                            Datetime  \n",
       "count                          29757  \n",
       "mean   2012-06-22 08:57:49.500957952  \n",
       "min              1996-07-05 11:11:00  \n",
       "25%              2008-09-29 16:26:00  \n",
       "50%              2012-08-03 13:10:00  \n",
       "75%              2016-03-24 14:08:00  \n",
       "max              2019-10-27 14:54:00  \n",
       "std                              NaN  "
      ]
     },
     "execution_count": 10,
     "metadata": {},
     "output_type": "execute_result"
    }
   ],
   "source": [
    "fdf.describe()"
   ]
  },
  {
   "cell_type": "code",
   "execution_count": 12,
   "metadata": {},
   "outputs": [
    {
     "data": {
      "text/html": [
       "<div>\n",
       "<style scoped>\n",
       "    .dataframe tbody tr th:only-of-type {\n",
       "        vertical-align: middle;\n",
       "    }\n",
       "\n",
       "    .dataframe tbody tr th {\n",
       "        vertical-align: top;\n",
       "    }\n",
       "\n",
       "    .dataframe thead th {\n",
       "        text-align: right;\n",
       "    }\n",
       "</style>\n",
       "<table border=\"1\" class=\"dataframe\">\n",
       "  <thead>\n",
       "    <tr style=\"text-align: right;\">\n",
       "      <th></th>\n",
       "      <th>User</th>\n",
       "      <th>Card</th>\n",
       "      <th>Amount</th>\n",
       "      <th>Merchant_Name</th>\n",
       "      <th>Zip</th>\n",
       "      <th>MCC</th>\n",
       "      <th>Datetime</th>\n",
       "    </tr>\n",
       "  </thead>\n",
       "  <tbody>\n",
       "    <tr>\n",
       "      <th>count</th>\n",
       "      <td>24357143.00</td>\n",
       "      <td>24357143.00</td>\n",
       "      <td>24357143.00</td>\n",
       "      <td>24357143.00</td>\n",
       "      <td>21503860.00</td>\n",
       "      <td>24357143.00</td>\n",
       "      <td>24357143</td>\n",
       "    </tr>\n",
       "    <tr>\n",
       "      <th>mean</th>\n",
       "      <td>1001.01</td>\n",
       "      <td>1.35</td>\n",
       "      <td>43.55</td>\n",
       "      <td>-5481141.09</td>\n",
       "      <td>50956.11</td>\n",
       "      <td>5561.55</td>\n",
       "      <td>2012-06-15 16:45:20.264605184</td>\n",
       "    </tr>\n",
       "    <tr>\n",
       "      <th>min</th>\n",
       "      <td>0.00</td>\n",
       "      <td>0.00</td>\n",
       "      <td>-500.00</td>\n",
       "      <td>-2147477762.00</td>\n",
       "      <td>501.00</td>\n",
       "      <td>1711.00</td>\n",
       "      <td>1991-01-02 07:10:00</td>\n",
       "    </tr>\n",
       "    <tr>\n",
       "      <th>25%</th>\n",
       "      <td>510.00</td>\n",
       "      <td>0.00</td>\n",
       "      <td>9.20</td>\n",
       "      <td>-1109575129.00</td>\n",
       "      <td>28374.00</td>\n",
       "      <td>5300.00</td>\n",
       "      <td>2008-12-25 16:25:00</td>\n",
       "    </tr>\n",
       "    <tr>\n",
       "      <th>50%</th>\n",
       "      <td>1006.00</td>\n",
       "      <td>1.00</td>\n",
       "      <td>30.11</td>\n",
       "      <td>11876726.00</td>\n",
       "      <td>46742.00</td>\n",
       "      <td>5499.00</td>\n",
       "      <td>2013-01-11 09:07:00</td>\n",
       "    </tr>\n",
       "    <tr>\n",
       "      <th>75%</th>\n",
       "      <td>1477.00</td>\n",
       "      <td>2.00</td>\n",
       "      <td>65.00</td>\n",
       "      <td>1063776993.00</td>\n",
       "      <td>77564.00</td>\n",
       "      <td>5812.00</td>\n",
       "      <td>2016-08-28 08:02:00</td>\n",
       "    </tr>\n",
       "    <tr>\n",
       "      <th>max</th>\n",
       "      <td>1999.00</td>\n",
       "      <td>8.00</td>\n",
       "      <td>12390.50</td>\n",
       "      <td>2147427927.00</td>\n",
       "      <td>99928.00</td>\n",
       "      <td>9402.00</td>\n",
       "      <td>2020-02-28 23:58:00</td>\n",
       "    </tr>\n",
       "    <tr>\n",
       "      <th>std</th>\n",
       "      <td>569.47</td>\n",
       "      <td>1.41</td>\n",
       "      <td>78.43</td>\n",
       "      <td>1311068187.80</td>\n",
       "      <td>29142.59</td>\n",
       "      <td>879.11</td>\n",
       "      <td>NaN</td>\n",
       "    </tr>\n",
       "  </tbody>\n",
       "</table>\n",
       "</div>"
      ],
      "text/plain": [
       "             User        Card      Amount  Merchant_Name         Zip  \\\n",
       "count 24357143.00 24357143.00 24357143.00    24357143.00 21503860.00   \n",
       "mean      1001.01        1.35       43.55    -5481141.09    50956.11   \n",
       "min          0.00        0.00     -500.00 -2147477762.00      501.00   \n",
       "25%        510.00        0.00        9.20 -1109575129.00    28374.00   \n",
       "50%       1006.00        1.00       30.11    11876726.00    46742.00   \n",
       "75%       1477.00        2.00       65.00  1063776993.00    77564.00   \n",
       "max       1999.00        8.00    12390.50  2147427927.00    99928.00   \n",
       "std        569.47        1.41       78.43  1311068187.80    29142.59   \n",
       "\n",
       "              MCC                       Datetime  \n",
       "count 24357143.00                       24357143  \n",
       "mean      5561.55  2012-06-15 16:45:20.264605184  \n",
       "min       1711.00            1991-01-02 07:10:00  \n",
       "25%       5300.00            2008-12-25 16:25:00  \n",
       "50%       5499.00            2013-01-11 09:07:00  \n",
       "75%       5812.00            2016-08-28 08:02:00  \n",
       "max       9402.00            2020-02-28 23:58:00  \n",
       "std        879.11                            NaN  "
      ]
     },
     "execution_count": 12,
     "metadata": {},
     "output_type": "execute_result"
    }
   ],
   "source": [
    "df.describe()"
   ]
  },
  {
   "cell_type": "code",
   "execution_count": 15,
   "metadata": {},
   "outputs": [
    {
     "data": {
      "text/plain": [
       "MCC\n",
       "5311    4824\n",
       "5300    2201\n",
       "5310    2152\n",
       "4829    1607\n",
       "5912    1057\n",
       "5411     943\n",
       "5815     879\n",
       "5651     849\n",
       "5732     843\n",
       "5719     717\n",
       "Name: count, dtype: int64"
      ]
     },
     "execution_count": 15,
     "metadata": {},
     "output_type": "execute_result"
    }
   ],
   "source": [
    "fdf['MCC'].value_counts().head(10)"
   ]
  },
  {
   "cell_type": "code",
   "execution_count": 16,
   "metadata": {},
   "outputs": [
    {
     "data": {
      "text/plain": [
       "MCC\n",
       "5411    2859795\n",
       "5499    2680349\n",
       "5541    2638628\n",
       "5812    1797593\n",
       "5912    1406579\n",
       "4829    1127454\n",
       "4784    1124291\n",
       "5300    1120836\n",
       "4121     980965\n",
       "7538     914579\n",
       "Name: count, dtype: int64"
      ]
     },
     "execution_count": 16,
     "metadata": {},
     "output_type": "execute_result"
    }
   ],
   "source": [
    "df['MCC'].value_counts().head(10)"
   ]
  },
  {
   "cell_type": "code",
   "execution_count": 17,
   "metadata": {},
   "outputs": [],
   "source": [
    "del tdf"
   ]
  },
  {
   "cell_type": "code",
   "execution_count": 18,
   "metadata": {},
   "outputs": [
    {
     "data": {
      "text/plain": [
       "['data/fraud_only']"
      ]
     },
     "execution_count": 18,
     "metadata": {},
     "output_type": "execute_result"
    }
   ],
   "source": [
    "joblib.dump(fdf, 'data/fraud_only')"
   ]
  },
  {
   "cell_type": "code",
   "execution_count": 19,
   "metadata": {},
   "outputs": [
    {
     "data": {
      "text/plain": [
       "['data/no_fraud']"
      ]
     },
     "execution_count": 19,
     "metadata": {},
     "output_type": "execute_result"
    }
   ],
   "source": [
    "joblib.dump(df, 'data/no_fraud')"
   ]
  },
  {
   "cell_type": "code",
   "execution_count": 16,
   "metadata": {},
   "outputs": [],
   "source": [
    "sns.set(rc={'figure.figsize': (2, 8)})"
   ]
  },
  {
   "cell_type": "code",
   "execution_count": 17,
   "metadata": {},
   "outputs": [
    {
     "name": "stderr",
     "output_type": "stream",
     "text": [
      "/home/yichenzhang/anaconda3/envs/ece5831-py3.10/lib/python3.10/site-packages/seaborn/_oldcore.py:1498: FutureWarning: is_categorical_dtype is deprecated and will be removed in a future version. Use isinstance(dtype, CategoricalDtype) instead\n",
      "  if pd.api.types.is_categorical_dtype(vector):\n"
     ]
    },
    {
     "data": {
      "image/png": "[encoded data removed]",
      "text/plain": [
       "<Figure size 200x800 with 1 Axes>"
      ]
     },
     "metadata": {},
     "output_type": "display_data"
    }
   ],
   "source": [
    "sns.boxplot(y=fdf['Amount'])\n",
    "plt.xlabel('Fraud')\n",
    "plt.show()"
   ]
  },
  {
   "cell_type": "code",
   "execution_count": 18,
   "metadata": {},
   "outputs": [
    {
     "name": "stderr",
     "output_type": "stream",
     "text": [
      "/home/yichenzhang/anaconda3/envs/ece5831-py3.10/lib/python3.10/site-packages/seaborn/_oldcore.py:1498: FutureWarning: is_categorical_dtype is deprecated and will be removed in a future version. Use isinstance(dtype, CategoricalDtype) instead\n",
      "  if pd.api.types.is_categorical_dtype(vector):\n"
     ]
    },
    {
     "data": {
      "image/png": "[encoded data removed]",
      "text/plain": [
       "<Figure size 200x800 with 1 Axes>"
      ]
     },
     "metadata": {},
     "output_type": "display_data"
    }
   ],
   "source": [
    "sns.boxplot(y=df['Amount'])\n",
    "plt.xlabel('Not Fraud')\n",
    "plt.show()"
   ]
  },
  {
   "cell_type": "code",
   "execution_count": 24,
   "metadata": {},
   "outputs": [],
   "source": [
    "sns.set(rc={'figure.figsize': (8, 5)})"
   ]
  },
  {
   "cell_type": "code",
   "execution_count": 25,
   "metadata": {},
   "outputs": [
    {
     "name": "stderr",
     "output_type": "stream",
     "text": [
      "/home/yichenzhang/anaconda3/envs/ece5831-py3.10/lib/python3.10/site-packages/seaborn/_oldcore.py:1498: FutureWarning: is_categorical_dtype is deprecated and will be removed in a future version. Use isinstance(dtype, CategoricalDtype) instead\n",
      "  if pd.api.types.is_categorical_dtype(vector):\n",
      "/home/yichenzhang/anaconda3/envs/ece5831-py3.10/lib/python3.10/site-packages/seaborn/_oldcore.py:1498: FutureWarning: is_categorical_dtype is deprecated and will be removed in a future version. Use isinstance(dtype, CategoricalDtype) instead\n",
      "  if pd.api.types.is_categorical_dtype(vector):\n",
      "/home/yichenzhang/anaconda3/envs/ece5831-py3.10/lib/python3.10/site-packages/seaborn/_oldcore.py:1119: FutureWarning: use_inf_as_na option is deprecated and will be removed in a future version. Convert inf values to NaN before operating instead.\n",
      "  with pd.option_context('mode.use_inf_as_na', True):\n"
     ]
    },
    {
     "data": {
      "image/png": "[encoded data removed]",
      "text/plain": [
       "<Figure size 800x500 with 1 Axes>"
      ]
     },
     "metadata": {},
     "output_type": "display_data"
    }
   ],
   "source": [
    "sns.histplot(data=fdf['Use Chip'])\n",
    "plt.show()"
   ]
  },
  {
   "cell_type": "code",
   "execution_count": 26,
   "metadata": {},
   "outputs": [
    {
     "name": "stderr",
     "output_type": "stream",
     "text": [
      "/home/yichenzhang/anaconda3/envs/ece5831-py3.10/lib/python3.10/site-packages/seaborn/_oldcore.py:1498: FutureWarning: is_categorical_dtype is deprecated and will be removed in a future version. Use isinstance(dtype, CategoricalDtype) instead\n",
      "  if pd.api.types.is_categorical_dtype(vector):\n",
      "/home/yichenzhang/anaconda3/envs/ece5831-py3.10/lib/python3.10/site-packages/seaborn/_oldcore.py:1498: FutureWarning: is_categorical_dtype is deprecated and will be removed in a future version. Use isinstance(dtype, CategoricalDtype) instead\n",
      "  if pd.api.types.is_categorical_dtype(vector):\n",
      "/home/yichenzhang/anaconda3/envs/ece5831-py3.10/lib/python3.10/site-packages/seaborn/_oldcore.py:1119: FutureWarning: use_inf_as_na option is deprecated and will be removed in a future version. Convert inf values to NaN before operating instead.\n",
      "  with pd.option_context('mode.use_inf_as_na', True):\n"
     ]
    },
    {
     "data": {
      "image/png": "[encoded data removed]",
      "text/plain": [
       "<Figure size 800x500 with 1 Axes>"
      ]
     },
     "metadata": {},
     "output_type": "display_data"
    }
   ],
   "source": [
    "sns.histplot(data=df['Use Chip'])\n",
    "plt.show()"
   ]
  },
  {
   "cell_type": "code",
   "execution_count": 21,
   "metadata": {},
   "outputs": [
    {
     "data": {
      "text/html": [
       "<div>\n",
       "<style scoped>\n",
       "    .dataframe tbody tr th:only-of-type {\n",
       "        vertical-align: middle;\n",
       "    }\n",
       "\n",
       "    .dataframe tbody tr th {\n",
       "        vertical-align: top;\n",
       "    }\n",
       "\n",
       "    .dataframe thead th {\n",
       "        text-align: right;\n",
       "    }\n",
       "</style>\n",
       "<table border=\"1\" class=\"dataframe\">\n",
       "  <thead>\n",
       "    <tr style=\"text-align: right;\">\n",
       "      <th></th>\n",
       "      <th>User</th>\n",
       "      <th>Card</th>\n",
       "      <th>Amount</th>\n",
       "      <th>Use_Chip</th>\n",
       "      <th>Merchant_Name</th>\n",
       "      <th>Merchant_City</th>\n",
       "      <th>Merchant_State</th>\n",
       "      <th>Zip</th>\n",
       "      <th>MCC</th>\n",
       "      <th>Errors</th>\n",
       "      <th>Is_Fraud</th>\n",
       "      <th>Datetime</th>\n",
       "    </tr>\n",
       "  </thead>\n",
       "  <tbody>\n",
       "    <tr>\n",
       "      <th>451317</th>\n",
       "      <td>1236</td>\n",
       "      <td>1</td>\n",
       "      <td>171.74</td>\n",
       "      <td>Swipe</td>\n",
       "      <td>440050626</td>\n",
       "      <td>Jacksonville</td>\n",
       "      <td>FL</td>\n",
       "      <td>32218.00</td>\n",
       "      <td>5732</td>\n",
       "      <td>NaN</td>\n",
       "      <td>True</td>\n",
       "      <td>1996-07-05 11:11:00</td>\n",
       "    </tr>\n",
       "    <tr>\n",
       "      <th>451318</th>\n",
       "      <td>1236</td>\n",
       "      <td>1</td>\n",
       "      <td>119.30</td>\n",
       "      <td>Swipe</td>\n",
       "      <td>2081821369</td>\n",
       "      <td>Titusville</td>\n",
       "      <td>FL</td>\n",
       "      <td>32796.00</td>\n",
       "      <td>5816</td>\n",
       "      <td>NaN</td>\n",
       "      <td>True</td>\n",
       "      <td>1996-07-05 12:53:00</td>\n",
       "    </tr>\n",
       "  </tbody>\n",
       "</table>\n",
       "</div>"
      ],
      "text/plain": [
       "        User  Card  Amount Use_Chip  Merchant_Name Merchant_City  \\\n",
       "451317  1236     1  171.74    Swipe      440050626  Jacksonville   \n",
       "451318  1236     1  119.30    Swipe     2081821369    Titusville   \n",
       "\n",
       "       Merchant_State      Zip   MCC Errors  Is_Fraud            Datetime  \n",
       "451317             FL 32218.00  5732    NaN      True 1996-07-05 11:11:00  \n",
       "451318             FL 32796.00  5816    NaN      True 1996-07-05 12:53:00  "
      ]
     },
     "execution_count": 21,
     "metadata": {},
     "output_type": "execute_result"
    }
   ],
   "source": [
    "fdf.head(2)"
   ]
  },
  {
   "cell_type": "code",
   "execution_count": 26,
   "metadata": {},
   "outputs": [
    {
     "name": "stderr",
     "output_type": "stream",
     "text": [
      "/home/yichenzhang/anaconda3/envs/ece5831-py3.10/lib/python3.10/site-packages/seaborn/_oldcore.py:1498: FutureWarning: is_categorical_dtype is deprecated and will be removed in a future version. Use isinstance(dtype, CategoricalDtype) instead\n",
      "  if pd.api.types.is_categorical_dtype(vector):\n",
      "/home/yichenzhang/anaconda3/envs/ece5831-py3.10/lib/python3.10/site-packages/seaborn/_oldcore.py:1498: FutureWarning: is_categorical_dtype is deprecated and will be removed in a future version. Use isinstance(dtype, CategoricalDtype) instead\n",
      "  if pd.api.types.is_categorical_dtype(vector):\n"
     ]
    },
    {
     "data": {
      "image/png": "[encoded data removed]",
      "text/plain": [
       "<Figure size 1800x500 with 1 Axes>"
      ]
     },
     "metadata": {},
     "output_type": "display_data"
    }
   ],
   "source": [
    "plt.figure(figsize=(18,5))\n",
    "sns.scatterplot(x=fdf['Datetime'], y=fdf['Amount'])\n",
    "plt.show()"
   ]
  },
  {
   "cell_type": "code",
   "execution_count": 27,
   "metadata": {},
   "outputs": [
    {
     "data": {
      "text/html": [
       "<div>\n",
       "<style scoped>\n",
       "    .dataframe tbody tr th:only-of-type {\n",
       "        vertical-align: middle;\n",
       "    }\n",
       "\n",
       "    .dataframe tbody tr th {\n",
       "        vertical-align: top;\n",
       "    }\n",
       "\n",
       "    .dataframe thead th {\n",
       "        text-align: right;\n",
       "    }\n",
       "</style>\n",
       "<table border=\"1\" class=\"dataframe\">\n",
       "  <thead>\n",
       "    <tr style=\"text-align: right;\">\n",
       "      <th></th>\n",
       "      <th>User</th>\n",
       "      <th>Card</th>\n",
       "      <th>Amount</th>\n",
       "      <th>Merchant_Name</th>\n",
       "      <th>Zip</th>\n",
       "      <th>MCC</th>\n",
       "      <th>Datetime</th>\n",
       "    </tr>\n",
       "  </thead>\n",
       "  <tbody>\n",
       "    <tr>\n",
       "      <th>count</th>\n",
       "      <td>55.00</td>\n",
       "      <td>55.00</td>\n",
       "      <td>55.00</td>\n",
       "      <td>55.00</td>\n",
       "      <td>0.00</td>\n",
       "      <td>55.00</td>\n",
       "      <td>55</td>\n",
       "    </tr>\n",
       "    <tr>\n",
       "      <th>mean</th>\n",
       "      <td>804.73</td>\n",
       "      <td>0.93</td>\n",
       "      <td>113.00</td>\n",
       "      <td>-10509528.78</td>\n",
       "      <td>NaN</td>\n",
       "      <td>4993.95</td>\n",
       "      <td>2011-01-04 12:45:04.363636480</td>\n",
       "    </tr>\n",
       "    <tr>\n",
       "      <th>min</th>\n",
       "      <td>148.00</td>\n",
       "      <td>0.00</td>\n",
       "      <td>-490.00</td>\n",
       "      <td>-2113554858.00</td>\n",
       "      <td>NaN</td>\n",
       "      <td>3008.00</td>\n",
       "      <td>2011-01-01 04:23:00</td>\n",
       "    </tr>\n",
       "    <tr>\n",
       "      <th>25%</th>\n",
       "      <td>473.00</td>\n",
       "      <td>0.00</td>\n",
       "      <td>43.66</td>\n",
       "      <td>-997347869.50</td>\n",
       "      <td>NaN</td>\n",
       "      <td>4421.50</td>\n",
       "      <td>2011-01-03 10:04:00</td>\n",
       "    </tr>\n",
       "    <tr>\n",
       "      <th>50%</th>\n",
       "      <td>848.00</td>\n",
       "      <td>1.00</td>\n",
       "      <td>99.89</td>\n",
       "      <td>38861438.00</td>\n",
       "      <td>NaN</td>\n",
       "      <td>5300.00</td>\n",
       "      <td>2011-01-04 06:03:00</td>\n",
       "    </tr>\n",
       "    <tr>\n",
       "      <th>75%</th>\n",
       "      <td>1122.00</td>\n",
       "      <td>2.00</td>\n",
       "      <td>232.20</td>\n",
       "      <td>907190995.00</td>\n",
       "      <td>NaN</td>\n",
       "      <td>5719.00</td>\n",
       "      <td>2011-01-04 13:15:30</td>\n",
       "    </tr>\n",
       "    <tr>\n",
       "      <th>max</th>\n",
       "      <td>1739.00</td>\n",
       "      <td>2.00</td>\n",
       "      <td>920.47</td>\n",
       "      <td>2080935213.00</td>\n",
       "      <td>NaN</td>\n",
       "      <td>7011.00</td>\n",
       "      <td>2011-01-12 09:37:00</td>\n",
       "    </tr>\n",
       "    <tr>\n",
       "      <th>std</th>\n",
       "      <td>528.65</td>\n",
       "      <td>0.92</td>\n",
       "      <td>258.05</td>\n",
       "      <td>1172076135.68</td>\n",
       "      <td>NaN</td>\n",
       "      <td>928.38</td>\n",
       "      <td>NaN</td>\n",
       "    </tr>\n",
       "  </tbody>\n",
       "</table>\n",
       "</div>"
      ],
      "text/plain": [
       "         User  Card  Amount  Merchant_Name  Zip     MCC  \\\n",
       "count   55.00 55.00   55.00          55.00 0.00   55.00   \n",
       "mean   804.73  0.93  113.00   -10509528.78  NaN 4993.95   \n",
       "min    148.00  0.00 -490.00 -2113554858.00  NaN 3008.00   \n",
       "25%    473.00  0.00   43.66  -997347869.50  NaN 4421.50   \n",
       "50%    848.00  1.00   99.89    38861438.00  NaN 5300.00   \n",
       "75%   1122.00  2.00  232.20   907190995.00  NaN 5719.00   \n",
       "max   1739.00  2.00  920.47  2080935213.00  NaN 7011.00   \n",
       "std    528.65  0.92  258.05  1172076135.68  NaN  928.38   \n",
       "\n",
       "                            Datetime  \n",
       "count                             55  \n",
       "mean   2011-01-04 12:45:04.363636480  \n",
       "min              2011-01-01 04:23:00  \n",
       "25%              2011-01-03 10:04:00  \n",
       "50%              2011-01-04 06:03:00  \n",
       "75%              2011-01-04 13:15:30  \n",
       "max              2011-01-12 09:37:00  \n",
       "std                              NaN  "
      ]
     },
     "execution_count": 27,
     "metadata": {},
     "output_type": "execute_result"
    }
   ],
   "source": [
    "fdf.loc[(fdf['Datetime'] >= '2011-01-01') & (fdf['Datetime'] < '2012-01-01')].describe()"
   ]
  }
 ],
 "metadata": {
  "kernelspec": {
   "display_name": "ece5831-py3.10",
   "language": "python",
   "name": "python3"
  },
  "language_info": {
   "codemirror_mode": {
    "name": "ipython",
    "version": 3
   },
   "file_extension": ".py",
   "mimetype": "text/x-python",
   "name": "python",
   "nbconvert_exporter": "python",
   "pygments_lexer": "ipython3",
   "version": "3.10.13"
  }
 },
 "nbformat": 4,
 "nbformat_minor": 2
}
